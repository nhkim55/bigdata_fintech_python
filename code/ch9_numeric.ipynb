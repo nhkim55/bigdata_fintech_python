{
 "cells": [
  {
   "cell_type": "markdown",
   "metadata": {
    "id": "xXy2_DaBJXeD"
   },
   "source": [
    "# Data handling"
   ]
  },
  {
   "cell_type": "markdown",
   "metadata": {
    "id": "eiBS7nl-JIeB"
   },
   "source": [
    "이 노트북을 주피터 노트북 뷰어(nbviewer.jupyter.org)로 보거나 구글 코랩(colab.research.google.com)에서 실행할 수 있습니다.\n",
    "\n",
    "<table class=\"tfo-notebook-buttons\" align=\"left\">\n",
    "  <td>\n",
    "    <a target=\"_blank\" href=\"https://nbviewer.jupyter.org/github/nhkim55/bigdata_fintech_python/blob/main/code/ch9_numeric.ipynb\"><img src=\"https://jupyter.org/assets/share.png\" width=\"60\" />주피터 노트북 뷰어로 보기</a>\n",
    "  </td>\n",
    "  <td>\n",
    "    <a target=\"_blank\" href=\"https://colab.research.google.com/github/nhkim55/bigdata_fintech_python/blob/main/code/ch9_numeric.ipynb\"><img src=\"https://www.tensorflow.org/images/colab_logo_32px.png\" />구글 코랩(Colab)에서 실행하기</a>\n",
    "  </td>\n",
    "</table>"
   ]
  },
  {
   "cell_type": "markdown",
   "metadata": {
    "id": "sKYiLzPuJId8"
   },
   "source": [
    "# 수치형 데이터 다루기"
   ]
  },
  {
   "cell_type": "markdown",
   "metadata": {
    "id": "kzF6m2Nkf9qh"
   },
   "source": [
    "* 정량적 데이터(quantitative data)란 반별 학생수나 월간 매출, 시험점수와 같이 어떤 것을 측량한 결과\n",
    "* 숫자로 표현됨\n",
    "* 수치형 자료를 머신러닝에 적합한 특성으로 변환하는 다양한 전략들에 대해서 소개\n",
    "\n"
   ]
  },
  {
   "cell_type": "markdown",
   "metadata": {
    "id": "eYEpJRpWJIeC"
   },
   "source": [
    "## 특성 스케일 바꾸기"
   ]
  },
  {
   "cell_type": "markdown",
   "metadata": {
    "id": "aqwWbnKOSH8e"
   },
   "source": [
    "* 대부분의 알고리즘은 모든 특성이 동일한 스케일을 가지고 있다고 가정\n",
    "* 스케일 조정은 머신러닝에서 흔한 전처리 작업\n",
    "* 사이킷런의 MinMaxScaler를 사용해 수치형 특성이 두 값의 범위 안에 놓이도록 스케일(scale) 변경\n"
   ]
  },
  {
   "cell_type": "code",
   "execution_count": 1,
   "metadata": {
    "colab": {
     "base_uri": "https://localhost:8080/"
    },
    "executionInfo": {
     "elapsed": 840,
     "status": "ok",
     "timestamp": 1610538546493,
     "user": {
      "displayName": "Namhyoung Kim",
      "photoUrl": "",
      "userId": "10452528424857445283"
     },
     "user_tz": -540
    },
    "id": "mqSfkiw5JIeC",
    "outputId": "0645c899-b61f-47ed-f101-6ddd3df7e520"
   },
   "outputs": [
    {
     "data": {
      "text/plain": [
       "array([[0.        ],\n",
       "       [0.28571429],\n",
       "       [0.35714286],\n",
       "       [0.42857143],\n",
       "       [1.        ]])"
      ]
     },
     "execution_count": 1,
     "metadata": {},
     "output_type": "execute_result"
    }
   ],
   "source": [
    "# 라이브러리를 임포트합니다.\n",
    "import numpy as np\n",
    "from sklearn import preprocessing\n",
    "\n",
    "# 특성을 만듭니다.\n",
    "feature = np.array([[-500.5],\n",
    "                    [-100.1],\n",
    "                    [0],\n",
    "                    [100.1],\n",
    "                    [900.9]])\n",
    "\n",
    "# 스케일러 객체를 만듭니다.\n",
    "minmax_scale = preprocessing.MinMaxScaler(feature_range=(0, 1))\n",
    "\n",
    "# 특성의 스케일을 변환합니다.\n",
    "scaled_feature = minmax_scale.fit_transform(feature)\n",
    "\n",
    "# 특성을 출력합니다.\n",
    "scaled_feature"
   ]
  },
  {
   "cell_type": "markdown",
   "metadata": {
    "id": "hNELHpPAiCqe"
   },
   "source": [
    "* 스케일 조정 방법은 다양한데 가장 간단한 방법은 최소-최대 스케일링(min-max scaling)\n",
    "* 최소-최대 스케일링은 특성의 최솟값과 최댓값을 사용하여 일정 범위 안으로 값을 조정\n",
    "    * 다음과 같이 계산\n",
    "$$x_i'=\\frac{x_i-\\min(x)}{\\max(x)-\\min(x)}$$\n",
    "    $x$는 특성 벡터이고 $x_i$는 개별 원소, $x_i'$는 스케일이 바뀐 원소\n",
    "\n",
    "* 예제에서는 출력 배열의 스케일이 0에서 1사이로 변한 것을 확인할 수 있음  \n",
    "---\n"
   ]
  },
  {
   "cell_type": "markdown",
   "metadata": {
    "id": "ubkGvIKZAWxQ"
   },
   "source": [
    "* 사이킷런의 **MinMaxScaler**는 특성 스케일을 위해 두가지 방법 제공\n",
    "    1. **fit** 메서드를 사용해 특성의 최솟값과 최댓값 계산한 다음 **transform** 메서드로 특성의 스케일을 조정\n",
    "    2.   **fit_transform** 메서드로 두 연산을 한번에 처리\n",
    "\n",
    "* 두 방법 사이에 계산상의 차이는 없음\n",
    "* 동일한 변환을 다른 데이터 세트에 적용하려면 **fit** 메서드와 **transform** 메서드를 따로 호출해야 함\n",
    "\n"
   ]
  },
  {
   "cell_type": "markdown",
   "metadata": {
    "id": "4AozRqxHnw0j"
   },
   "source": [
    "* [특성 스케일링, 위키피디아](https://ko.wikipedia.org/wiki/%ED%94%BC%EC%B3%90_%EC%8A%A4%EC%BC%80%EC%9D%BC%EB%A7%81)\n",
    "* [특성 스케일링과 정규화](https://sebastianraschka.com/Articles/2014_about_feature_scaling.html)"
   ]
  },
  {
   "cell_type": "markdown",
   "metadata": {
    "id": "3z20gty5JIeD"
   },
   "source": [
    "### 붙임"
   ]
  },
  {
   "cell_type": "markdown",
   "metadata": {
    "id": "QR01k1Aumc2c"
   },
   "source": [
    "* 머신 러닝을 위해서는 자료를 훈련 세트(training set)와 테스트 세트(test set)로 분리해야 함\n",
    "    * 훈련 세트는 모형을 학습시킬 때 사용되는 데이터 세트이며 테스트 세트는 훈련된 모형의 일반화 성능을 평가하기 위한 데이터 세트\n",
    "\n",
    "\n",
    "\n",
    "\n",
    "* 훈련 세트와 테스트 세트의 스케일을 따로 조정하면 안됨\n",
    "* 예를 들어 훈련 세트의 스케일을 조정하고자 구한 최솟값과 최댓값을 사용하여 테스트 세트를 변환해야 함\n"
   ]
  },
  {
   "cell_type": "markdown",
   "metadata": {
    "id": "TiUqqahNFH70"
   },
   "source": [
    "feature의 처음 세개를 훈련 세트, 나머지 두개를 테스트 세트라고 가정\n"
   ]
  },
  {
   "cell_type": "code",
   "execution_count": 2,
   "metadata": {
    "colab": {
     "base_uri": "https://localhost:8080/"
    },
    "executionInfo": {
     "elapsed": 2024,
     "status": "ok",
     "timestamp": 1609776479694,
     "user": {
      "displayName": "Namhyoung Kim",
      "photoUrl": "",
      "userId": "10452528424857445283"
     },
     "user_tz": -540
    },
    "id": "xI8p8LpnJIeE",
    "outputId": "edbaf25d-af35-4883-aaef-33c4c8352c95"
   },
   "outputs": [
    {
     "data": {
      "text/plain": [
       "array([[0. ],\n",
       "       [0.8],\n",
       "       [1. ]])"
      ]
     },
     "execution_count": 2,
     "metadata": {},
     "output_type": "execute_result"
    }
   ],
   "source": [
    "# 훈련 세트를 변환합니다.\n",
    "preprocessing.MinMaxScaler().fit_transform(feature[:3])"
   ]
  },
  {
   "cell_type": "code",
   "execution_count": 3,
   "metadata": {
    "colab": {
     "base_uri": "https://localhost:8080/"
    },
    "executionInfo": {
     "elapsed": 2018,
     "status": "ok",
     "timestamp": 1609776479695,
     "user": {
      "displayName": "Namhyoung Kim",
      "photoUrl": "",
      "userId": "10452528424857445283"
     },
     "user_tz": -540
    },
    "id": "N3Y15XaFJIeE",
    "outputId": "5ee86c46-149c-4c45-ef55-8d514eddd180"
   },
   "outputs": [
    {
     "data": {
      "text/plain": [
       "array([[0.],\n",
       "       [1.]])"
      ]
     },
     "execution_count": 3,
     "metadata": {},
     "output_type": "execute_result"
    }
   ],
   "source": [
    "# 테스트 세트를 변환합니다.\n",
    "preprocessing.MinMaxScaler().fit_transform(feature[3:])"
   ]
  },
  {
   "cell_type": "markdown",
   "metadata": {
    "id": "0NgONO_k_Rpc"
   },
   "source": [
    "\n",
    "\n",
    "* 훈련 세트는 [-500.5, -100.1, 0], 테스트 세트는 [100.1, 900.9] 인데 변환 후 훈련 세트의 0과 테스트 세트의 900.9가 모두 1로 변환됨\n",
    "\n",
    "* 데이터가 다른 스케일로 변환되면 훈련 세트에서 학습한 모델을 테스트 세트에서 사용할 수 없음\n",
    "\n"
   ]
  },
  {
   "cell_type": "code",
   "execution_count": 6,
   "metadata": {
    "colab": {
     "base_uri": "https://localhost:8080/"
    },
    "executionInfo": {
     "elapsed": 2011,
     "status": "ok",
     "timestamp": 1609776479696,
     "user": {
      "displayName": "Namhyoung Kim",
      "photoUrl": "",
      "userId": "10452528424857445283"
     },
     "user_tz": -540
    },
    "id": "ZId8SKiEJIeF",
    "outputId": "77c77a53-b7f4-4271-df60-e242d6b62426"
   },
   "outputs": [
    {
     "data": {
      "text/plain": [
       "array([[0. ],\n",
       "       [0.8],\n",
       "       [1. ]])"
      ]
     },
     "execution_count": 6,
     "metadata": {},
     "output_type": "execute_result"
    }
   ],
   "source": [
    "# 훈련 세트로 변환기를 학습합니다.\n",
    "scaler = preprocessing.MinMaxScaler().fit(feature[:3])\n",
    "scaler.transform(feature[:3])"
   ]
  },
  {
   "cell_type": "code",
   "execution_count": 7,
   "metadata": {
    "colab": {
     "base_uri": "https://localhost:8080/"
    },
    "executionInfo": {
     "elapsed": 2006,
     "status": "ok",
     "timestamp": 1609776479696,
     "user": {
      "displayName": "Namhyoung Kim",
      "photoUrl": "",
      "userId": "10452528424857445283"
     },
     "user_tz": -540
    },
    "id": "CZtN8YZeJIeF",
    "outputId": "8f7ac81c-acd2-4660-d682-0e8942806415"
   },
   "outputs": [
    {
     "data": {
      "text/plain": [
       "array([[1.2],\n",
       "       [2.8]])"
      ]
     },
     "execution_count": 7,
     "metadata": {},
     "output_type": "execute_result"
    }
   ],
   "source": [
    "# 훈련 세트에서 학습한 변환기로 테스트 세트를 변환합니다.\n",
    "scaler.transform(feature[3:])"
   ]
  },
  {
   "cell_type": "markdown",
   "metadata": {
    "id": "Ed9PJyenLYx9"
   },
   "source": [
    "* 훈련세트를 학습한 변환기 객체를 사용하여 원본 데이터셋과 동일한 비율로 테스트 세트를 변환"
   ]
  },
  {
   "cell_type": "markdown",
   "metadata": {
    "id": "DzvrkbSd-XoH"
   },
   "source": [
    "* 다음과 같은 train_test_split 함수를 이용하여 훈련세트와 테스트세트 분리 가능"
   ]
  },
  {
   "cell_type": "markdown",
   "metadata": {
    "id": "KGIBF12595zQ"
   },
   "source": [
    "\n",
    "\n",
    "``` python\n",
    "from sklearn.model_selection import train_test_split\n",
    "X_train, X_test, Y_train, Y_test = train_test_split(X,Y, test_size=0.3) \n",
    "```\n",
    "\n"
   ]
  },
  {
   "cell_type": "markdown",
   "metadata": {
    "id": "AgEbi0d4JIeF"
   },
   "source": [
    "## 특성 표준화"
   ]
  },
  {
   "cell_type": "markdown",
   "metadata": {
    "id": "5zBmhxRuMc3q"
   },
   "source": [
    "* 사이킷런의 **StandardScaler**를 사용하여 특성을 평균이 0이고 표준편차가 1이 되도록 변환"
   ]
  },
  {
   "cell_type": "code",
   "execution_count": 8,
   "metadata": {
    "colab": {
     "base_uri": "https://localhost:8080/"
    },
    "executionInfo": {
     "elapsed": 2000,
     "status": "ok",
     "timestamp": 1609776479696,
     "user": {
      "displayName": "Namhyoung Kim",
      "photoUrl": "",
      "userId": "10452528424857445283"
     },
     "user_tz": -540
    },
    "id": "niqdVdzmJIeG",
    "outputId": "fbac8de8-e959-44db-fb28-3b82d43d3e30"
   },
   "outputs": [
    {
     "data": {
      "text/plain": [
       "array([[-0.76058269],\n",
       "       [-0.54177196],\n",
       "       [-0.35009716],\n",
       "       [-0.32271504],\n",
       "       [ 1.97516685]])"
      ]
     },
     "execution_count": 8,
     "metadata": {},
     "output_type": "execute_result"
    }
   ],
   "source": [
    "# 라이브러리를 임포트합니다.\n",
    "import numpy as np\n",
    "from sklearn import preprocessing\n",
    "\n",
    "# 특성을 만듭니다.\n",
    "x = np.array([[-1000.1],\n",
    "              [-200.2],\n",
    "              [500.5],\n",
    "              [600.6],\n",
    "              [9000.9]])\n",
    "\n",
    "# 변환기 객체를 만듭니다.\n",
    "scaler = preprocessing.StandardScaler()\n",
    "\n",
    "# 특성을 변환합니다.\n",
    "standardized = scaler.fit_transform(x)\n",
    "\n",
    "# 특성을 출력합니다.\n",
    "standardized"
   ]
  },
  {
   "cell_type": "markdown",
   "metadata": {
    "id": "1N7RoQOSM4ar"
   },
   "source": [
    "* 최소-최대 스케일링과 함께 특성을 표준 정규분포로 근사하는 스케일링 방식이 자주 쓰임\n",
    "* 표준화를 사용하여 데이터의 평균 $\\bar{x}$가 0이고 표준편차 $\\sigma$가 1이 되도록 변환\n",
    "    * 다음과 같이 변환\n",
    "    $$x_i'=\\frac{x_i-\\bar{x}}{\\sigma}$$\n",
    "    $x'_i$는 $x_i$의 표준화된 형태\n",
    "    * 변환된 특성은 원본 값이 특성 평균에서 몇 표준편차만큼 떨어져 있는지로 표현(통계학에서는 z-점수라고도 부름)\n",
    "    "
   ]
  },
  {
   "cell_type": "markdown",
   "metadata": {
    "id": "iNEWwmQTOD_e"
   },
   "source": [
    "* 표준화는 머신러닝의 일반적인 전처리 단계에서 사용할 수 있는 믿을 만한 스케일링 방법\n",
    "* 최소-최대 스케일링보다 일반적으로 쓰임\n",
    "* 하지만 학습 알고리즘에 의존적\n",
    "    * 예를 들어 주성분 분석은 표준화가 잘 맞지만 신경망에서는 최소-최대 스케일링을 종종 권장함\n",
    "    * 일반적으로 다른 방법을 사용할 특별한 이유가 없다면 기본으로 표준화를 권장\n",
    "    "
   ]
  },
  {
   "cell_type": "code",
   "execution_count": 9,
   "metadata": {
    "colab": {
     "base_uri": "https://localhost:8080/"
    },
    "executionInfo": {
     "elapsed": 1996,
     "status": "ok",
     "timestamp": 1609776479697,
     "user": {
      "displayName": "Namhyoung Kim",
      "photoUrl": "",
      "userId": "10452528424857445283"
     },
     "user_tz": -540
    },
    "id": "0V-8qtcDJIeG",
    "outputId": "b938d95e-91c2-4c61-d760-0ae980fd1c38"
   },
   "outputs": [
    {
     "name": "stdout",
     "output_type": "stream",
     "text": [
      "평균 Mean: 0.0\n",
      "표준 편차 Standard deviation: 1.0\n"
     ]
    }
   ],
   "source": [
    "# 평균과 표준 편차를 출력합니다.\n",
    "print(\"평균 Mean:\", round(standardized.mean()))\n",
    "print(\"표준 편차 Standard deviation:\", standardized.std())"
   ]
  },
  {
   "cell_type": "markdown",
   "metadata": {
    "id": "pEt_rWXuOw2V"
   },
   "source": [
    "* 데이터에 이상치가 많다면 특성의 평균과 표준편차에 영향을 미치기 때문에 표준화에 부정적인 효과를 끼침\n",
    "* 이런 경우에는 중간값과 사분위 범위를 사용하여 특성의 스케일을 조정\n",
    "* 사이킷런의 **RobustScaler**가 이런 방법을 제공"
   ]
  },
  {
   "cell_type": "code",
   "execution_count": 10,
   "metadata": {
    "colab": {
     "base_uri": "https://localhost:8080/"
    },
    "executionInfo": {
     "elapsed": 1992,
     "status": "ok",
     "timestamp": 1609776479697,
     "user": {
      "displayName": "Namhyoung Kim",
      "photoUrl": "",
      "userId": "10452528424857445283"
     },
     "user_tz": -540
    },
    "id": "aZ_IGx4UJIeG",
    "outputId": "38b31e5f-419c-4855-9840-bc22c4bc74ac"
   },
   "outputs": [
    {
     "data": {
      "text/plain": [
       "array([[-1.87387612],\n",
       "       [-0.875     ],\n",
       "       [ 0.        ],\n",
       "       [ 0.125     ],\n",
       "       [10.61488511]])"
      ]
     },
     "execution_count": 10,
     "metadata": {},
     "output_type": "execute_result"
    }
   ],
   "source": [
    "# 변환기 객체를 만듭니다.\n",
    "robust_scaler = preprocessing.RobustScaler()\n",
    "\n",
    "# 특성을 변환합니다.\n",
    "robust_scaler.fit_transform(x)"
   ]
  },
  {
   "cell_type": "markdown",
   "metadata": {
    "id": "73yQoCsAJIeH"
   },
   "source": [
    "### 붙임"
   ]
  },
  {
   "cell_type": "markdown",
   "metadata": {
    "id": "uXxv8xm5SwsH"
   },
   "source": [
    "* 데이터를 오름차순으로 나열했을 때 75%에 위치한 값(3사분위수)과 25%에 위치한 값(1사분위수)의 차를 사분위범위(interquatile range, IQR)이라고 함\n",
    "* RobustScaler는 데이터에서 중간값을 빼고 IQR로 나눔"
   ]
  },
  {
   "cell_type": "code",
   "execution_count": 11,
   "metadata": {
    "colab": {
     "base_uri": "https://localhost:8080/"
    },
    "executionInfo": {
     "elapsed": 1988,
     "status": "ok",
     "timestamp": 1609776479697,
     "user": {
      "displayName": "Namhyoung Kim",
      "photoUrl": "",
      "userId": "10452528424857445283"
     },
     "user_tz": -540
    },
    "id": "pBKbfpKVJIeH",
    "outputId": "7e54fa2e-dd0e-4073-f48b-9d77a5a0ac96"
   },
   "outputs": [
    {
     "data": {
      "text/plain": [
       "array([[-1.87387612],\n",
       "       [-0.875     ],\n",
       "       [ 0.        ],\n",
       "       [ 0.125     ],\n",
       "       [10.61488511]])"
      ]
     },
     "execution_count": 11,
     "metadata": {},
     "output_type": "execute_result"
    }
   ],
   "source": [
    "interquatile_range = x[3] - x[1]\n",
    "(x - np.median(x)) / interquatile_range"
   ]
  },
  {
   "cell_type": "markdown",
   "metadata": {
    "id": "7cHzJj5yVQ9I"
   },
   "source": [
    "* QuantileTransformer는 훈련 데이터를 1,000개의 분위로 나누어 0~~1 사이에 고르게 분포시킴으로써 이상치로 인한 영향을 줄임\n",
    "* 예를 들어 특성 x는 다섯개의 샘플을 가지고 있으므로 0%, 25%, 50%, 75%, 100%의 위치에 할당"
   ]
  },
  {
   "cell_type": "code",
   "execution_count": 12,
   "metadata": {
    "colab": {
     "base_uri": "https://localhost:8080/"
    },
    "executionInfo": {
     "elapsed": 1984,
     "status": "ok",
     "timestamp": 1609776479698,
     "user": {
      "displayName": "Namhyoung Kim",
      "photoUrl": "",
      "userId": "10452528424857445283"
     },
     "user_tz": -540
    },
    "id": "31ldY2z1JIeH",
    "outputId": "c7b1ec9a-9ff1-4096-8add-34f74f8b6aab"
   },
   "outputs": [
    {
     "name": "stderr",
     "output_type": "stream",
     "text": [
      "C:\\Users\\nhkim\\anaconda3\\lib\\site-packages\\sklearn\\preprocessing\\_data.py:2367: UserWarning: n_quantiles (1000) is greater than the total number of samples (5). n_quantiles is set to n_samples.\n",
      "  warnings.warn(\"n_quantiles (%s) is greater than the total number \"\n"
     ]
    },
    {
     "data": {
      "text/plain": [
       "array([[0.  ],\n",
       "       [0.25],\n",
       "       [0.5 ],\n",
       "       [0.75],\n",
       "       [1.  ]])"
      ]
     },
     "execution_count": 12,
     "metadata": {},
     "output_type": "execute_result"
    }
   ],
   "source": [
    "preprocessing.QuantileTransformer().fit_transform(x)"
   ]
  },
  {
   "cell_type": "markdown",
   "metadata": {
    "id": "OdIfTNKBJIeI"
   },
   "source": [
    "## 정규화"
   ]
  },
  {
   "cell_type": "markdown",
   "metadata": {
    "id": "XDjwl1NiV8Ye"
   },
   "source": [
    "* norm 매개변수와 함께 Normalizer 클래스를 사용하여 샘플의 특성값을 전체 길이가 1인 단위 norm이 되도록 변환\n",
    "    * Norm 이란 선형대수에서 벡터의 크기를 측정하는 방법을 의미"
   ]
  },
  {
   "cell_type": "code",
   "execution_count": 13,
   "metadata": {
    "colab": {
     "base_uri": "https://localhost:8080/"
    },
    "executionInfo": {
     "elapsed": 1981,
     "status": "ok",
     "timestamp": 1609776479698,
     "user": {
      "displayName": "Namhyoung Kim",
      "photoUrl": "",
      "userId": "10452528424857445283"
     },
     "user_tz": -540
    },
    "id": "wBgoRMcIJIeI",
    "outputId": "3d3fde45-183b-44d3-9ac5-a9eac2da3c2b"
   },
   "outputs": [
    {
     "data": {
      "text/plain": [
       "array([[0.70710678, 0.70710678],\n",
       "       [0.30782029, 0.95144452],\n",
       "       [0.07405353, 0.99725427],\n",
       "       [0.04733062, 0.99887928],\n",
       "       [0.95709822, 0.28976368]])"
      ]
     },
     "execution_count": 13,
     "metadata": {},
     "output_type": "execute_result"
    }
   ],
   "source": [
    "# 라이브러리를 임포트합니다.\n",
    "import numpy as np\n",
    "from sklearn.preprocessing import Normalizer\n",
    "\n",
    "# 특성 행렬을 만듭니다.\n",
    "features = np.array([[0.5, 0.5],\n",
    "                     [1.1, 3.4],\n",
    "                     [1.5, 20.2],\n",
    "                     [1.63, 34.4],\n",
    "                     [10.9, 3.3]])\n",
    "\n",
    "# 변환기 객체를 만듭니다.\n",
    "normalizer = Normalizer(norm=\"l2\")\n",
    "\n",
    "# 특성 행렬을 변환합니다.\n",
    "normalizer.transform(features)"
   ]
  },
  {
   "cell_type": "markdown",
   "metadata": {
    "id": "D_pXSuIdXcR6"
   },
   "source": [
    "* 많은 스케일링 방법이 특성별로 적용되지만 샘플별로 스케일을 바꿀 수도 있음\n",
    "* Normalizer는 단위 norm(길이의 합이 1)이 되도록 개별 샘플의 값을 변환\n",
    "* 이런 종류의 스케일링은 유사한 특성이 많을 때 종종 사용(예를 들어 각 단어나 n개의 단어 그룹이 특성인 텍스트 분류)"
   ]
  },
  {
   "cell_type": "markdown",
   "metadata": {
    "id": "jMAHbvpGY9h5"
   },
   "source": [
    "* Normalizer는 세 가지 norm 옵션을 제공$.$\n",
    "    1. 기본값은 $L2$ norm(Euclidean norm), \"l2\"\n",
    "    2. $L1$ norm(Manhattan norm), \"l1\"\n",
    "    3. $L_\\infty$ (max norm), \"max\"\n",
    "\n",
    "\n"
   ]
  },
  {
   "cell_type": "markdown",
   "metadata": {
    "id": "RzCfi76WayqU"
   },
   "source": [
    "* $L2$ norm(유클리드 노름)\n",
    "$$||x||_2=\\sqrt{x_1^2+x_2^2+...+x_n^2}$$\n",
    "$x$는 개별 샘플이고 $x_n$는 샘플의 n번째 특성값"
   ]
  },
  {
   "cell_type": "code",
   "execution_count": 14,
   "metadata": {
    "colab": {
     "base_uri": "https://localhost:8080/"
    },
    "executionInfo": {
     "elapsed": 1978,
     "status": "ok",
     "timestamp": 1609776479699,
     "user": {
      "displayName": "Namhyoung Kim",
      "photoUrl": "",
      "userId": "10452528424857445283"
     },
     "user_tz": -540
    },
    "id": "41tsrhmfJIeI",
    "outputId": "1b90d1da-b275-41cf-da6e-bdca1558efa4"
   },
   "outputs": [
    {
     "data": {
      "text/plain": [
       "array([[0.70710678, 0.70710678],\n",
       "       [0.30782029, 0.95144452],\n",
       "       [0.07405353, 0.99725427],\n",
       "       [0.04733062, 0.99887928],\n",
       "       [0.95709822, 0.28976368]])"
      ]
     },
     "execution_count": 14,
     "metadata": {},
     "output_type": "execute_result"
    }
   ],
   "source": [
    "# 특성 행렬을 변환합니다.\n",
    "features_l2_norm = Normalizer(norm=\"l2\").transform(features)\n",
    "\n",
    "# 특성 행렬을 출력합니다.\n",
    "features_l2_norm"
   ]
  },
  {
   "cell_type": "markdown",
   "metadata": {
    "id": "3u2onNG4bWYx"
   },
   "source": [
    "* $L1$ norm(맨해튼 노름)\n",
    "$$||x||_1=\\sum_{i=1}^n|x_i|$$"
   ]
  },
  {
   "cell_type": "code",
   "execution_count": 15,
   "metadata": {
    "colab": {
     "base_uri": "https://localhost:8080/"
    },
    "executionInfo": {
     "elapsed": 1974,
     "status": "ok",
     "timestamp": 1609776479699,
     "user": {
      "displayName": "Namhyoung Kim",
      "photoUrl": "",
      "userId": "10452528424857445283"
     },
     "user_tz": -540
    },
    "id": "FgEp881TJIeJ",
    "outputId": "dfadaad5-e5a8-4472-8cef-af5d50b5f99f"
   },
   "outputs": [
    {
     "data": {
      "text/plain": [
       "array([[0.5       , 0.5       ],\n",
       "       [0.24444444, 0.75555556],\n",
       "       [0.06912442, 0.93087558],\n",
       "       [0.04524008, 0.95475992],\n",
       "       [0.76760563, 0.23239437]])"
      ]
     },
     "execution_count": 15,
     "metadata": {},
     "output_type": "execute_result"
    }
   ],
   "source": [
    "# 특성 행렬을 변환합니다.\n",
    "features_l1_norm = Normalizer(norm=\"l1\").transform(features)\n",
    "\n",
    "# 특성 행렬을 출력합니다.\n",
    "features_l1_norm"
   ]
  },
  {
   "cell_type": "markdown",
   "metadata": {
    "id": "676lSJFyOfYn"
   },
   "source": [
    "직관적으로 생각했을 때 L2 norm은 뉴욕의 두 지점 사이를 잇는 직선 거리로 볼 수 있음. \n",
    "L1 norm은 사람이 도로를 따라 걷는 것과 같음. 그래서 '맨해튼 노름' 또는 '택시 노름'으로 불림"
   ]
  },
  {
   "cell_type": "markdown",
   "metadata": {
    "id": "qkRz5BVLby6O"
   },
   "source": [
    "norm='l1'은 각 샘플 특성값의 합을 1로 만듬. 실제 이런 성질이 가끔 필요할 때가 있음"
   ]
  },
  {
   "cell_type": "code",
   "execution_count": 16,
   "metadata": {
    "colab": {
     "base_uri": "https://localhost:8080/"
    },
    "executionInfo": {
     "elapsed": 1971,
     "status": "ok",
     "timestamp": 1609776479700,
     "user": {
      "displayName": "Namhyoung Kim",
      "photoUrl": "",
      "userId": "10452528424857445283"
     },
     "user_tz": -540
    },
    "id": "SsKcs-lrJIeJ",
    "outputId": "4d93566c-4649-472a-8a91-928b06303158"
   },
   "outputs": [
    {
     "name": "stdout",
     "output_type": "stream",
     "text": [
      "첫 번째 샘플 값의 합: 1.0\n"
     ]
    }
   ],
   "source": [
    "# 합을 출력합니다.\n",
    "print(\"첫 번째 샘플 값의 합:\",\n",
    "   features_l1_norm[0, 0] + features_l1_norm[0, 1])"
   ]
  },
  {
   "cell_type": "markdown",
   "metadata": {
    "id": "3p7iFbPNJIeK"
   },
   "source": [
    "### 붙임"
   ]
  },
  {
   "cell_type": "markdown",
   "metadata": {
    "id": "TpEzPDAKPe9n"
   },
   "source": [
    "Normalizer는 행 단위로 변환되므로 fit메서드는 아무런 작업을 수행하지 않기 때문에 바로 transform 메서드를 사용할 수 있음. \n",
    "'l1'과 'l2' 옵션의 변환은 각 행의 L1 노름과 L2 노름을 구해 나누는 것"
   ]
  },
  {
   "cell_type": "code",
   "execution_count": 17,
   "metadata": {
    "colab": {
     "base_uri": "https://localhost:8080/"
    },
    "executionInfo": {
     "elapsed": 1967,
     "status": "ok",
     "timestamp": 1609776479700,
     "user": {
      "displayName": "Namhyoung Kim",
      "photoUrl": "",
      "userId": "10452528424857445283"
     },
     "user_tz": -540
    },
    "id": "pWqKEGRmJIeK",
    "outputId": "bf6e4c38-7a93-423f-ce3b-c02efe74a0a9"
   },
   "outputs": [
    {
     "data": {
      "text/plain": [
       "array([[0.5       , 0.5       ],\n",
       "       [0.24444444, 0.75555556],\n",
       "       [0.06912442, 0.93087558],\n",
       "       [0.04524008, 0.95475992],\n",
       "       [0.76760563, 0.23239437]])"
      ]
     },
     "execution_count": 17,
     "metadata": {},
     "output_type": "execute_result"
    }
   ],
   "source": [
    "# L1 노름을 사용한 변환.\n",
    "# 각 행(axis=1)을 합한 결과가 2차원 배열로 유지되도록 keepdims를 True로 설정합니다.\n",
    "features / np.sum(np.abs(features), axis=1, keepdims=True)"
   ]
  },
  {
   "cell_type": "code",
   "execution_count": 18,
   "metadata": {
    "colab": {
     "base_uri": "https://localhost:8080/"
    },
    "executionInfo": {
     "elapsed": 1963,
     "status": "ok",
     "timestamp": 1609776479700,
     "user": {
      "displayName": "Namhyoung Kim",
      "photoUrl": "",
      "userId": "10452528424857445283"
     },
     "user_tz": -540
    },
    "id": "62Nn6pFEJIeK",
    "outputId": "f974e64e-ab11-46ca-c163-490edb9bcc7c"
   },
   "outputs": [
    {
     "data": {
      "text/plain": [
       "array([[0.70710678, 0.70710678],\n",
       "       [0.30782029, 0.95144452],\n",
       "       [0.07405353, 0.99725427],\n",
       "       [0.04733062, 0.99887928],\n",
       "       [0.95709822, 0.28976368]])"
      ]
     },
     "execution_count": 18,
     "metadata": {},
     "output_type": "execute_result"
    }
   ],
   "source": [
    "# L2 노름을 사용한 변환.\n",
    "features / np.sqrt(np.sum(np.square(features), axis=1, keepdims=True))"
   ]
  },
  {
   "cell_type": "markdown",
   "metadata": {
    "id": "1jR_660vP6HT"
   },
   "source": [
    "Normalizer의 norm 매개변수에 지정할 수 있는 다른 한가지 옵션은 'max'\n",
    "이 옵션은 단순히 각 행의 최댓값으로 행의 값을 나눔\n",
    "* $L_\\infty$ norm(max norm)\n",
    "$$||x||_\\infty = \\max(x_1, x_2,..., x_n)$$"
   ]
  },
  {
   "cell_type": "code",
   "execution_count": 19,
   "metadata": {
    "colab": {
     "base_uri": "https://localhost:8080/"
    },
    "executionInfo": {
     "elapsed": 1960,
     "status": "ok",
     "timestamp": 1609776479701,
     "user": {
      "displayName": "Namhyoung Kim",
      "photoUrl": "",
      "userId": "10452528424857445283"
     },
     "user_tz": -540
    },
    "id": "cFgXUD4fJIeL",
    "outputId": "22e15b63-3f58-49ee-c20a-3ee928c1fba5"
   },
   "outputs": [
    {
     "data": {
      "text/plain": [
       "array([[1.        , 1.        ],\n",
       "       [0.32352941, 1.        ],\n",
       "       [0.07425743, 1.        ],\n",
       "       [0.04738372, 1.        ],\n",
       "       [1.        , 0.30275229]])"
      ]
     },
     "execution_count": 19,
     "metadata": {},
     "output_type": "execute_result"
    }
   ],
   "source": [
    "# 각 행에서 최댓값으로 나눕니다.\n",
    "Normalizer(norm=\"max\").transform(features)"
   ]
  },
  {
   "cell_type": "markdown",
   "metadata": {
    "id": "93PAG9VFJIeL"
   },
   "source": [
    "## 다항 특성과 교차항 특성 생성하기"
   ]
  },
  {
   "cell_type": "markdown",
   "metadata": {
    "id": "0OLKfNn_RSY6"
   },
   "source": [
    "* 다항 특성과 교차항 특성을 추가하고자 할 경우 수동으로 만들기도 하지만 사이킷런에 기능이 포함되어 있음"
   ]
  },
  {
   "cell_type": "code",
   "execution_count": 20,
   "metadata": {
    "colab": {
     "base_uri": "https://localhost:8080/"
    },
    "executionInfo": {
     "elapsed": 1696,
     "status": "ok",
     "timestamp": 1610433249369,
     "user": {
      "displayName": "Namhyoung Kim",
      "photoUrl": "",
      "userId": "10452528424857445283"
     },
     "user_tz": -540
    },
    "id": "N-fvf-q_JIeL",
    "outputId": "d00ce1bf-e646-4100-a6db-8dccefb3ce13"
   },
   "outputs": [
    {
     "data": {
      "text/plain": [
       "array([[2., 3., 4., 6., 9.],\n",
       "       [2., 3., 4., 6., 9.],\n",
       "       [2., 3., 4., 6., 9.]])"
      ]
     },
     "execution_count": 20,
     "metadata": {},
     "output_type": "execute_result"
    }
   ],
   "source": [
    "# 라이브러리를 임포트합니다.\n",
    "import numpy as np\n",
    "from sklearn.preprocessing import PolynomialFeatures\n",
    "\n",
    "# 특성 행렬을 만듭니다.\n",
    "features = np.array([[2, 3],\n",
    "                     [2, 3],\n",
    "                     [2, 3]])\n",
    "\n",
    "# PolynomialFeatures 객체를 만듭니다.\n",
    "polynomial_interaction = PolynomialFeatures(degree=2, include_bias=False)\n",
    "\n",
    "# 다항 특성을 만듭니다.\n",
    "polynomial_interaction.fit_transform(features)"
   ]
  },
  {
   "cell_type": "markdown",
   "metadata": {
    "id": "qs5On5AdRhLE"
   },
   "source": [
    "* PolynomialFeatures의 degree 매개변수가 다항식의 최대 차수 결정\n",
    "    * 예를 들어 degree=2는 2제곱까지 새로운 특성을 생성    \n",
    "$$x_1,x_2,x_1^2,x_2^2$$\n",
    "\n",
    "    * degree=3은 2제곱과 3제곱까지 새로운 특성을 생성\n",
    "$$x_1, x_2, x_1^2, x_2^2, x_1^3, x_2^3$$\n",
    "\n",
    "* 기본적으로 PolynomialFeatures는 교차항을 포함\n",
    "$$x_1x_2$$\n",
    "\n",
    "    * interaction_only=True로 지정하면 교차항특성만 만들 수 있음"
   ]
  },
  {
   "cell_type": "code",
   "execution_count": 21,
   "metadata": {
    "colab": {
     "base_uri": "https://localhost:8080/"
    },
    "executionInfo": {
     "elapsed": 849,
     "status": "ok",
     "timestamp": 1610433265288,
     "user": {
      "displayName": "Namhyoung Kim",
      "photoUrl": "",
      "userId": "10452528424857445283"
     },
     "user_tz": -540
    },
    "id": "4g_WdQhFJIeM",
    "outputId": "eee3d3c4-95d5-416f-bfbd-794f0aa7284c"
   },
   "outputs": [
    {
     "data": {
      "text/plain": [
       "array([[2., 3., 6.],\n",
       "       [2., 3., 6.],\n",
       "       [2., 3., 6.]])"
      ]
     },
     "execution_count": 21,
     "metadata": {},
     "output_type": "execute_result"
    }
   ],
   "source": [
    "interaction = PolynomialFeatures(degree=2, \n",
    "                                 interaction_only=True, include_bias=False)\n",
    "interaction.fit_transform(features)"
   ]
  },
  {
   "cell_type": "markdown",
   "metadata": {
    "id": "4AD9Bb0iTnzl"
   },
   "source": [
    "* 특성과 타깃 사이에 비선형 관계가 있다는 가정을 추가할 때 다항 특성을 종종 만듬$.$ \n",
    "    * 예를 들어 주요 질병에 걸릴 확률에 나이가 미치는 영향은 일정한 상숫값이 아니고 나이가 증가함에 따라 같이 증가한다는 의심을 할 수 있음. \n",
    "    * 특성 x에 변동 효과를 주입하기 위해서 고차항 특성을 만들 수 있음($x^2$, $x^3$ 등)\n",
    "\n",
    "* 또한 한 특성의 효과가 다른 특성에 의존하는 경우를 자주 만나게됨\n",
    "    * 예를 들어 커피가 달달한지 예측하는 문제에서 1) 커피를 저었는지 여부 2) 설탕을 넣었는지 여부 라는 두개의 특성이 있을 경우 각 특성은 독립적으로는 커피의 당도를 예측하지 못하지만 이 둘의 조합은 가능\n",
    "    * 타깃(달달함)에 대한 각 특성의 영향은 서로에게 종속적임.\n",
    "    * 개별 특성을 곱한 교차항을 특성에 추가하여 이런 관계를 인코딩할 수 있음\n"
   ]
  },
  {
   "cell_type": "code",
   "execution_count": 22,
   "metadata": {
    "colab": {
     "base_uri": "https://localhost:8080/"
    },
    "executionInfo": {
     "elapsed": 1949,
     "status": "ok",
     "timestamp": 1609776479702,
     "user": {
      "displayName": "Namhyoung Kim",
      "photoUrl": "",
      "userId": "10452528424857445283"
     },
     "user_tz": -540
    },
    "id": "TLyF2vaYJIeN",
    "outputId": "3f2ab7d6-b221-466b-e3df-51e380cc5dc8"
   },
   "outputs": [
    {
     "data": {
      "text/plain": [
       "array([[1., 2., 3., 4., 6., 9.],\n",
       "       [1., 2., 3., 4., 6., 9.],\n",
       "       [1., 2., 3., 4., 6., 9.]])"
      ]
     },
     "execution_count": 22,
     "metadata": {},
     "output_type": "execute_result"
    }
   ],
   "source": [
    "# 상수항 1을 추가합니다.\n",
    "polynomial_bias = PolynomialFeatures(degree=2, include_bias=True).fit(features)\n",
    "polynomial_bias.transform(features)"
   ]
  },
  {
   "cell_type": "markdown",
   "metadata": {
    "id": "Cmzvyo9Sc0Hl"
   },
   "source": [
    "include_bias 매개변수의 기본값은 True. 이 설정은 변환된 특성에 상수항 1을 추가함"
   ]
  },
  {
   "cell_type": "code",
   "execution_count": null,
   "metadata": {
    "colab": {
     "base_uri": "https://localhost:8080/"
    },
    "executionInfo": {
     "elapsed": 1946,
     "status": "ok",
     "timestamp": 1609776479702,
     "user": {
      "displayName": "Namhyoung Kim",
      "photoUrl": "",
      "userId": "10452528424857445283"
     },
     "user_tz": -540
    },
    "id": "u_szfZiWJIeN",
    "outputId": "32e2e26c-2b73-4903-8567-2c3d31c6f8e9"
   },
   "outputs": [
    {
     "data": {
      "text/plain": [
       "['1', 'x0', 'x1', 'x0^2', 'x0 x1', 'x1^2']"
      ]
     },
     "execution_count": 24,
     "metadata": {
      "tags": []
     },
     "output_type": "execute_result"
    }
   ],
   "source": [
    "polynomial_bias.get_feature_names()"
   ]
  },
  {
   "cell_type": "markdown",
   "metadata": {
    "id": "8sE7JPOzc_BV"
   },
   "source": [
    "get_feature_names 메서드는 특성 변환 식을 이름으로 반환"
   ]
  },
  {
   "cell_type": "markdown",
   "metadata": {
    "id": "o5RpUrtKJIeN"
   },
   "source": [
    "## 특성 변환"
   ]
  },
  {
   "cell_type": "markdown",
   "metadata": {
    "id": "V--WnFjedFcg"
   },
   "source": [
    "* 하나 이상의 특성에 사용자 정의 변환을 적용하고 싶을 경우 사이킷런의 FunctionTransformer를 사용하여 일련의 특성에 어떤 함수를 적용할 수 있음. "
   ]
  },
  {
   "cell_type": "code",
   "execution_count": 23,
   "metadata": {
    "colab": {
     "base_uri": "https://localhost:8080/"
    },
    "executionInfo": {
     "elapsed": 830,
     "status": "ok",
     "timestamp": 1610436779210,
     "user": {
      "displayName": "Namhyoung Kim",
      "photoUrl": "",
      "userId": "10452528424857445283"
     },
     "user_tz": -540
    },
    "id": "PVhLvy9yJIeO",
    "outputId": "e679cc0d-9842-422a-af26-c245eb86cac5"
   },
   "outputs": [
    {
     "data": {
      "text/plain": [
       "array([[12, 13],\n",
       "       [12, 13],\n",
       "       [12, 13]])"
      ]
     },
     "execution_count": 23,
     "metadata": {},
     "output_type": "execute_result"
    }
   ],
   "source": [
    "# 라이브러리를 임포트합니다.\n",
    "import numpy as np\n",
    "from sklearn.preprocessing import FunctionTransformer\n",
    "\n",
    "# 특성 행렬을 만듭니다.\n",
    "features = np.array([[2, 3],\n",
    "                     [2, 3],\n",
    "                     [2, 3]])\n",
    "\n",
    "# 간단한 함수를 정의합니다.\n",
    "def add_ten(x):\n",
    "    return x + 10\n",
    "\n",
    "# 변환기 객체를 만듭니다.\n",
    "ten_transformer = FunctionTransformer(add_ten)\n",
    "\n",
    "# 특성 행렬을 변환합니다.\n",
    "ten_transformer.transform(features)"
   ]
  },
  {
   "cell_type": "markdown",
   "metadata": {
    "id": "gO-vT46guAgS"
   },
   "source": [
    "* 판다스의 apply메서드를 사용하여 동일한 변환을 수행할 수 있음 \n"
   ]
  },
  {
   "cell_type": "code",
   "execution_count": 24,
   "metadata": {
    "colab": {
     "base_uri": "https://localhost:8080/",
     "height": 141
    },
    "executionInfo": {
     "elapsed": 1938,
     "status": "ok",
     "timestamp": 1609776479703,
     "user": {
      "displayName": "Namhyoung Kim",
      "photoUrl": "",
      "userId": "10452528424857445283"
     },
     "user_tz": -540
    },
    "id": "cGCVZLK5JIeO",
    "outputId": "abf0eeba-5393-47cf-cd8f-036b7257cdda"
   },
   "outputs": [
    {
     "data": {
      "text/html": [
       "<div>\n",
       "<style scoped>\n",
       "    .dataframe tbody tr th:only-of-type {\n",
       "        vertical-align: middle;\n",
       "    }\n",
       "\n",
       "    .dataframe tbody tr th {\n",
       "        vertical-align: top;\n",
       "    }\n",
       "\n",
       "    .dataframe thead th {\n",
       "        text-align: right;\n",
       "    }\n",
       "</style>\n",
       "<table border=\"1\" class=\"dataframe\">\n",
       "  <thead>\n",
       "    <tr style=\"text-align: right;\">\n",
       "      <th></th>\n",
       "      <th>feature_1</th>\n",
       "      <th>feature_2</th>\n",
       "    </tr>\n",
       "  </thead>\n",
       "  <tbody>\n",
       "    <tr>\n",
       "      <th>0</th>\n",
       "      <td>12</td>\n",
       "      <td>13</td>\n",
       "    </tr>\n",
       "    <tr>\n",
       "      <th>1</th>\n",
       "      <td>12</td>\n",
       "      <td>13</td>\n",
       "    </tr>\n",
       "    <tr>\n",
       "      <th>2</th>\n",
       "      <td>12</td>\n",
       "      <td>13</td>\n",
       "    </tr>\n",
       "  </tbody>\n",
       "</table>\n",
       "</div>"
      ],
      "text/plain": [
       "   feature_1  feature_2\n",
       "0         12         13\n",
       "1         12         13\n",
       "2         12         13"
      ]
     },
     "execution_count": 24,
     "metadata": {},
     "output_type": "execute_result"
    }
   ],
   "source": [
    "# 라이브러리를 임포트합니다.\n",
    "import pandas as pd\n",
    "\n",
    "# 데이터프레임을 만듭니다.\n",
    "df = pd.DataFrame(features, columns=[\"feature_1\", \"feature_2\"])\n",
    "\n",
    "# 함수를 적용합니다.\n",
    "df.apply(add_ten)"
   ]
  },
  {
   "cell_type": "markdown",
   "metadata": {
    "id": "vEXgzJjKdXz_"
   },
   "source": [
    "* 하나 이상의 특성에 사용자 정의 변환이 필요한 경우는 흔함 \n",
    "    * 예를 들면 특성값에 자연 로그를 취한 특성을 만들어야하는 경우, 함수를 하나 만들고 사이킷런이나 판다스의  apply를 사용하여 특성에 매핑\n",
    "    * 예제 코드의 10을 더해주는 아주 간단한 함수 뿐 아니라 훨씬 더 복잡한 함수도 적용가능"
   ]
  },
  {
   "cell_type": "markdown",
   "metadata": {
    "id": "-H5DYz0yJIeP"
   },
   "source": [
    "### 붙임"
   ]
  },
  {
   "cell_type": "markdown",
   "metadata": {
    "id": "t-E_58nsgQtA"
   },
   "source": [
    "* FunctionTransformer의 validate 매개변수가 True이면 입력값이 2차원 배열인지 확인하고 아닐 경우 예외를 발생시킴. 기본값은 False"
   ]
  },
  {
   "cell_type": "code",
   "execution_count": 25,
   "metadata": {
    "colab": {
     "base_uri": "https://localhost:8080/"
    },
    "executionInfo": {
     "elapsed": 783,
     "status": "ok",
     "timestamp": 1610436791770,
     "user": {
      "displayName": "Namhyoung Kim",
      "photoUrl": "",
      "userId": "10452528424857445283"
     },
     "user_tz": -540
    },
    "id": "DLW57a2nJIeP",
    "outputId": "36ae01c4-e9bd-44ae-8b7c-c8c757d98a51"
   },
   "outputs": [
    {
     "data": {
      "text/plain": [
       "array([11, 12, 13])"
      ]
     },
     "execution_count": 25,
     "metadata": {},
     "output_type": "execute_result"
    }
   ],
   "source": [
    "FunctionTransformer(add_ten, validate=False).transform(np.array([1, 2, 3]))"
   ]
  },
  {
   "cell_type": "markdown",
   "metadata": {
    "id": "twZy4Pg2hSrS"
   },
   "source": [
    "* ColumnTransformer를 사용하면 특성 배열이나 데이터프레임의 열마다 다른 변환을 적용할 수 있음\n",
    "    * 예를 들어 feature_1 열은  10을 더하고 feature_2 열은 100을 더한다고 가정하면 다음과 같이 만들 수 있음."
   ]
  },
  {
   "cell_type": "code",
   "execution_count": 26,
   "metadata": {
    "colab": {
     "base_uri": "https://localhost:8080/"
    },
    "executionInfo": {
     "elapsed": 1932,
     "status": "ok",
     "timestamp": 1609776479704,
     "user": {
      "displayName": "Namhyoung Kim",
      "photoUrl": "",
      "userId": "10452528424857445283"
     },
     "user_tz": -540
    },
    "id": "9pq9A7sqJIeP",
    "outputId": "58df6798-a949-4e82-9584-df5b408e94a3"
   },
   "outputs": [
    {
     "data": {
      "text/plain": [
       "array([[ 12, 103],\n",
       "       [ 12, 103],\n",
       "       [ 12, 103]])"
      ]
     },
     "execution_count": 26,
     "metadata": {},
     "output_type": "execute_result"
    }
   ],
   "source": [
    "from sklearn.compose import ColumnTransformer\n",
    "\n",
    "# 100을 더하는 함수를 만듭니다.\n",
    "def add_hundred(x):\n",
    "    return x + 100\n",
    "\n",
    "# (이름, 변환기, 열 리스트)로 구성된 튜플의 리스트를 ColumnTransformer에 전달합니다.\n",
    "ct = ColumnTransformer(\n",
    "    [(\"add_ten\", FunctionTransformer(add_ten, validate=True), ['feature_1']),\n",
    "     (\"add_hundred\", FunctionTransformer(add_hundred, validate=True), ['feature_2'])])\n",
    "\n",
    "ct.fit_transform(df)"
   ]
  },
  {
   "cell_type": "markdown",
   "metadata": {
    "id": "MK1hzKQ1JIeP"
   },
   "source": [
    "## 이상치 감지"
   ]
  },
  {
   "cell_type": "markdown",
   "metadata": {
    "id": "mRlA2rhThinl"
   },
   "source": [
    "* 데이터 중에서 아주 예외적인 샘플을 이상치라 하며 이상치 감지는 과학보다는 예술에 가까움\n",
    "* 일반적인 방법은 데이터가 정규분포를 따른다고 가정하고 이런 가정을 기반으로 데이터를 둘러싼 타원을 그림. \n",
    "    * 이 타원 안의 샘플을 정상치(레이블 1)로 분류하고, 타원 밖의 샘플은 이상치(레이블 -1)로 분류"
   ]
  },
  {
   "cell_type": "code",
   "execution_count": 27,
   "metadata": {
    "colab": {
     "base_uri": "https://localhost:8080/",
     "height": 513
    },
    "executionInfo": {
     "elapsed": 1455,
     "status": "ok",
     "timestamp": 1610518497730,
     "user": {
      "displayName": "Namhyoung Kim",
      "photoUrl": "",
      "userId": "10452528424857445283"
     },
     "user_tz": -540
    },
    "id": "H9kd3b72JIeQ",
    "outputId": "2a090878-43b0-4362-f4bd-188c9d517d30"
   },
   "outputs": [
    {
     "data": {
      "image/png": "[encoded data removed]",
      "text/plain": [
       "<Figure size 432x288 with 1 Axes>"
      ]
     },
     "metadata": {
      "needs_background": "light"
     },
     "output_type": "display_data"
    },
    {
     "data": {
      "image/png": "[encoded data removed]",
      "text/plain": [
       "<Figure size 432x288 with 1 Axes>"
      ]
     },
     "metadata": {
      "needs_background": "light"
     },
     "output_type": "display_data"
    }
   ],
   "source": [
    "# 라이브러리를 임포트합니다.\n",
    "import numpy as np\n",
    "from sklearn.covariance import EllipticEnvelope\n",
    "from sklearn.datasets import make_blobs\n",
    "import matplotlib.pyplot as plt\n",
    "\n",
    "# 모의 데이터를 만듭니다.\n",
    "features, _ = make_blobs(n_samples = 10,\n",
    "                         n_features = 2,\n",
    "                         centers = 1,\n",
    "                         random_state = 1)\n",
    "\n",
    "# 첫 번째 샘플을 극단적인 값으로 바꿉니다.\n",
    "features[0,0] = 10000\n",
    "features[0,1] = 10000\n",
    "\n",
    "\n",
    "# 그래프 그려서 확인\n",
    "plt.plot(features[:,0],features[:,1],'.')\n",
    "plt.show()\n",
    "\n",
    "plt.plot(features[1:,0],features[1:,1],'*')\n",
    "plt.show()"
   ]
  },
  {
   "cell_type": "code",
   "execution_count": 28,
   "metadata": {
    "colab": {
     "base_uri": "https://localhost:8080/"
    },
    "executionInfo": {
     "elapsed": 785,
     "status": "ok",
     "timestamp": 1610518500854,
     "user": {
      "displayName": "Namhyoung Kim",
      "photoUrl": "",
      "userId": "10452528424857445283"
     },
     "user_tz": -540
    },
    "id": "Z__cVsSaiQaL",
    "outputId": "0fc68cf9-aad7-49b3-8623-8d3c3ee4fe7a"
   },
   "outputs": [
    {
     "data": {
      "text/plain": [
       "array([-1,  1,  1,  1,  1,  1,  1,  1,  1,  1])"
      ]
     },
     "execution_count": 28,
     "metadata": {},
     "output_type": "execute_result"
    }
   ],
   "source": [
    "# 이상치 감지 객체를 만듭니다.\n",
    "outlier_detector = EllipticEnvelope(contamination=.1)\n",
    "\n",
    "# 감지 객체를 훈련합니다.\n",
    "outlier_detector.fit(features)\n",
    "\n",
    "# 이상치를 예측합니다.\n",
    "outlier_detector.predict(features)"
   ]
  },
  {
   "cell_type": "markdown",
   "metadata": {
    "id": "TjW9-w0alpnI"
   },
   "source": [
    "* 위 방식의 주요 단점은 이상치의 비율을 정하는 contamination 매개변수를 지정해야 한다는 것\n",
    "* 실제로 이 비율은 알지 못하기 때문에 사용자가 지정해줘야함. \n"
   ]
  },
  {
   "cell_type": "markdown",
   "metadata": {
    "id": "KDtshzLkl5hl"
   },
   "source": [
    "* 샘플을 전체적으로 보는 것보다 개별 특성에서 사분위범위(IQR)를 사용하여 극단적인 값을 구별할 수 있음(상자그림에서의 이상치 탐지와 같은 원리)"
   ]
  },
  {
   "cell_type": "code",
   "execution_count": 29,
   "metadata": {
    "colab": {
     "base_uri": "https://localhost:8080/"
    },
    "executionInfo": {
     "elapsed": 2802,
     "status": "ok",
     "timestamp": 1609776480583,
     "user": {
      "displayName": "Namhyoung Kim",
      "photoUrl": "",
      "userId": "10452528424857445283"
     },
     "user_tz": -540
    },
    "id": "xNQnk4eBJIeQ",
    "outputId": "975c2c46-3148-4929-bc6d-0bfaa070af97"
   },
   "outputs": [
    {
     "data": {
      "text/plain": [
       "(array([0], dtype=int64),)"
      ]
     },
     "execution_count": 29,
     "metadata": {},
     "output_type": "execute_result"
    }
   ],
   "source": [
    "# 하나의 특성을 만듭니다.\n",
    "feature = features[:,0]\n",
    "\n",
    "# 이상치의 인덱스를 반환하는 함수를 만듭니다.\n",
    "def indicies_of_outliers(x):\n",
    "    q1, q3 = np.percentile(x, [25, 75])\n",
    "    iqr = q3 - q1\n",
    "    lower_bound = q1 - (iqr * 1.5)\n",
    "    upper_bound = q3 + (iqr * 1.5)\n",
    "    return np.where((x > upper_bound) | (x < lower_bound))\n",
    "\n",
    "# 함수를 실행합니다.\n",
    "indicies_of_outliers(feature)"
   ]
  },
  {
   "cell_type": "markdown",
   "metadata": {
    "id": "GScUqUusmLBR"
   },
   "source": [
    "* IQR은 데이터에 있는 1사분위수와 3사분위 사이의 거리\n",
    "* IQR은 데이터의 대부분이 퍼져 있는 곳으로 생각할 수 있음\n",
    "* 이상치는 데이터가 집중되어 있는 이 지역에서 멀리 떨어진 샘플\n",
    "* 보통 이상치는 1사분위보다 1.5 IQR이상 작은 값이나 3사분위보다 1.5 IQR 큰 값으로 정의"
   ]
  },
  {
   "cell_type": "markdown",
   "metadata": {
    "id": "5oEArqTsm3MA"
   },
   "source": [
    "* 이상치를 감지하는 최선의 방법은 없음. \n",
    "* 일련의 도구들은 저마다 장단점을 가짐\n",
    "* 최선의 전략은 여러 가지 방법을 시도해보고 종합적으로 결과를 살펴보는 것\n"
   ]
  },
  {
   "cell_type": "markdown",
   "metadata": {
    "id": "dRubWG22nCrU"
   },
   "source": [
    "* 가능하다면 이상치로 감지한 샘플을 살펴보고 이해하려고 노력해야 함\n",
    "    * 예를 들어 주택 데이터셋에 방의 개수를 나타내는 특성이 있을 때 100개의 방을 가진 집은 이상치일수도 있고 아니면 실제 호텔을 잘못 분류한 것일 수도 있음. \n",
    "    "
   ]
  },
  {
   "cell_type": "markdown",
   "metadata": {
    "id": "SVq3G8o2navt"
   },
   "source": [
    "[이상치를 감지하는 세 가지 방법](http://colingorrie.github.io/outlier-detection.html)"
   ]
  },
  {
   "cell_type": "markdown",
   "metadata": {
    "id": "sQOqMRPoJIeQ"
   },
   "source": [
    "## 이상치 다루기"
   ]
  },
  {
   "cell_type": "markdown",
   "metadata": {
    "id": "m_6OOH7rmpOh"
   },
   "source": [
    "* 일반적으로 이상치를 다루는 전략은 세가지\n",
    "    1. 이상치를 삭제\n",
    "    2. 이상치를 표시하고 이를 특성의 하나로 포함\n",
    "    3. 이상치의 영향이 줄어들도록 특성을 변환"
   ]
  },
  {
   "cell_type": "markdown",
   "metadata": {
    "id": "Uu3F1E8-oS3i"
   },
   "source": [
    "* 이상치를 삭제하는 방법"
   ]
  },
  {
   "cell_type": "code",
   "execution_count": 30,
   "metadata": {
    "colab": {
     "base_uri": "https://localhost:8080/",
     "height": 141
    },
    "executionInfo": {
     "elapsed": 2797,
     "status": "ok",
     "timestamp": 1609776480583,
     "user": {
      "displayName": "Namhyoung Kim",
      "photoUrl": "",
      "userId": "10452528424857445283"
     },
     "user_tz": -540
    },
    "id": "nff0G5XGJIeQ",
    "outputId": "a9f86eb4-c039-48b5-af7a-6b30873797c0"
   },
   "outputs": [
    {
     "data": {
      "text/html": [
       "<div>\n",
       "<style scoped>\n",
       "    .dataframe tbody tr th:only-of-type {\n",
       "        vertical-align: middle;\n",
       "    }\n",
       "\n",
       "    .dataframe tbody tr th {\n",
       "        vertical-align: top;\n",
       "    }\n",
       "\n",
       "    .dataframe thead th {\n",
       "        text-align: right;\n",
       "    }\n",
       "</style>\n",
       "<table border=\"1\" class=\"dataframe\">\n",
       "  <thead>\n",
       "    <tr style=\"text-align: right;\">\n",
       "      <th></th>\n",
       "      <th>Price</th>\n",
       "      <th>Bathrooms</th>\n",
       "      <th>Square_Feet</th>\n",
       "    </tr>\n",
       "  </thead>\n",
       "  <tbody>\n",
       "    <tr>\n",
       "      <th>0</th>\n",
       "      <td>534433</td>\n",
       "      <td>2.0</td>\n",
       "      <td>1500</td>\n",
       "    </tr>\n",
       "    <tr>\n",
       "      <th>1</th>\n",
       "      <td>392333</td>\n",
       "      <td>3.5</td>\n",
       "      <td>2500</td>\n",
       "    </tr>\n",
       "    <tr>\n",
       "      <th>2</th>\n",
       "      <td>293222</td>\n",
       "      <td>2.0</td>\n",
       "      <td>1500</td>\n",
       "    </tr>\n",
       "  </tbody>\n",
       "</table>\n",
       "</div>"
      ],
      "text/plain": [
       "    Price  Bathrooms  Square_Feet\n",
       "0  534433        2.0         1500\n",
       "1  392333        3.5         2500\n",
       "2  293222        2.0         1500"
      ]
     },
     "execution_count": 30,
     "metadata": {},
     "output_type": "execute_result"
    }
   ],
   "source": [
    "# 라이브러리를 임포트합니다.\n",
    "import pandas as pd\n",
    "\n",
    "# 데이터프레임을 만듭니다.\n",
    "houses = pd.DataFrame()\n",
    "houses['Price'] = [534433, 392333, 293222, 4322032]\n",
    "houses['Bathrooms'] = [2, 3.5, 2, 116]\n",
    "houses['Square_Feet'] = [1500, 2500, 1500, 48000]\n",
    "\n",
    "# 샘플을 필터링합니다.\n",
    "houses[houses['Bathrooms'] < 20]"
   ]
  },
  {
   "cell_type": "markdown",
   "metadata": {
    "id": "-t12x8YsoZY4"
   },
   "source": [
    "* 이상치로 표시하고 이를 특성의 하나로 포함"
   ]
  },
  {
   "cell_type": "code",
   "execution_count": 31,
   "metadata": {
    "colab": {
     "base_uri": "https://localhost:8080/",
     "height": 171
    },
    "executionInfo": {
     "elapsed": 2794,
     "status": "ok",
     "timestamp": 1609776480584,
     "user": {
      "displayName": "Namhyoung Kim",
      "photoUrl": "",
      "userId": "10452528424857445283"
     },
     "user_tz": -540
    },
    "id": "FqRYTPD7JIeR",
    "outputId": "2e7306d1-9f8e-4cf6-e304-11afa59dec58"
   },
   "outputs": [
    {
     "data": {
      "text/html": [
       "<div>\n",
       "<style scoped>\n",
       "    .dataframe tbody tr th:only-of-type {\n",
       "        vertical-align: middle;\n",
       "    }\n",
       "\n",
       "    .dataframe tbody tr th {\n",
       "        vertical-align: top;\n",
       "    }\n",
       "\n",
       "    .dataframe thead th {\n",
       "        text-align: right;\n",
       "    }\n",
       "</style>\n",
       "<table border=\"1\" class=\"dataframe\">\n",
       "  <thead>\n",
       "    <tr style=\"text-align: right;\">\n",
       "      <th></th>\n",
       "      <th>Price</th>\n",
       "      <th>Bathrooms</th>\n",
       "      <th>Square_Feet</th>\n",
       "      <th>Outlier</th>\n",
       "    </tr>\n",
       "  </thead>\n",
       "  <tbody>\n",
       "    <tr>\n",
       "      <th>0</th>\n",
       "      <td>534433</td>\n",
       "      <td>2.0</td>\n",
       "      <td>1500</td>\n",
       "      <td>0</td>\n",
       "    </tr>\n",
       "    <tr>\n",
       "      <th>1</th>\n",
       "      <td>392333</td>\n",
       "      <td>3.5</td>\n",
       "      <td>2500</td>\n",
       "      <td>0</td>\n",
       "    </tr>\n",
       "    <tr>\n",
       "      <th>2</th>\n",
       "      <td>293222</td>\n",
       "      <td>2.0</td>\n",
       "      <td>1500</td>\n",
       "      <td>0</td>\n",
       "    </tr>\n",
       "    <tr>\n",
       "      <th>3</th>\n",
       "      <td>4322032</td>\n",
       "      <td>116.0</td>\n",
       "      <td>48000</td>\n",
       "      <td>1</td>\n",
       "    </tr>\n",
       "  </tbody>\n",
       "</table>\n",
       "</div>"
      ],
      "text/plain": [
       "     Price  Bathrooms  Square_Feet  Outlier\n",
       "0   534433        2.0         1500        0\n",
       "1   392333        3.5         2500        0\n",
       "2   293222        2.0         1500        0\n",
       "3  4322032      116.0        48000        1"
      ]
     },
     "execution_count": 31,
     "metadata": {},
     "output_type": "execute_result"
    }
   ],
   "source": [
    "# 라이브러리를 임포트합니다.\n",
    "import numpy as np\n",
    "\n",
    "# 불리언 조건을 기반으로 특성을 만듭니다.\n",
    "houses[\"Outlier\"] = np.where(houses[\"Bathrooms\"] < 20, 0, 1)\n",
    "\n",
    "# 데이터를 확인합니다.\n",
    "houses"
   ]
  },
  {
   "cell_type": "markdown",
   "metadata": {
    "id": "liGr3rtdogzK"
   },
   "source": [
    "* 이상치의 영향이 줄어들도록 특성을 변환"
   ]
  },
  {
   "cell_type": "code",
   "execution_count": 32,
   "metadata": {
    "colab": {
     "base_uri": "https://localhost:8080/",
     "height": 171
    },
    "executionInfo": {
     "elapsed": 2789,
     "status": "ok",
     "timestamp": 1609776480584,
     "user": {
      "displayName": "Namhyoung Kim",
      "photoUrl": "",
      "userId": "10452528424857445283"
     },
     "user_tz": -540
    },
    "id": "8j1TxBmFJIeR",
    "outputId": "5d94ec20-b1ae-48d1-8dbf-36e2cfed9605"
   },
   "outputs": [
    {
     "data": {
      "text/html": [
       "<div>\n",
       "<style scoped>\n",
       "    .dataframe tbody tr th:only-of-type {\n",
       "        vertical-align: middle;\n",
       "    }\n",
       "\n",
       "    .dataframe tbody tr th {\n",
       "        vertical-align: top;\n",
       "    }\n",
       "\n",
       "    .dataframe thead th {\n",
       "        text-align: right;\n",
       "    }\n",
       "</style>\n",
       "<table border=\"1\" class=\"dataframe\">\n",
       "  <thead>\n",
       "    <tr style=\"text-align: right;\">\n",
       "      <th></th>\n",
       "      <th>Price</th>\n",
       "      <th>Bathrooms</th>\n",
       "      <th>Square_Feet</th>\n",
       "      <th>Outlier</th>\n",
       "      <th>Log_Of_Square_Feet</th>\n",
       "    </tr>\n",
       "  </thead>\n",
       "  <tbody>\n",
       "    <tr>\n",
       "      <th>0</th>\n",
       "      <td>534433</td>\n",
       "      <td>2.0</td>\n",
       "      <td>1500</td>\n",
       "      <td>0</td>\n",
       "      <td>7.313220</td>\n",
       "    </tr>\n",
       "    <tr>\n",
       "      <th>1</th>\n",
       "      <td>392333</td>\n",
       "      <td>3.5</td>\n",
       "      <td>2500</td>\n",
       "      <td>0</td>\n",
       "      <td>7.824046</td>\n",
       "    </tr>\n",
       "    <tr>\n",
       "      <th>2</th>\n",
       "      <td>293222</td>\n",
       "      <td>2.0</td>\n",
       "      <td>1500</td>\n",
       "      <td>0</td>\n",
       "      <td>7.313220</td>\n",
       "    </tr>\n",
       "    <tr>\n",
       "      <th>3</th>\n",
       "      <td>4322032</td>\n",
       "      <td>116.0</td>\n",
       "      <td>48000</td>\n",
       "      <td>1</td>\n",
       "      <td>10.778956</td>\n",
       "    </tr>\n",
       "  </tbody>\n",
       "</table>\n",
       "</div>"
      ],
      "text/plain": [
       "     Price  Bathrooms  Square_Feet  Outlier  Log_Of_Square_Feet\n",
       "0   534433        2.0         1500        0            7.313220\n",
       "1   392333        3.5         2500        0            7.824046\n",
       "2   293222        2.0         1500        0            7.313220\n",
       "3  4322032      116.0        48000        1           10.778956"
      ]
     },
     "execution_count": 32,
     "metadata": {},
     "output_type": "execute_result"
    }
   ],
   "source": [
    "# 로그 특성\n",
    "houses[\"Log_Of_Square_Feet\"] = [np.log(x) for x in houses[\"Square_Feet\"]]\n",
    "\n",
    "# 데이터를 확인합니다.\n",
    "houses"
   ]
  },
  {
   "cell_type": "markdown",
   "metadata": {
    "id": "71xPAB_EonTl"
   },
   "source": [
    "* 이상치 감지와 마찬가지로, 이상치를 다룰 때 언제나 적용할 수 있는 좋은 처리 방법은 없음\n",
    "* 두 가지 측면에서 처리 방법을 고려\n",
    "    1. 어떤 것을 이상치로 간주할 것인지 생각\n",
    "        * 고장난 센서나 잘못 인코딩된 값 때문에 데이터에 오류가 있다고 생각되면 이값을 신뢰할 수 없으므로 이 샘플을 삭제하거나 이상치를 NaN으로 바꿀 수 있음\n",
    "        * 극단적인 값을 가진 샘플이라면 이를 이상치로 표시하거나 적절한 값으로 변환\n",
    "    2. 이상치를 다루는 방법이 머신러닝의 목적에 맞아야 함\n",
    "        * 예를 들어 집의 특성값을 기반으로 주택 가격을 예측한다면 100개의 방을 가진 집의 가격은 일반적인 주택과 다른 방식으로 정해진다고 가정할 수 있음. \n",
    "        * 온라인 주택 대출 웹 애플리케이션의 일부로 머신러닝 모델을 훈련한다면 잠재 고객 중에 100개의 방을 가진 집을 구입할 만한 사람은 없을 것이므로 제거  "
   ]
  },
  {
   "cell_type": "markdown",
   "metadata": {
    "id": "MTUpE7A7pcZ9"
   },
   "source": [
    "* 이상치가 있을 경우 이상치는 평균과 분산에 영향을 끼치기 때문에 표준화가 적절하지 않음. \n",
    "* RobustScaler와 같이 이상치에 민감하지 않은 스케일링 방법을 사용"
   ]
  },
  {
   "cell_type": "markdown",
   "metadata": {
    "id": "F9YWasVQpqkm"
   },
   "source": [
    "[RobustScaler 문서](https://scikit-learn.org/stable/modules/generated/sklearn.preprocessing.RobustScaler.html#sklearn.preprocessing.RobustScaler)"
   ]
  },
  {
   "cell_type": "markdown",
   "metadata": {
    "id": "c-VnjNh6JIeS"
   },
   "source": [
    "## 특성 이산화"
   ]
  },
  {
   "cell_type": "markdown",
   "metadata": {
    "id": "lj0iK1QIp0zE"
   },
   "source": [
    "* 수치 특성을 개별적인 구간으로 나누고 싶을 때(이산화) 두가지 방법이 존재\n",
    "    1. 임곗값에 따라 특성을 둘로 나누는 방법\n",
    "    2. 수치 특성을 여러 임곗값에 따라 나누는 방법 "
   ]
  },
  {
   "cell_type": "markdown",
   "metadata": {
    "id": "As3GbltiqGJy"
   },
   "source": [
    "* 임곗값에 따라 특성을 둘로 나누는 방법"
   ]
  },
  {
   "cell_type": "code",
   "execution_count": 7,
   "metadata": {
    "colab": {
     "base_uri": "https://localhost:8080/"
    },
    "executionInfo": {
     "elapsed": 1101,
     "status": "ok",
     "timestamp": 1610459896020,
     "user": {
      "displayName": "Namhyoung Kim",
      "photoUrl": "",
      "userId": "10452528424857445283"
     },
     "user_tz": -540
    },
    "id": "PaIOboyQJIeS",
    "outputId": "bdfb91a7-1d84-42e4-c2ee-f32e2c3f0f26"
   },
   "outputs": [
    {
     "data": {
      "text/plain": [
       "array([[0],\n",
       "       [0],\n",
       "       [1],\n",
       "       [1],\n",
       "       [1]])"
      ]
     },
     "execution_count": 7,
     "metadata": {},
     "output_type": "execute_result"
    }
   ],
   "source": [
    "# 라이브러리를 임포트합니다.\n",
    "import numpy as np\n",
    "from sklearn.preprocessing import Binarizer\n",
    "\n",
    "# 특성을 만듭니다.\n",
    "age = np.array([[6],\n",
    "                [12],\n",
    "                [20],\n",
    "                [36],\n",
    "                [65]])\n",
    "\n",
    "# Binarizer 객체를 만듭니다.\n",
    "binarizer = Binarizer(threshold=18)\n",
    "\n",
    "# 특성을 변환합니다.\n",
    "binarizer.fit_transform(age)"
   ]
  },
  {
   "cell_type": "markdown",
   "metadata": {
    "id": "DA24NUgmqJdd"
   },
   "source": [
    "* 여러 임곗값에 따라 나누는 방법"
   ]
  },
  {
   "cell_type": "code",
   "execution_count": 8,
   "metadata": {
    "colab": {
     "base_uri": "https://localhost:8080/"
    },
    "executionInfo": {
     "elapsed": 985,
     "status": "ok",
     "timestamp": 1610440831447,
     "user": {
      "displayName": "Namhyoung Kim",
      "photoUrl": "",
      "userId": "10452528424857445283"
     },
     "user_tz": -540
    },
    "id": "VQEYTc73JIeS",
    "outputId": "665ab59e-1f5b-4c10-daef-899d290aca79"
   },
   "outputs": [
    {
     "data": {
      "text/plain": [
       "array([[0],\n",
       "       [0],\n",
       "       [1],\n",
       "       [2],\n",
       "       [3]], dtype=int64)"
      ]
     },
     "execution_count": 8,
     "metadata": {},
     "output_type": "execute_result"
    }
   ],
   "source": [
    "# 특성을 나눕니다.\n",
    "np.digitize(age, bins=[20,30,64])"
   ]
  },
  {
   "cell_type": "markdown",
   "metadata": {
    "id": "ekxWA7CBqNdw"
   },
   "source": [
    "* bins 매개변수의 입력값은 각 구간의 왼쪽 경곗값\n",
    "    * 예를 들어 20까지 구간에는 값이 20인 원소가 포함되지 않고 20보다 작은 두 개만 포함\n",
    "    * right 매개변수를 True로 설정하면 이 동작을 바꿀 수 있음\n"
   ]
  },
  {
   "cell_type": "code",
   "execution_count": 9,
   "metadata": {
    "colab": {
     "base_uri": "https://localhost:8080/"
    },
    "executionInfo": {
     "elapsed": 1043,
     "status": "ok",
     "timestamp": 1610440831964,
     "user": {
      "displayName": "Namhyoung Kim",
      "photoUrl": "",
      "userId": "10452528424857445283"
     },
     "user_tz": -540
    },
    "id": "DD3blg5pJIeS",
    "outputId": "27f2bf58-d2bf-483a-fe7e-a283887728db"
   },
   "outputs": [
    {
     "data": {
      "text/plain": [
       "array([[0],\n",
       "       [0],\n",
       "       [0],\n",
       "       [2],\n",
       "       [3]], dtype=int64)"
      ]
     },
     "execution_count": 9,
     "metadata": {},
     "output_type": "execute_result"
    }
   ],
   "source": [
    "# 특성을 나눕니다.\n",
    "np.digitize(age, bins=[20,30,64], right=True)"
   ]
  },
  {
   "cell_type": "markdown",
   "metadata": {
    "id": "lxiw7jDrrQnW"
   },
   "source": [
    "* 이산화는 수치 특성을 범주형처럼 다루어야할 때 유용한 전략\n",
    "    * 예를 들어 17세와 18세의 소비 습관은 차이가 매우 작지만 18세와 19세 사이는 차이가 클 수 있음(우리나라에서 술을 구입할 수 있는 나이)\n",
    "    * 이런 경우엔 술을 마실 수 있는 사람과 그렇지 않은 사람으로 구분하는 것이 좋음\n",
    "    * 경우에 따라서는 세 개나 그 이상의 구간으로 나누는 것이 좋을 수도 있음"
   ]
  },
  {
   "cell_type": "markdown",
   "metadata": {
    "id": "4uyZ0vDisXt3"
   },
   "source": [
    "* 이산화 방법에서 두 개의 구간으로 나누는 사이킷런의 Binarizer와 세 개 이상의 구간으로 나누는 넘파이의 digitize 사용\n",
    "* 넘파이의 digitzie에 하나의 임곗값만 지정하면 Binarizer처럼 특성을 두 개의 구간으로 나눌 수 있음"
   ]
  },
  {
   "cell_type": "code",
   "execution_count": 10,
   "metadata": {
    "colab": {
     "base_uri": "https://localhost:8080/"
    },
    "executionInfo": {
     "elapsed": 632,
     "status": "ok",
     "timestamp": 1610440833720,
     "user": {
      "displayName": "Namhyoung Kim",
      "photoUrl": "",
      "userId": "10452528424857445283"
     },
     "user_tz": -540
    },
    "id": "I3JthgBqJIeT",
    "outputId": "d7c0055a-c71c-4b17-8630-3320e24b5711"
   },
   "outputs": [
    {
     "data": {
      "text/plain": [
       "array([[0],\n",
       "       [0],\n",
       "       [1],\n",
       "       [1],\n",
       "       [1]], dtype=int64)"
      ]
     },
     "execution_count": 10,
     "metadata": {},
     "output_type": "execute_result"
    }
   ],
   "source": [
    "# 특성을 나눕니다.\n",
    "np.digitize(age, bins=[18])"
   ]
  },
  {
   "cell_type": "markdown",
   "metadata": {
    "id": "DFMIU_eGJIeT"
   },
   "source": [
    "### 붙임"
   ]
  },
  {
   "cell_type": "markdown",
   "metadata": {
    "id": "hrQMLLbNssfS"
   },
   "source": [
    "사이킷런에서도 연속적인 특성값을 여러 구간으로 나누어주는 KBinsDiscretizer 클래스가 존재\n",
    "* 이 클래스는 나눌 구간 개수를 지정"
   ]
  },
  {
   "cell_type": "code",
   "execution_count": 11,
   "metadata": {
    "colab": {
     "base_uri": "https://localhost:8080/"
    },
    "executionInfo": {
     "elapsed": 1050,
     "status": "ok",
     "timestamp": 1610459901820,
     "user": {
      "displayName": "Namhyoung Kim",
      "photoUrl": "",
      "userId": "10452528424857445283"
     },
     "user_tz": -540
    },
    "id": "s3ZTNyn8JIeT",
    "outputId": "f8803d04-36ad-42c1-b898-9139de687178"
   },
   "outputs": [
    {
     "data": {
      "text/plain": [
       "array([[0.],\n",
       "       [1.],\n",
       "       [2.],\n",
       "       [3.],\n",
       "       [3.]])"
      ]
     },
     "execution_count": 11,
     "metadata": {},
     "output_type": "execute_result"
    }
   ],
   "source": [
    "from sklearn.preprocessing import KBinsDiscretizer\n",
    "\n",
    "# 네 개의 구간으로 나눕니다.\n",
    "kb = KBinsDiscretizer(4, encode='ordinal', strategy='quantile')\n",
    "kb.fit_transform(age)"
   ]
  },
  {
   "cell_type": "markdown",
   "metadata": {
    "id": "p_anl9M8tFWv"
   },
   "source": [
    "* encode 매개변수의 기본값은 'onehot'으로 원-핫 인코딩(one-hot encoding)된 희소 행렬을 반환함\n",
    "* 'onehot-dense'는 원-핫 인코딩된 밀집 배열을 반환\n",
    "* 연속된 값을 이산화하여 원-핫 인코딩으로 만들면 범주형 특성으로 다루기 편리\n"
   ]
  },
  {
   "cell_type": "code",
   "execution_count": 12,
   "metadata": {
    "colab": {
     "base_uri": "https://localhost:8080/"
    },
    "executionInfo": {
     "elapsed": 1148,
     "status": "ok",
     "timestamp": 1610459920903,
     "user": {
      "displayName": "Namhyoung Kim",
      "photoUrl": "",
      "userId": "10452528424857445283"
     },
     "user_tz": -540
    },
    "id": "-_ncT1TNJIeT",
    "outputId": "f3cd958e-ae51-469c-8582-b2129e7244fe"
   },
   "outputs": [
    {
     "data": {
      "text/plain": [
       "array([[1., 0., 0., 0.],\n",
       "       [0., 1., 0., 0.],\n",
       "       [0., 0., 1., 0.],\n",
       "       [0., 0., 0., 1.],\n",
       "       [0., 0., 0., 1.]])"
      ]
     },
     "execution_count": 12,
     "metadata": {},
     "output_type": "execute_result"
    }
   ],
   "source": [
    "# 원-핫 인코딩을 반환합니다.\n",
    "kb = KBinsDiscretizer(4, encode='onehot-dense', strategy='quantile')\n",
    "kb.fit_transform(age)"
   ]
  },
  {
   "cell_type": "code",
   "execution_count": 13,
   "metadata": {},
   "outputs": [
    {
     "data": {
      "text/plain": [
       "[array([0, 1, 2, 3, 4, 5]), array([0, 1, 2, 3, 3])]"
      ]
     },
     "execution_count": 13,
     "metadata": {},
     "output_type": "execute_result"
    }
   ],
   "source": [
    "# 원-핫 인코딩된 희소 행렬을 반환합니다.\n",
    "kb = KBinsDiscretizer(4, encode='onehot', strategy='quantile')\n",
    "mat = kb.fit_transform(age)\n",
    "[mat.indptr, mat.indices]"
   ]
  },
  {
   "cell_type": "markdown",
   "metadata": {
    "id": "4EX0nwuRtdHd"
   },
   "source": [
    "* strategy 매개변수의 기본값은 'quantile'로 각 구간에 포함된 샘플 개수가 비슷하도록 만들어줌\n",
    "* 'uniform'은 구간의 폭이 동일하도록 만들어줌\n"
   ]
  },
  {
   "cell_type": "code",
   "execution_count": 14,
   "metadata": {
    "colab": {
     "base_uri": "https://localhost:8080/"
    },
    "executionInfo": {
     "elapsed": 778,
     "status": "ok",
     "timestamp": 1610440843968,
     "user": {
      "displayName": "Namhyoung Kim",
      "photoUrl": "",
      "userId": "10452528424857445283"
     },
     "user_tz": -540
    },
    "id": "cFOh7USZJIeU",
    "outputId": "cf2f04e7-fa04-4c6a-df51-28f72dc25b70"
   },
   "outputs": [
    {
     "data": {
      "text/plain": [
       "array([[1., 0., 0., 0.],\n",
       "       [1., 0., 0., 0.],\n",
       "       [1., 0., 0., 0.],\n",
       "       [0., 0., 1., 0.],\n",
       "       [0., 0., 0., 1.]])"
      ]
     },
     "execution_count": 14,
     "metadata": {},
     "output_type": "execute_result"
    }
   ],
   "source": [
    "# 동일한 길이의 구간을 만듭니다.\n",
    "kb = KBinsDiscretizer(4, encode='onehot-dense', strategy='uniform')\n",
    "kb.fit_transform(age)"
   ]
  },
  {
   "cell_type": "markdown",
   "metadata": {
    "id": "DSL6XGD_vbpl"
   },
   "source": [
    "구간은 bin_edges_ 속성에서 확인"
   ]
  },
  {
   "cell_type": "code",
   "execution_count": 15,
   "metadata": {
    "colab": {
     "base_uri": "https://localhost:8080/"
    },
    "executionInfo": {
     "elapsed": 2764,
     "status": "ok",
     "timestamp": 1609776480588,
     "user": {
      "displayName": "Namhyoung Kim",
      "photoUrl": "",
      "userId": "10452528424857445283"
     },
     "user_tz": -540
    },
    "id": "46xzAqODJIeU",
    "outputId": "eeb0836e-6735-42ba-a022-ff56539b010e"
   },
   "outputs": [
    {
     "data": {
      "text/plain": [
       "array([array([ 6.  , 20.75, 35.5 , 50.25, 65.  ])], dtype=object)"
      ]
     },
     "execution_count": 15,
     "metadata": {},
     "output_type": "execute_result"
    }
   ],
   "source": [
    "kb.bin_edges_"
   ]
  },
  {
   "cell_type": "markdown",
   "metadata": {
    "id": "BSi-N1VOvf_X"
   },
   "source": [
    "* 시작과 끝 경계는 처음과 마지막 구간에 포함\n",
    "* 나머지 경곗값은 왼쪽 경계를 나타냄\n",
    "    * 즉 첫번째 구간은 [6.0, 20.75)이고 두번째 구간은 [20.75, 35.5)가 되는 식"
   ]
  },
  {
   "cell_type": "markdown",
   "metadata": {
    "id": "eNunMzTNJIeV"
   },
   "source": [
    "## 군집으로 샘플을 그룹으로 묶기"
   ]
  },
  {
   "cell_type": "markdown",
   "metadata": {
    "id": "XpM2_GglwTnH"
   },
   "source": [
    "* 비슷한 샘플을 그룹으로 모으고 싶을 경우 \n",
    "* k개의 그룹이 있다는 것을 안다면 k-평균 군집(k-means clustering)을 사용하여 비슷한 샘플을 그룹핑할 수 있음\n",
    "* 각 샘플의 소속 그룹이 새로운 특성이 됨\n"
   ]
  },
  {
   "cell_type": "code",
   "execution_count": 40,
   "metadata": {
    "colab": {
     "base_uri": "https://localhost:8080/",
     "height": 202
    },
    "executionInfo": {
     "elapsed": 3213,
     "status": "ok",
     "timestamp": 1609776481042,
     "user": {
      "displayName": "Namhyoung Kim",
      "photoUrl": "",
      "userId": "10452528424857445283"
     },
     "user_tz": -540
    },
    "id": "PqxDXhYcJIeW",
    "outputId": "0aca1a95-65fc-4f03-dac2-bfee6cd71617"
   },
   "outputs": [
    {
     "data": {
      "text/html": [
       "<div>\n",
       "<style scoped>\n",
       "    .dataframe tbody tr th:only-of-type {\n",
       "        vertical-align: middle;\n",
       "    }\n",
       "\n",
       "    .dataframe tbody tr th {\n",
       "        vertical-align: top;\n",
       "    }\n",
       "\n",
       "    .dataframe thead th {\n",
       "        text-align: right;\n",
       "    }\n",
       "</style>\n",
       "<table border=\"1\" class=\"dataframe\">\n",
       "  <thead>\n",
       "    <tr style=\"text-align: right;\">\n",
       "      <th></th>\n",
       "      <th>feature_1</th>\n",
       "      <th>feature_2</th>\n",
       "      <th>group</th>\n",
       "    </tr>\n",
       "  </thead>\n",
       "  <tbody>\n",
       "    <tr>\n",
       "      <th>0</th>\n",
       "      <td>-9.877554</td>\n",
       "      <td>-3.336145</td>\n",
       "      <td>2</td>\n",
       "    </tr>\n",
       "    <tr>\n",
       "      <th>1</th>\n",
       "      <td>-7.287210</td>\n",
       "      <td>-8.353986</td>\n",
       "      <td>0</td>\n",
       "    </tr>\n",
       "    <tr>\n",
       "      <th>2</th>\n",
       "      <td>-6.943061</td>\n",
       "      <td>-7.023744</td>\n",
       "      <td>0</td>\n",
       "    </tr>\n",
       "    <tr>\n",
       "      <th>3</th>\n",
       "      <td>-7.440167</td>\n",
       "      <td>-8.791959</td>\n",
       "      <td>0</td>\n",
       "    </tr>\n",
       "    <tr>\n",
       "      <th>4</th>\n",
       "      <td>-6.641388</td>\n",
       "      <td>-8.075888</td>\n",
       "      <td>0</td>\n",
       "    </tr>\n",
       "  </tbody>\n",
       "</table>\n",
       "</div>"
      ],
      "text/plain": [
       "   feature_1  feature_2  group\n",
       "0  -9.877554  -3.336145      2\n",
       "1  -7.287210  -8.353986      0\n",
       "2  -6.943061  -7.023744      0\n",
       "3  -7.440167  -8.791959      0\n",
       "4  -6.641388  -8.075888      0"
      ]
     },
     "execution_count": 40,
     "metadata": {},
     "output_type": "execute_result"
    }
   ],
   "source": [
    "# 라이브러리를 임포트합니다.\n",
    "import pandas as pd\n",
    "from sklearn.datasets import make_blobs\n",
    "from sklearn.cluster import KMeans\n",
    "\n",
    "# 모의 특성 행렬을 만듭니다.\n",
    "features, _ = make_blobs(n_samples = 50,\n",
    "                         n_features = 2,\n",
    "                         centers = 3,\n",
    "                         random_state = 1)\n",
    "\n",
    "# 데이터프레임을 만듭니다.\n",
    "dataframe = pd.DataFrame(features, columns=[\"feature_1\", \"feature_2\"])\n",
    "\n",
    "# k-평균 군집 모델을 만듭니다.\n",
    "clusterer = KMeans(3, random_state=0)\n",
    "\n",
    "# 모델을 훈련합니다.\n",
    "clusterer.fit(features)\n",
    "\n",
    "# 그룹 소속을 예측합니다.\n",
    "dataframe[\"group\"] = clusterer.predict(features)\n",
    "\n",
    "# 처음 몇 개의 샘플을 조회합니다.\n",
    "dataframe.head(5)"
   ]
  },
  {
   "cell_type": "markdown",
   "metadata": {
    "id": "H-Bf715BwyKB"
   },
   "source": [
    "* 다양한 군집 알고리즘을 전처리 단계에서 사용할 수 있음\n",
    "* 최종 목적은 비슷한 샘플이 모인 그룹을 나타내는 범주형 특성을 생성하는 것"
   ]
  },
  {
   "cell_type": "markdown",
   "metadata": {
    "id": "JzW8OovXJIeW"
   },
   "source": [
    "## 누락된 값을 가진 샘플을 삭제하기"
   ]
  },
  {
   "cell_type": "markdown",
   "metadata": {
    "id": "9qn-vtYOxAhZ"
   },
   "source": [
    "* 누락된 값이 있는 샘플을 삭제하고자 할 때 넘파이에서는 간단하게 가능"
   ]
  },
  {
   "cell_type": "code",
   "execution_count": null,
   "metadata": {
    "colab": {
     "base_uri": "https://localhost:8080/"
    },
    "executionInfo": {
     "elapsed": 3210,
     "status": "ok",
     "timestamp": 1609776481043,
     "user": {
      "displayName": "Namhyoung Kim",
      "photoUrl": "",
      "userId": "10452528424857445283"
     },
     "user_tz": -540
    },
    "id": "G3fbqqcfJIeX",
    "outputId": "2cb773ae-a13c-42db-9b0c-fa231e97a58c"
   },
   "outputs": [
    {
     "data": {
      "text/plain": [
       "array([[ 1.1, 11.1],\n",
       "       [ 2.2, 22.2],\n",
       "       [ 3.3, 33.3],\n",
       "       [ 4.4, 44.4]])"
      ]
     },
     "execution_count": 43,
     "metadata": {
      "tags": []
     },
     "output_type": "execute_result"
    }
   ],
   "source": [
    "# 라이브러리를 임포트합니다.\n",
    "import numpy as np\n",
    "\n",
    "# 특성 행렬을 만듭니다.\n",
    "features = np.array([[1.1, 11.1],\n",
    "                     [2.2, 22.2],\n",
    "                     [3.3, 33.3],\n",
    "                     [4.4, 44.4],\n",
    "                     [np.nan, 55]])\n",
    "\n",
    "# (~ 연산자를 사용하여) 누락된 값이 없는 샘플만 남깁니다.\n",
    "features[~np.isnan(features).any(axis=1)]"
   ]
  },
  {
   "cell_type": "markdown",
   "metadata": {
    "id": "54qMnBTUxIzq"
   },
   "source": [
    "* 판다스를 이용하여 누락된 값이 있는 샘플을 삭제할 수 있음 "
   ]
  },
  {
   "cell_type": "code",
   "execution_count": null,
   "metadata": {
    "colab": {
     "base_uri": "https://localhost:8080/",
     "height": 171
    },
    "executionInfo": {
     "elapsed": 3206,
     "status": "ok",
     "timestamp": 1609776481043,
     "user": {
      "displayName": "Namhyoung Kim",
      "photoUrl": "",
      "userId": "10452528424857445283"
     },
     "user_tz": -540
    },
    "id": "qnm-ANycJIeX",
    "outputId": "8d484167-7087-4bbd-8e76-c7e37ab9186a"
   },
   "outputs": [
    {
     "data": {
      "text/html": [
       "<div>\n",
       "<style scoped>\n",
       "    .dataframe tbody tr th:only-of-type {\n",
       "        vertical-align: middle;\n",
       "    }\n",
       "\n",
       "    .dataframe tbody tr th {\n",
       "        vertical-align: top;\n",
       "    }\n",
       "\n",
       "    .dataframe thead th {\n",
       "        text-align: right;\n",
       "    }\n",
       "</style>\n",
       "<table border=\"1\" class=\"dataframe\">\n",
       "  <thead>\n",
       "    <tr style=\"text-align: right;\">\n",
       "      <th></th>\n",
       "      <th>feature_1</th>\n",
       "      <th>feature_2</th>\n",
       "    </tr>\n",
       "  </thead>\n",
       "  <tbody>\n",
       "    <tr>\n",
       "      <th>0</th>\n",
       "      <td>1.1</td>\n",
       "      <td>11.1</td>\n",
       "    </tr>\n",
       "    <tr>\n",
       "      <th>1</th>\n",
       "      <td>2.2</td>\n",
       "      <td>22.2</td>\n",
       "    </tr>\n",
       "    <tr>\n",
       "      <th>2</th>\n",
       "      <td>3.3</td>\n",
       "      <td>33.3</td>\n",
       "    </tr>\n",
       "    <tr>\n",
       "      <th>3</th>\n",
       "      <td>4.4</td>\n",
       "      <td>44.4</td>\n",
       "    </tr>\n",
       "  </tbody>\n",
       "</table>\n",
       "</div>"
      ],
      "text/plain": [
       "   feature_1  feature_2\n",
       "0        1.1       11.1\n",
       "1        2.2       22.2\n",
       "2        3.3       33.3\n",
       "3        4.4       44.4"
      ]
     },
     "execution_count": 44,
     "metadata": {
      "tags": []
     },
     "output_type": "execute_result"
    }
   ],
   "source": [
    "# 라이브러리를 임포트합니다.\n",
    "import pandas as pd\n",
    "\n",
    "# 데이터를 적재합니다.\n",
    "dataframe = pd.DataFrame(features, columns=[\"feature_1\", \"feature_2\"])\n",
    "\n",
    "# 누락된 값이 있는 샘플을 제거합니다.\n",
    "dataframe.dropna()"
   ]
  },
  {
   "cell_type": "markdown",
   "metadata": {
    "id": "Lv0E48X8xO_j"
   },
   "source": [
    "* 대부분의 머신러닝 알고리즘은 타깃과 특성 행렬에 있는 누락된 값을 다룰 수 없음\n",
    "이런 이유 때문에 데이터에 있는 누락된 값을 무시할 수 없고 전처리 과정에서 처리해주어야 함\n",
    "* 가장 간단한 해결은 하나 이상 누락된 값을 가진 샘플을 삭제하는 것\n",
    "    * 누락된 값을 있는 샘플을 삭제할 때는 매우 조심해야 함. 샘플 삭제는 최후의 수단. 일단 삭제되면 알고리즘은 그 샘플에 있는 다른 정보를 얻을 수 없음"
   ]
  },
  {
   "cell_type": "markdown",
   "metadata": {
    "id": "Bn-NMQsCyUc_"
   },
   "source": [
    "* 누락된 값의 원인에 따라 샘플 삭제는 데이터의 편향을 늘린다는 사실도 중요. \n",
    "* 누락된 데이터에는 세 가지 종류가 있음 \n",
    "  * 완전히 랜덤하게 누락(MCAR)\n",
    "    * 값이 누락될 확률이 모든 것에 독립적\n",
    "  * 랜덤하게 누락(MAR)\n",
    "    * 값이 누락될 확률이 완전히 랜덤하지 않고 다른 특성에서 얻은 정보에 의존\n",
    "    * 예를 들어 결혼 여부와 자녀 유무에 관히 질문한다고 가정할 때, 미혼자는 자녀 유무 항목을 건너뛸 가능성이 높음\n",
    "    * 이 때 자녀 유무 항목의 응답 여부는 결혼 여부 특성에서 얻은 정보에 의존\n",
    "  * 랜덤하지 않게 누락(MNAR)\n",
    "    * 값이 누락될 확률이 랜덤하지 않고 특성에서 잡지 못한 정보에 의존\n",
    "    * 예를 들어 설문에는 결혼 여부에 관한 질문이 있고, 미혼자는 자녀 유무 항목을 건너 뛸 가능성이 높지만, 데이터에 결혼 여부에 관한 특성이 포함되지 않은 경우 \n",
    "\n",
    "* MCAR이나 MAR이면 이따금 샘플을 삭제해도 괜찮음\n",
    "* MNAR이면 값이 누락되는 사실 자체가 정보. \n",
    "  * MNAR인 샘플을 삭제하면 데이터에 편향을 추가하게 됨. \n",
    "  * 관측하지 못한 구조적인 영향으로 샘플을 삭제하기 때문\n"
   ]
  },
  {
   "cell_type": "markdown",
   "metadata": {
    "id": "1m9Qp2_pz49M"
   },
   "source": [
    "* [누락된 데이터의 세 가지 종류](https://measuringu.com/missing-data/)\n",
    "* [누락된 데이터 채우기](http://www.stat.columbia.edu/~gelman/arm/missing.pdf)"
   ]
  },
  {
   "cell_type": "markdown",
   "metadata": {
    "id": "I65GfaVWJIeY"
   },
   "source": [
    "## 누락된 값을 채우기"
   ]
  },
  {
   "cell_type": "markdown",
   "metadata": {
    "id": "n__5z-vW0RbX"
   },
   "source": [
    "* 데이터에 누락된 값이 있을 때 이를 채우거나 값을 예측\n",
    "* 데이터의 양이 작으면 k-최근접 이웃(k-nearest neighbors, KNN) 알고리즘 사용 누락된 값 예측"
   ]
  },
  {
   "cell_type": "code",
   "execution_count": 2,
   "metadata": {},
   "outputs": [
    {
     "name": "stdout",
     "output_type": "stream",
     "text": [
      "Processing c:\\users\\nhkim\\appdata\\local\\pip\\cache\\wheels\\45\\e1\\7c\\5f6e503d959df84af6d91e87ae288961a906f895d910f6533b\\fancyimpute-0.7.0-py3-none-any.whl\n",
      "Requirement already satisfied: scikit-learn>=0.24.2 in c:\\users\\nhkim\\anaconda3\\lib\\site-packages (from fancyimpute) (1.0.2)\n",
      "Requirement already satisfied: pytest in c:\\users\\nhkim\\anaconda3\\lib\\site-packages (from fancyimpute) (5.4.3)\n",
      "Requirement already satisfied: nose in c:\\users\\nhkim\\anaconda3\\lib\\site-packages (from fancyimpute) (1.3.7)\n",
      "Requirement already satisfied: knnimpute>=0.1.0 in c:\\users\\nhkim\\anaconda3\\lib\\site-packages (from fancyimpute) (0.1.0)\n",
      "Collecting cvxpy\n",
      "  Using cached cvxpy-1.1.18-cp38-cp38-win_amd64.whl (799 kB)\n",
      "Collecting cvxopt\n",
      "  Using cached cvxopt-1.2.7-cp38-cp38-win_amd64.whl (9.5 MB)\n",
      "Requirement already satisfied: joblib>=0.11 in c:\\users\\nhkim\\anaconda3\\lib\\site-packages (from scikit-learn>=0.24.2->fancyimpute) (0.16.0)\n",
      "Requirement already satisfied: threadpoolctl>=2.0.0 in c:\\users\\nhkim\\anaconda3\\lib\\site-packages (from scikit-learn>=0.24.2->fancyimpute) (2.1.0)\n",
      "Requirement already satisfied: numpy>=1.14.6 in c:\\users\\nhkim\\anaconda3\\lib\\site-packages (from scikit-learn>=0.24.2->fancyimpute) (1.18.5)\n",
      "Requirement already satisfied: scipy>=1.1.0 in c:\\users\\nhkim\\anaconda3\\lib\\site-packages (from scikit-learn>=0.24.2->fancyimpute) (1.5.0)\n",
      "Requirement already satisfied: py>=1.5.0 in c:\\users\\nhkim\\anaconda3\\lib\\site-packages (from pytest->fancyimpute) (1.9.0)\n",
      "Requirement already satisfied: packaging in c:\\users\\nhkim\\anaconda3\\lib\\site-packages (from pytest->fancyimpute) (20.4)\n",
      "Requirement already satisfied: attrs>=17.4.0 in c:\\users\\nhkim\\anaconda3\\lib\\site-packages (from pytest->fancyimpute) (19.3.0)\n",
      "Requirement already satisfied: more-itertools>=4.0.0 in c:\\users\\nhkim\\anaconda3\\lib\\site-packages (from pytest->fancyimpute) (8.4.0)\n",
      "Requirement already satisfied: pluggy<1.0,>=0.12 in c:\\users\\nhkim\\anaconda3\\lib\\site-packages (from pytest->fancyimpute) (0.13.1)\n",
      "Requirement already satisfied: wcwidth in c:\\users\\nhkim\\anaconda3\\lib\\site-packages (from pytest->fancyimpute) (0.2.5)\n",
      "Requirement already satisfied: atomicwrites>=1.0 in c:\\users\\nhkim\\anaconda3\\lib\\site-packages (from pytest->fancyimpute) (1.4.0)\n",
      "Requirement already satisfied: colorama in c:\\users\\nhkim\\anaconda3\\lib\\site-packages (from pytest->fancyimpute) (0.4.3)\n",
      "Requirement already satisfied: six in c:\\users\\nhkim\\anaconda3\\lib\\site-packages (from knnimpute>=0.1.0->fancyimpute) (1.15.0)\n",
      "Collecting scs>=1.1.6\n",
      "  Using cached scs-3.1.0-cp38-cp38-win_amd64.whl (8.1 MB)\n",
      "Collecting osqp>=0.4.1\n",
      "  Using cached osqp-0.6.2.post5-cp38-cp38-win_amd64.whl (278 kB)\n",
      "Collecting ecos>=2\n",
      "  Using cached ecos-2.0.10-cp38-cp38-win_amd64.whl (68 kB)\n",
      "Requirement already satisfied: pyparsing>=2.0.2 in c:\\users\\nhkim\\anaconda3\\lib\\site-packages (from packaging->pytest->fancyimpute) (2.4.7)\n",
      "Collecting qdldl\n",
      "  Using cached qdldl-0.1.5.post0-cp38-cp38-win_amd64.whl (74 kB)\n",
      "Installing collected packages: scs, qdldl, osqp, ecos, cvxpy, cvxopt, fancyimpute\n",
      "Successfully installed cvxopt-1.2.7 cvxpy-1.1.18 ecos-2.0.10 fancyimpute-0.7.0 osqp-0.6.2.post5 qdldl-0.1.5.post0 scs-3.1.0\n",
      "Note: you may need to restart the kernel to use updated packages.\n"
     ]
    }
   ],
   "source": [
    "pip install fancyimpute"
   ]
  },
  {
   "cell_type": "code",
   "execution_count": 3,
   "metadata": {
    "colab": {
     "base_uri": "https://localhost:8080/"
    },
    "executionInfo": {
     "elapsed": 3714,
     "status": "ok",
     "timestamp": 1610521405825,
     "user": {
      "displayName": "Namhyoung Kim",
      "photoUrl": "",
      "userId": "10452528424857445283"
     },
     "user_tz": -540
    },
    "id": "4TFVls3UJIeY",
    "outputId": "d8f1b72d-4d5c-4c3f-8310-5507817160d3"
   },
   "outputs": [
    {
     "name": "stdout",
     "output_type": "stream",
     "text": [
      "실제 값: 0.8730186113995938\n",
      "대체된 값: 1.0955332713113226\n"
     ]
    }
   ],
   "source": [
    "# 라이브러리를 임포트합니다.\n",
    "import numpy as np\n",
    "from fancyimpute import KNN\n",
    "from sklearn.preprocessing import StandardScaler\n",
    "from sklearn.datasets import make_blobs\n",
    "\n",
    "# 모의 특성 행렬을 만듭니다.\n",
    "features, _ = make_blobs(n_samples = 1000,\n",
    "                         n_features = 2,\n",
    "                         random_state = 1)\n",
    "\n",
    "# 특성을 표준화합니다.\n",
    "scaler = StandardScaler()\n",
    "standardized_features = scaler.fit_transform(features)\n",
    "\n",
    "# 첫 번째 샘플의 첫 번째 특성을 삭제합니다.\n",
    "true_value = standardized_features[0,0]\n",
    "standardized_features[0,0] = np.nan\n",
    "\n",
    "# 특성 행렬에 있는 누락된 값을 예측합니다.\n",
    "features_knn_imputed = KNN(k=5, verbose=0).fit_transform(standardized_features)\n",
    "\n",
    "# 실제 값과 대체된 값을 비교합니다.\n",
    "print(\"실제 값:\", true_value)\n",
    "print(\"대체된 값:\", features_knn_imputed[0,0])\n"
   ]
  },
  {
   "cell_type": "markdown",
   "metadata": {
    "id": "k9-LnC6RJIeZ"
   },
   "source": [
    "### 붙임"
   ]
  },
  {
   "cell_type": "markdown",
   "metadata": {
    "id": "EBM8sJdR4dV1"
   },
   "source": [
    "* SimpleImputer 클래스를 사용하여 특성의 평균, 중간값, 최빈값, 고정값으로 누락된 값을 채울 수 있음"
   ]
  },
  {
   "cell_type": "markdown",
   "metadata": {
    "id": "HNYfstIR7QSo"
   },
   "source": [
    "* strategy 매개변수는 평균값으로 채우는 'mean', 중간값으로 채우는 'median', 가장 자주 등장하는 값으로 채우는 'most_frequent', 고정값으로 채우는 'constant'가 있음\n",
    "* 'constant' 일 때 fill_value 매개변수에 지정된 값으로 누락된 값을 대체"
   ]
  },
  {
   "cell_type": "code",
   "execution_count": 4,
   "metadata": {
    "colab": {
     "base_uri": "https://localhost:8080/"
    },
    "executionInfo": {
     "elapsed": 5720,
     "status": "ok",
     "timestamp": 1609776483567,
     "user": {
      "displayName": "Namhyoung Kim",
      "photoUrl": "",
      "userId": "10452528424857445283"
     },
     "user_tz": -540
    },
    "id": "JEd9VJe-JIeZ",
    "outputId": "77824b52-358d-4419-9c6d-8fb9f52f363f"
   },
   "outputs": [
    {
     "name": "stdout",
     "output_type": "stream",
     "text": [
      "실제 값 True Value: 0.8730186113995938\n",
      "대체된 값 Imputed Value: -0.000873892503901796\n"
     ]
    }
   ],
   "source": [
    "from sklearn.impute import SimpleImputer\n",
    "\n",
    "simple_imputer = SimpleImputer()\n",
    "features_simple_imputed = simple_imputer.fit_transform(standardized_features)\n",
    "\n",
    "# 실제 값과 대체된 값을 비교합니다.\n",
    "print(\"실제 값 True Value:\", true_value)\n",
    "print(\"대체된 값 Imputed Value:\", features_simple_imputed[0,0])"
   ]
  },
  {
   "cell_type": "markdown",
   "metadata": {
    "id": "1R6b0ygh4t2l"
   },
   "source": [
    "* 누락된 데이터를 다른 값으로 대체하는 두 전략은 각기 장단점이 있음\n",
    "* 머신러닝을 사용하여 누락된 값을 예측할 경우 \n",
    "  * 누락된 값이 있는 특성을 타깃으로 하고, 남은 특성으로 누락된 값을 예측\n",
    "  * KNN이 즐겨 사용됨\n",
    "  * KNN은 가장 가까이 있는 k개의 샘플을 사용해 누락된 값을 예측(기본값은 weighted mean 사용)\n",
    "  * KNN의 단점은 누락된 값에 가장 가까운 샘플을 구하기 위해 누락된 값과 모든 샘플 사이의 거리를 계산해야 한다는 것\n",
    "  * 작은 데이터 셋에서는 수용할만하지만 데이터셋의 샘플이 수백만개라면 문제가 될 수 있음\n",
    "* 누락된 값을 모두 어떤 평균값으로 채우는 경우\n",
    "  * 대체된 값이 KNN을 사용할 때처럼 실제 값에 근접하지 않지만 평균 대체는 수백만 개의 샘플이 있는 데이터에 적용가능\n",
    "\n",
    "* 값을 대체하는 전략을 사용한다면 대체된 값을 가진 샘플인지 여부를 나타내는 이진 특성을 만드는 것을 권장"
   ]
  },
  {
   "cell_type": "markdown",
   "metadata": {
    "id": "5LatYNIa6vmo"
   },
   "source": [
    "* [대체 방법으로서 k-최근접 이웃에 대한 연구](https://sites.icmc.usp.br/gbatista/files/his2002.pdf)"
   ]
  }
 ],
 "metadata": {
  "colab": {
   "collapsed_sections": [],
   "name": "ch9_numeric.ipynb",
   "provenance": [],
   "toc_visible": true
  },
  "kernelspec": {
   "display_name": "Python 3",
   "language": "python",
   "name": "python3"
  },
  "language_info": {
   "codemirror_mode": {
    "name": "ipython",
    "version": 3
   },
   "file_extension": ".py",
   "mimetype": "text/x-python",
   "name": "python",
   "nbconvert_exporter": "python",
   "pygments_lexer": "ipython3",
   "version": "3.8.3"
  }
 },
 "nbformat": 4,
 "nbformat_minor": 1
}
