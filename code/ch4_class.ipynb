{
 "cells": [
  {
   "cell_type": "markdown",
   "metadata": {
    "id": "mCjDSLxwM_ET"
   },
   "source": [
    "# Class and Object in Python"
   ]
  },
  {
   "cell_type": "markdown",
   "metadata": {},
   "source": [
    "**아래 링크를 통해 이 노트북을 주피터 노트북 뷰어(nbviewer.jupyter.org)로 보거나 구글 코랩(colab.research.google.com)에서 실행할 수 있습니다.**\n",
    "\n",
    "<table class=\"tfo-notebook-buttons\" align=\"left\">\n",
    "  <td>\n",
    "    <a target=\"_blank\" href=\"https://nbviewer.jupyter.org/github/nhkim55/bigdata_fintech_python/blob/main/code/ch4_class.ipynb\"><img src=\"https://jupyter.org/assets/main-logo.svg\" width=\"28\" />주피터 노트북 뷰어로 보기</a>\n",
    "  </td>\n",
    "  <td>\n",
    "    <a target=\"_blank\" href=\"https://colab.research.google.com/github/nhkim55/bigdata_fintech_python/blob/main/code/ch4_class.ipynb\"><img src=\"https://www.tensorflow.org/images/colab_logo_32px.png\" />구글 코랩(Colab)에서 실행하기</a>\n",
    "  </td>\n",
    "</table>"
   ]
  },
  {
   "cell_type": "markdown",
   "metadata": {
    "id": "KvLa30VCM_EX"
   },
   "source": [
    "## 클래스 필요성 "
   ]
  },
  {
   "cell_type": "code",
   "execution_count": null,
   "metadata": {
    "id": "Sa4I9i2jM_EY"
   },
   "outputs": [],
   "source": [
    "# 계산기 예제\n",
    "result=0\n",
    "\n",
    "def adder(num):\n",
    "    global result  # 전역 변수(global)사용\n",
    "    result += num\n",
    "    return result"
   ]
  },
  {
   "cell_type": "code",
   "execution_count": null,
   "metadata": {
    "colab": {
     "base_uri": "https://localhost:8080/"
    },
    "executionInfo": {
     "elapsed": 1196,
     "status": "ok",
     "timestamp": 1609492481951,
     "user": {
      "displayName": "Namhyoung Kim",
      "photoUrl": "",
      "userId": "10452528424857445283"
     },
     "user_tz": -540
    },
    "id": "9oA_didLM_EY",
    "outputId": "73458282-6513-4841-e428-6643714cf540"
   },
   "outputs": [
    {
     "name": "stdout",
     "output_type": "stream",
     "text": [
      "3\n",
      "7\n"
     ]
    }
   ],
   "source": [
    "print(adder(3))\n",
    "print(adder(4))"
   ]
  },
  {
   "cell_type": "code",
   "execution_count": null,
   "metadata": {
    "colab": {
     "base_uri": "https://localhost:8080/"
    },
    "executionInfo": {
     "elapsed": 1181,
     "status": "ok",
     "timestamp": 1609492484342,
     "user": {
      "displayName": "Namhyoung Kim",
      "photoUrl": "",
      "userId": "10452528424857445283"
     },
     "user_tz": -540
    },
    "id": "I9g2oyNGM_EZ",
    "outputId": "c980322c-3cee-476e-9435-1d57a21c6cc2"
   },
   "outputs": [
    {
     "name": "stdout",
     "output_type": "stream",
     "text": [
      "3\n",
      "7\n",
      "3\n",
      "10\n"
     ]
    }
   ],
   "source": [
    "# 2개의 계산기가 필요한 상황\n",
    "result1 = 0\n",
    "result2 = 0\n",
    "\n",
    "def adder1(num):\n",
    "    global result1\n",
    "    result1 += num\n",
    "    return result1\n",
    "def adder2(num):\n",
    "    global result2\n",
    "    result2 += num\n",
    "    return result2\n",
    "\n",
    "print(adder1(3))\n",
    "print(adder1(4))\n",
    "print(adder2(3))\n",
    "print(adder2(7))"
   ]
  },
  {
   "cell_type": "code",
   "execution_count": null,
   "metadata": {
    "colab": {
     "base_uri": "https://localhost:8080/"
    },
    "executionInfo": {
     "elapsed": 901,
     "status": "ok",
     "timestamp": 1609492486607,
     "user": {
      "displayName": "Namhyoung Kim",
      "photoUrl": "",
      "userId": "10452528424857445283"
     },
     "user_tz": -540
    },
    "id": "D6mq44GYM_EZ",
    "outputId": "5ab840b9-9728-4684-b261-02278bb9ff84"
   },
   "outputs": [
    {
     "data": {
      "text/plain": [
       "10"
      ]
     },
     "execution_count": 4,
     "metadata": {
      "tags": []
     },
     "output_type": "execute_result"
    }
   ],
   "source": [
    "result2"
   ]
  },
  {
   "cell_type": "code",
   "execution_count": null,
   "metadata": {
    "id": "dfrpPhMhM_Ea"
   },
   "outputs": [],
   "source": []
  },
  {
   "cell_type": "code",
   "execution_count": null,
   "metadata": {
    "id": "qvahJ-h0M_Ea"
   },
   "outputs": [],
   "source": [
    "# 클래스 이용\n",
    "class Calculator:\n",
    "    def __init__(self):\n",
    "        self.result=0\n",
    "\n",
    "    def adder(self, num):\n",
    "        self.result += num\n",
    "        return self.result"
   ]
  },
  {
   "cell_type": "code",
   "execution_count": null,
   "metadata": {
    "colab": {
     "base_uri": "https://localhost:8080/"
    },
    "executionInfo": {
     "elapsed": 895,
     "status": "ok",
     "timestamp": 1609492514069,
     "user": {
      "displayName": "Namhyoung Kim",
      "photoUrl": "",
      "userId": "10452528424857445283"
     },
     "user_tz": -540
    },
    "id": "p0OvXr4LM_Ea",
    "outputId": "4a05a22f-0754-4f7f-8abe-ec6d3a7e0667",
    "scrolled": true
   },
   "outputs": [
    {
     "name": "stdout",
     "output_type": "stream",
     "text": [
      "3\n",
      "7\n",
      "3\n",
      "10\n"
     ]
    }
   ],
   "source": [
    "cal1=Calculator()\n",
    "cal2=Calculator()\n",
    "\n",
    "print(cal1.adder(3))\n",
    "print(cal1.adder(4))\n",
    "print(cal2.adder(3))\n",
    "print(cal2.adder(7))"
   ]
  },
  {
   "cell_type": "code",
   "execution_count": null,
   "metadata": {
    "colab": {
     "base_uri": "https://localhost:8080/"
    },
    "executionInfo": {
     "elapsed": 883,
     "status": "ok",
     "timestamp": 1609492515900,
     "user": {
      "displayName": "Namhyoung Kim",
      "photoUrl": "",
      "userId": "10452528424857445283"
     },
     "user_tz": -540
    },
    "id": "SSBNqPFFM_Eb",
    "outputId": "f19e72fc-98f1-42d4-9319-3badc112f51c"
   },
   "outputs": [
    {
     "data": {
      "text/plain": [
       "7"
      ]
     },
     "execution_count": 7,
     "metadata": {
      "tags": []
     },
     "output_type": "execute_result"
    }
   ],
   "source": [
    "cal1.result"
   ]
  },
  {
   "cell_type": "code",
   "execution_count": null,
   "metadata": {
    "colab": {
     "base_uri": "https://localhost:8080/"
    },
    "executionInfo": {
     "elapsed": 582,
     "status": "ok",
     "timestamp": 1609492517433,
     "user": {
      "displayName": "Namhyoung Kim",
      "photoUrl": "",
      "userId": "10452528424857445283"
     },
     "user_tz": -540
    },
    "id": "AGlP7SaTM_Eb",
    "outputId": "c67e840d-5065-41fb-c503-b812113020ff"
   },
   "outputs": [
    {
     "data": {
      "text/plain": [
       "10"
      ]
     },
     "execution_count": 8,
     "metadata": {
      "tags": []
     },
     "output_type": "execute_result"
    }
   ],
   "source": [
    "cal2.result"
   ]
  },
  {
   "cell_type": "markdown",
   "metadata": {
    "id": "7NYfgpYdM_Eb"
   },
   "source": [
    "## 클래스(메서드  method) 개념 "
   ]
  },
  {
   "cell_type": "code",
   "execution_count": null,
   "metadata": {
    "id": "iq1i9uO0M_Eb"
   },
   "outputs": [],
   "source": [
    "# Service 클래스 예제\n",
    "\n",
    "class Service:\n",
    "    info=\"파이썬은 쉽고 편리한 언어이다.\"\n",
    "    "
   ]
  },
  {
   "cell_type": "code",
   "execution_count": null,
   "metadata": {
    "colab": {
     "base_uri": "https://localhost:8080/",
     "height": 36
    },
    "executionInfo": {
     "elapsed": 892,
     "status": "ok",
     "timestamp": 1609492526732,
     "user": {
      "displayName": "Namhyoung Kim",
      "photoUrl": "",
      "userId": "10452528424857445283"
     },
     "user_tz": -540
    },
    "id": "BCAr3HfCM_Eb",
    "outputId": "7170f35d-caae-4651-84ec-d27c8c83c6c0"
   },
   "outputs": [
    {
     "data": {
      "application/vnd.google.colaboratory.intrinsic+json": {
       "type": "string"
      },
      "text/plain": [
       "'파이썬은 쉽고 편리한 언어이다.'"
      ]
     },
     "execution_count": 10,
     "metadata": {
      "tags": []
     },
     "output_type": "execute_result"
    }
   ],
   "source": [
    "pey=Service()\n",
    "pey.info"
   ]
  },
  {
   "cell_type": "code",
   "execution_count": null,
   "metadata": {
    "id": "PrMsIBaAM_Ec"
   },
   "outputs": [],
   "source": [
    "class Service:\n",
    "    info=\"파이썬은 쉽고 편리한 언어이다.\"\n",
    "    def sum(self, a, b):\n",
    "        result=a+b\n",
    "        print(\"%s + %s =%s 입니다.\" %(a, b, result))"
   ]
  },
  {
   "cell_type": "code",
   "execution_count": null,
   "metadata": {
    "colab": {
     "base_uri": "https://localhost:8080/"
    },
    "executionInfo": {
     "elapsed": 871,
     "status": "ok",
     "timestamp": 1609492530185,
     "user": {
      "displayName": "Namhyoung Kim",
      "photoUrl": "",
      "userId": "10452528424857445283"
     },
     "user_tz": -540
    },
    "id": "OHQ8EZ5oM_Ec",
    "outputId": "6478a223-0e26-45c7-9200-2d5c858978cd"
   },
   "outputs": [
    {
     "name": "stdout",
     "output_type": "stream",
     "text": [
      "1 + 1 =2 입니다.\n"
     ]
    }
   ],
   "source": [
    "pey=Service()     \n",
    "pey.sum(1,1)"
   ]
  },
  {
   "cell_type": "code",
   "execution_count": null,
   "metadata": {
    "colab": {
     "base_uri": "https://localhost:8080/",
     "height": 36
    },
    "executionInfo": {
     "elapsed": 920,
     "status": "ok",
     "timestamp": 1609492531737,
     "user": {
      "displayName": "Namhyoung Kim",
      "photoUrl": "",
      "userId": "10452528424857445283"
     },
     "user_tz": -540
    },
    "id": "bmKaP_cdM_Ec",
    "outputId": "0e677ca0-f021-4b81-f3c3-098410b5d97a"
   },
   "outputs": [
    {
     "data": {
      "application/vnd.google.colaboratory.intrinsic+json": {
       "type": "string"
      },
      "text/plain": [
       "'파이썬은 쉽고 편리한 언어이다.'"
      ]
     },
     "execution_count": 13,
     "metadata": {
      "tags": []
     },
     "output_type": "execute_result"
    }
   ],
   "source": [
    "pey.info"
   ]
  },
  {
   "cell_type": "code",
   "execution_count": null,
   "metadata": {
    "id": "HfKsmkSVM_Ec"
   },
   "outputs": [],
   "source": [
    "class Service:\n",
    "    info=\"파이썬은 쉽고 편리한 언어이다.\"\n",
    "    def setname(self, name):\n",
    "        self.name=name\n",
    "    def sum(self, a, b):\n",
    "        result=a+b\n",
    "        print(\"%s님 %s + %s =%s 입니다.\" %(self.name, a, b, result))\n",
    "        \n"
   ]
  },
  {
   "cell_type": "code",
   "execution_count": null,
   "metadata": {
    "id": "X824fyNdM_Ec"
   },
   "outputs": [],
   "source": [
    "a = Service()"
   ]
  },
  {
   "cell_type": "code",
   "execution_count": null,
   "metadata": {
    "colab": {
     "base_uri": "https://localhost:8080/",
     "height": 288
    },
    "executionInfo": {
     "elapsed": 927,
     "status": "error",
     "timestamp": 1609492538633,
     "user": {
      "displayName": "Namhyoung Kim",
      "photoUrl": "",
      "userId": "10452528424857445283"
     },
     "user_tz": -540
    },
    "id": "q38UcnoVM_Ed",
    "outputId": "1e62893e-07a8-4f37-e509-3493e6ecf7eb"
   },
   "outputs": [
    {
     "ename": "AttributeError",
     "evalue": "ignored",
     "output_type": "error",
     "traceback": [
      "\u001b[0;31m---------------------------------------------------------------------------\u001b[0m",
      "\u001b[0;31mAttributeError\u001b[0m                            Traceback (most recent call last)",
      "\u001b[0;32m<ipython-input-16-be8e1ef44080>\u001b[0m in \u001b[0;36m<module>\u001b[0;34m()\u001b[0m\n\u001b[0;32m----> 1\u001b[0;31m \u001b[0ma\u001b[0m\u001b[0;34m.\u001b[0m\u001b[0msum\u001b[0m\u001b[0;34m(\u001b[0m\u001b[0;36m1\u001b[0m\u001b[0;34m,\u001b[0m\u001b[0;36m2\u001b[0m\u001b[0;34m)\u001b[0m\u001b[0;34m\u001b[0m\u001b[0;34m\u001b[0m\u001b[0m\n\u001b[0m",
      "\u001b[0;32m<ipython-input-14-b6d501f452d4>\u001b[0m in \u001b[0;36msum\u001b[0;34m(self, a, b)\u001b[0m\n\u001b[1;32m      5\u001b[0m     \u001b[0;32mdef\u001b[0m \u001b[0msum\u001b[0m\u001b[0;34m(\u001b[0m\u001b[0mself\u001b[0m\u001b[0;34m,\u001b[0m \u001b[0ma\u001b[0m\u001b[0;34m,\u001b[0m \u001b[0mb\u001b[0m\u001b[0;34m)\u001b[0m\u001b[0;34m:\u001b[0m\u001b[0;34m\u001b[0m\u001b[0;34m\u001b[0m\u001b[0m\n\u001b[1;32m      6\u001b[0m         \u001b[0mresult\u001b[0m\u001b[0;34m=\u001b[0m\u001b[0ma\u001b[0m\u001b[0;34m+\u001b[0m\u001b[0mb\u001b[0m\u001b[0;34m\u001b[0m\u001b[0;34m\u001b[0m\u001b[0m\n\u001b[0;32m----> 7\u001b[0;31m         \u001b[0mprint\u001b[0m\u001b[0;34m(\u001b[0m\u001b[0;34m\"%s님 %s + %s =%s 입니다.\"\u001b[0m \u001b[0;34m%\u001b[0m\u001b[0;34m(\u001b[0m\u001b[0mself\u001b[0m\u001b[0;34m.\u001b[0m\u001b[0mname\u001b[0m\u001b[0;34m,\u001b[0m \u001b[0ma\u001b[0m\u001b[0;34m,\u001b[0m \u001b[0mb\u001b[0m\u001b[0;34m,\u001b[0m \u001b[0mresult\u001b[0m\u001b[0;34m)\u001b[0m\u001b[0;34m)\u001b[0m\u001b[0;34m\u001b[0m\u001b[0;34m\u001b[0m\u001b[0m\n\u001b[0m\u001b[1;32m      8\u001b[0m \u001b[0;34m\u001b[0m\u001b[0m\n",
      "\u001b[0;31mAttributeError\u001b[0m: 'Service' object has no attribute 'name'"
     ]
    }
   ],
   "source": [
    "a.sum(1,2)"
   ]
  },
  {
   "cell_type": "code",
   "execution_count": null,
   "metadata": {
    "colab": {
     "base_uri": "https://localhost:8080/"
    },
    "executionInfo": {
     "elapsed": 910,
     "status": "ok",
     "timestamp": 1609492662821,
     "user": {
      "displayName": "Namhyoung Kim",
      "photoUrl": "",
      "userId": "10452528424857445283"
     },
     "user_tz": -540
    },
    "id": "I6Z2ZZVRM_Ed",
    "outputId": "6cbac6aa-fbab-456e-d9d8-09110f934a7b"
   },
   "outputs": [
    {
     "name": "stdout",
     "output_type": "stream",
     "text": [
      "홍길동님 1 + 1 =2 입니다.\n"
     ]
    }
   ],
   "source": [
    "pey=Service() \n",
    "pey.setname(\"홍길동\")\n",
    "pey.sum(1,1)"
   ]
  },
  {
   "cell_type": "code",
   "execution_count": null,
   "metadata": {
    "id": "8_kHhME_M_Ed"
   },
   "outputs": [],
   "source": [
    "babo=Service()  \n"
   ]
  },
  {
   "cell_type": "code",
   "execution_count": null,
   "metadata": {
    "colab": {
     "base_uri": "https://localhost:8080/",
     "height": 288
    },
    "executionInfo": {
     "elapsed": 911,
     "status": "error",
     "timestamp": 1609492676998,
     "user": {
      "displayName": "Namhyoung Kim",
      "photoUrl": "",
      "userId": "10452528424857445283"
     },
     "user_tz": -540
    },
    "id": "3sg3DEiVM_Ed",
    "outputId": "c2ebccb6-fcdb-44bf-d213-cbde0d58615f"
   },
   "outputs": [
    {
     "ename": "AttributeError",
     "evalue": "ignored",
     "output_type": "error",
     "traceback": [
      "\u001b[0;31m---------------------------------------------------------------------------\u001b[0m",
      "\u001b[0;31mAttributeError\u001b[0m                            Traceback (most recent call last)",
      "\u001b[0;32m<ipython-input-22-ad44ec5858dd>\u001b[0m in \u001b[0;36m<module>\u001b[0;34m()\u001b[0m\n\u001b[0;32m----> 1\u001b[0;31m \u001b[0mbabo\u001b[0m\u001b[0;34m.\u001b[0m\u001b[0msum\u001b[0m\u001b[0;34m(\u001b[0m\u001b[0;36m1\u001b[0m\u001b[0;34m,\u001b[0m\u001b[0;36m1\u001b[0m\u001b[0;34m)\u001b[0m \u001b[0;31m# 이름을 먼저 입력받지 못할 경우 오류 발생\u001b[0m\u001b[0;34m\u001b[0m\u001b[0;34m\u001b[0m\u001b[0m\n\u001b[0m",
      "\u001b[0;32m<ipython-input-14-b6d501f452d4>\u001b[0m in \u001b[0;36msum\u001b[0;34m(self, a, b)\u001b[0m\n\u001b[1;32m      5\u001b[0m     \u001b[0;32mdef\u001b[0m \u001b[0msum\u001b[0m\u001b[0;34m(\u001b[0m\u001b[0mself\u001b[0m\u001b[0;34m,\u001b[0m \u001b[0ma\u001b[0m\u001b[0;34m,\u001b[0m \u001b[0mb\u001b[0m\u001b[0;34m)\u001b[0m\u001b[0;34m:\u001b[0m\u001b[0;34m\u001b[0m\u001b[0;34m\u001b[0m\u001b[0m\n\u001b[1;32m      6\u001b[0m         \u001b[0mresult\u001b[0m\u001b[0;34m=\u001b[0m\u001b[0ma\u001b[0m\u001b[0;34m+\u001b[0m\u001b[0mb\u001b[0m\u001b[0;34m\u001b[0m\u001b[0;34m\u001b[0m\u001b[0m\n\u001b[0;32m----> 7\u001b[0;31m         \u001b[0mprint\u001b[0m\u001b[0;34m(\u001b[0m\u001b[0;34m\"%s님 %s + %s =%s 입니다.\"\u001b[0m \u001b[0;34m%\u001b[0m\u001b[0;34m(\u001b[0m\u001b[0mself\u001b[0m\u001b[0;34m.\u001b[0m\u001b[0mname\u001b[0m\u001b[0;34m,\u001b[0m \u001b[0ma\u001b[0m\u001b[0;34m,\u001b[0m \u001b[0mb\u001b[0m\u001b[0;34m,\u001b[0m \u001b[0mresult\u001b[0m\u001b[0;34m)\u001b[0m\u001b[0;34m)\u001b[0m\u001b[0;34m\u001b[0m\u001b[0;34m\u001b[0m\u001b[0m\n\u001b[0m\u001b[1;32m      8\u001b[0m \u001b[0;34m\u001b[0m\u001b[0m\n",
      "\u001b[0;31mAttributeError\u001b[0m: 'Service' object has no attribute 'name'"
     ]
    }
   ],
   "source": [
    "babo.sum(1,1) # 이름을 먼저 입력받지 못할 경우 오류 발생"
   ]
  },
  {
   "cell_type": "code",
   "execution_count": null,
   "metadata": {
    "id": "aEVW056XM_Ed"
   },
   "outputs": [],
   "source": [
    "# _init_ 함수\n",
    "class Service:\n",
    "    info=\"파이썬은 쉽고 편리한 언어이다.\"\n",
    "    def __init__(self, name):\n",
    "        self.name=name\n",
    "    def sum(self, a, b):\n",
    "        result=a+b\n",
    "        print(\"%s님 %s + %s =%s 입니다.\" %(self.name, a, b, result))\n",
    "\n"
   ]
  },
  {
   "cell_type": "code",
   "execution_count": null,
   "metadata": {
    "colab": {
     "base_uri": "https://localhost:8080/",
     "height": 36
    },
    "executionInfo": {
     "elapsed": 967,
     "status": "ok",
     "timestamp": 1609492701699,
     "user": {
      "displayName": "Namhyoung Kim",
      "photoUrl": "",
      "userId": "10452528424857445283"
     },
     "user_tz": -540
    },
    "id": "DUH6kwJ5M_Ee",
    "outputId": "01edd1c3-efd7-49f4-92e3-b6e8215f5650"
   },
   "outputs": [
    {
     "data": {
      "application/vnd.google.colaboratory.intrinsic+json": {
       "type": "string"
      },
      "text/plain": [
       "'a'"
      ]
     },
     "execution_count": 24,
     "metadata": {
      "tags": []
     },
     "output_type": "execute_result"
    }
   ],
   "source": [
    "pey=Service(\"a\")\n",
    "pey.name"
   ]
  },
  {
   "cell_type": "code",
   "execution_count": null,
   "metadata": {
    "colab": {
     "base_uri": "https://localhost:8080/"
    },
    "executionInfo": {
     "elapsed": 898,
     "status": "ok",
     "timestamp": 1609492703927,
     "user": {
      "displayName": "Namhyoung Kim",
      "photoUrl": "",
      "userId": "10452528424857445283"
     },
     "user_tz": -540
    },
    "id": "oYtqhWxjM_Ee",
    "outputId": "f9d224f7-4cc5-4be8-924a-4c664c7c03a6"
   },
   "outputs": [
    {
     "name": "stdout",
     "output_type": "stream",
     "text": [
      "홍길동님 1 + 2 =3 입니다.\n"
     ]
    }
   ],
   "source": [
    "pey=Service(\"홍길동\")\n",
    "pey.sum(1,2)"
   ]
  },
  {
   "cell_type": "markdown",
   "metadata": {
    "id": "a6R8N5jSM_Ee"
   },
   "source": [
    "## 클래스의 구조"
   ]
  },
  {
   "cell_type": "code",
   "execution_count": null,
   "metadata": {
    "id": "2aVvfVgBM_Ee"
   },
   "outputs": [],
   "source": [
    "# MyClass 예\n",
    "class MyClass(object):\n",
    "    \"\"\"\n",
    "    클래스에 대한 설명\n",
    "    \"\"\"\n",
    "    x=0\n",
    "    y=0\n",
    "    \n",
    "    def my_print(self):\n",
    "        self.x += 1  # 인스턴스 속성\n",
    "        MyClass.y += 1 # 클래스 속성\n",
    "        print('(x, y) = ({}, {})'.format(self.x, self.y))"
   ]
  },
  {
   "cell_type": "code",
   "execution_count": null,
   "metadata": {
    "id": "aKmxa7jsM_Ee"
   },
   "outputs": [],
   "source": [
    "a = MyClass()\n",
    "b = MyClass()"
   ]
  },
  {
   "cell_type": "code",
   "execution_count": null,
   "metadata": {
    "colab": {
     "base_uri": "https://localhost:8080/"
    },
    "executionInfo": {
     "elapsed": 855,
     "status": "ok",
     "timestamp": 1609492719608,
     "user": {
      "displayName": "Namhyoung Kim",
      "photoUrl": "",
      "userId": "10452528424857445283"
     },
     "user_tz": -540
    },
    "id": "4jcaWzEnM_Ee",
    "outputId": "3a86219d-022f-499c-b369-092245238d20"
   },
   "outputs": [
    {
     "data": {
      "text/plain": [
       "0"
      ]
     },
     "execution_count": 28,
     "metadata": {
      "tags": []
     },
     "output_type": "execute_result"
    }
   ],
   "source": [
    "a.x"
   ]
  },
  {
   "cell_type": "code",
   "execution_count": null,
   "metadata": {
    "colab": {
     "base_uri": "https://localhost:8080/"
    },
    "executionInfo": {
     "elapsed": 648,
     "status": "ok",
     "timestamp": 1609492720545,
     "user": {
      "displayName": "Namhyoung Kim",
      "photoUrl": "",
      "userId": "10452528424857445283"
     },
     "user_tz": -540
    },
    "id": "zRGDw_OgM_Ef",
    "outputId": "c6fbd908-70f9-4db3-edad-3ab8be6e4856"
   },
   "outputs": [
    {
     "data": {
      "text/plain": [
       "0"
      ]
     },
     "execution_count": 29,
     "metadata": {
      "tags": []
     },
     "output_type": "execute_result"
    }
   ],
   "source": [
    "b.x"
   ]
  },
  {
   "cell_type": "code",
   "execution_count": null,
   "metadata": {
    "id": "DP3Jk_GNM_Ef",
    "outputId": "a0915750-684e-4b0d-e688-4cb6aedf98bd"
   },
   "outputs": [
    {
     "data": {
      "text/plain": [
       "0"
      ]
     },
     "execution_count": 14,
     "metadata": {
      "tags": []
     },
     "output_type": "execute_result"
    }
   ],
   "source": [
    "a.y"
   ]
  },
  {
   "cell_type": "code",
   "execution_count": null,
   "metadata": {
    "colab": {
     "base_uri": "https://localhost:8080/"
    },
    "executionInfo": {
     "elapsed": 869,
     "status": "ok",
     "timestamp": 1609492729882,
     "user": {
      "displayName": "Namhyoung Kim",
      "photoUrl": "",
      "userId": "10452528424857445283"
     },
     "user_tz": -540
    },
    "id": "doBFgKxBM_Ef",
    "outputId": "04a34f1c-52d7-4b80-82f3-7ca70e06d1f5"
   },
   "outputs": [
    {
     "name": "stdout",
     "output_type": "stream",
     "text": [
      "(x, y) = (1, 1)\n",
      "(x, y) = (1, 2)\n",
      "(x, y) = (2, 3)\n"
     ]
    }
   ],
   "source": [
    "\n",
    "# 클래스의 인스턴스 생성\n",
    "f=MyClass  # ()가 없으면 클래스에 별명을 붙인다는 의미\n",
    "a=MyClass() # MyClass 클래스의 인스턴스를 만들고 여기에 a라는 이름을 붙임\n",
    "b=f()   # f()는 MyClass()와 같은 의미\n",
    "a.my_print()\n",
    "b.my_print()\n",
    "b.my_print()"
   ]
  },
  {
   "cell_type": "code",
   "execution_count": null,
   "metadata": {
    "colab": {
     "base_uri": "https://localhost:8080/"
    },
    "executionInfo": {
     "elapsed": 949,
     "status": "ok",
     "timestamp": 1609492744412,
     "user": {
      "displayName": "Namhyoung Kim",
      "photoUrl": "",
      "userId": "10452528424857445283"
     },
     "user_tz": -540
    },
    "id": "1Wxhqz_BM_Ef",
    "outputId": "0ddd4493-13ca-4afa-9566-71d78fcc91d2"
   },
   "outputs": [
    {
     "name": "stdout",
     "output_type": "stream",
     "text": [
      "(x, y) = (1, 4)\n"
     ]
    }
   ],
   "source": [
    "c=MyClass()\n",
    "c.my_print()"
   ]
  },
  {
   "cell_type": "code",
   "execution_count": null,
   "metadata": {
    "colab": {
     "base_uri": "https://localhost:8080/"
    },
    "executionInfo": {
     "elapsed": 886,
     "status": "ok",
     "timestamp": 1609492747246,
     "user": {
      "displayName": "Namhyoung Kim",
      "photoUrl": "",
      "userId": "10452528424857445283"
     },
     "user_tz": -540
    },
    "id": "y3cg_wVwM_Ef",
    "outputId": "51b593ff-dbb6-4b40-cc66-ae2f4c1d420d"
   },
   "outputs": [
    {
     "name": "stdout",
     "output_type": "stream",
     "text": [
      "(x, y) = (3, 5)\n"
     ]
    }
   ],
   "source": [
    "b.my_print()"
   ]
  },
  {
   "cell_type": "markdown",
   "metadata": {
    "id": "LVdmHY_nM_Eg"
   },
   "source": [
    "## 클래스 상속"
   ]
  },
  {
   "cell_type": "code",
   "execution_count": null,
   "metadata": {
    "id": "_8K0QawnM_Eg"
   },
   "outputs": [],
   "source": [
    "# (1) 클래스 MyBase의 정의 (MyDeriv의 기반 클래스)\n",
    "class MyBase(object):\n",
    "    coeff = 2\n",
    "\n",
    "    def __init__(self, x):\n",
    "        self.x = x\n",
    "\n",
    "    def mult(self):\n",
    "        return self.coeff * self.x"
   ]
  },
  {
   "cell_type": "code",
   "execution_count": null,
   "metadata": {
    "colab": {
     "base_uri": "https://localhost:8080/"
    },
    "executionInfo": {
     "elapsed": 981,
     "status": "ok",
     "timestamp": 1609492782028,
     "user": {
      "displayName": "Namhyoung Kim",
      "photoUrl": "",
      "userId": "10452528424857445283"
     },
     "user_tz": -540
    },
    "id": "ac6QXYOcM_Eg",
    "outputId": "4adf736c-c377-4533-9ebc-a32cfc0faf81"
   },
   "outputs": [
    {
     "data": {
      "text/plain": [
       "4"
      ]
     },
     "execution_count": 35,
     "metadata": {
      "tags": []
     },
     "output_type": "execute_result"
    }
   ],
   "source": [
    "a = MyBase(4)\n",
    "a.x"
   ]
  },
  {
   "cell_type": "code",
   "execution_count": null,
   "metadata": {
    "id": "ZHOp51TaM_Eg",
    "outputId": "7eb318ad-4d59-40a4-d37e-4206c71aceca"
   },
   "outputs": [
    {
     "data": {
      "text/plain": [
       "8"
      ]
     },
     "execution_count": 24,
     "metadata": {
      "tags": []
     },
     "output_type": "execute_result"
    }
   ],
   "source": [
    "a.mult()"
   ]
  },
  {
   "cell_type": "code",
   "execution_count": null,
   "metadata": {
    "id": "B2YJG4pcM_Eg"
   },
   "outputs": [],
   "source": [
    "# (2) 클래스 MyDeriv의 정의 (MyBase의 파생 클래스)\n",
    "class MyDeriv(MyBase):\n",
    "    coeff = 3  # (3) 속성을 재정의\n",
    "\n",
    "    # (4) 생성자 메소드를 재정의\n",
    "    def __init__(self, x, y):\n",
    "        super().__init__(x)  # (5) 기반 클래스의 메소드 호출 예\n",
    "        self.y = y  # (6) 속성 y를 추가하여 인스턴스를 생성할 때 초기화함\n",
    "\n",
    "    # (7) 새로운 메소드를 추가(메서드 mult는 상속받았음)\n",
    "    def mult2(self):\n",
    "        return self.coeff * self.x * self.y"
   ]
  },
  {
   "cell_type": "code",
   "execution_count": null,
   "metadata": {
    "colab": {
     "base_uri": "https://localhost:8080/"
    },
    "executionInfo": {
     "elapsed": 884,
     "status": "ok",
     "timestamp": 1609492799267,
     "user": {
      "displayName": "Namhyoung Kim",
      "photoUrl": "",
      "userId": "10452528424857445283"
     },
     "user_tz": -540
    },
    "id": "YFPurOvOM_Eg",
    "outputId": "4c1059e8-20b1-441a-e0af-6f6ac4408fa8"
   },
   "outputs": [
    {
     "name": "stdout",
     "output_type": "stream",
     "text": [
      "6\n",
      "9\n",
      "45\n"
     ]
    }
   ],
   "source": [
    "# (8)MyBase와 MyDeriv를 사용하는 예\n",
    "a = MyBase(3)  # MyBase의 인스턴스를 생성\n",
    "print(a.mult())  # 결과 : 2*3=6\n",
    "b = MyDeriv(3, 5)  # MyDeriv의 인스턴스를 생성\n",
    "print(b.mult())  # 결과 : 3*3=9 (상속받은 메소드 확인)\n",
    "print(b.mult2())  # 결과 :3*5*5=45 (새로 추가한 메소드 확인)\n"
   ]
  },
  {
   "cell_type": "markdown",
   "metadata": {
    "id": "PJD17bCnM_Ei"
   },
   "source": [
    "## 네임 스페이스 \n",
    "### 네임스페이스와 유효범위 생성"
   ]
  },
  {
   "cell_type": "code",
   "execution_count": null,
   "metadata": {
    "id": "pGK0i9-qM_Ei"
   },
   "outputs": [],
   "source": [
    "x = 10\n",
    "\n",
    "class MyClass(object):\n",
    "    x = 3  # x가 속하는 네임스페이스가 생성된다\n",
    "\n",
    "    def __init__(self, y):\n",
    "        self.x += y\n",
    "\n",
    "    def my_add(self, z):\n",
    "        self.x = self.x + z  # 오류 : x의 유효 범위가 생성되지 않았다\n",
    "        # self.x 로 바꾸면 참조 가능"
   ]
  },
  {
   "cell_type": "code",
   "execution_count": null,
   "metadata": {
    "id": "ZK7sQUa4M_Ej"
   },
   "outputs": [],
   "source": [
    "a = MyClass(10)"
   ]
  },
  {
   "cell_type": "code",
   "execution_count": null,
   "metadata": {
    "colab": {
     "base_uri": "https://localhost:8080/"
    },
    "executionInfo": {
     "elapsed": 1015,
     "status": "ok",
     "timestamp": 1609492827381,
     "user": {
      "displayName": "Namhyoung Kim",
      "photoUrl": "",
      "userId": "10452528424857445283"
     },
     "user_tz": -540
    },
    "id": "eeePXytgM_Ej",
    "outputId": "d7c502e4-b808-4fc1-da6c-8618d52e25f7"
   },
   "outputs": [
    {
     "data": {
      "text/plain": [
       "13"
      ]
     },
     "execution_count": 40,
     "metadata": {
      "tags": []
     },
     "output_type": "execute_result"
    }
   ],
   "source": [
    "a.x"
   ]
  },
  {
   "cell_type": "code",
   "execution_count": null,
   "metadata": {
    "id": "ecpaTpbaM_Ej"
   },
   "outputs": [],
   "source": [
    "a.my_add(10)"
   ]
  },
  {
   "cell_type": "code",
   "execution_count": null,
   "metadata": {
    "colab": {
     "base_uri": "https://localhost:8080/"
    },
    "executionInfo": {
     "elapsed": 912,
     "status": "ok",
     "timestamp": 1609492832046,
     "user": {
      "displayName": "Namhyoung Kim",
      "photoUrl": "",
      "userId": "10452528424857445283"
     },
     "user_tz": -540
    },
    "id": "RFqBBoT3M_Ej",
    "outputId": "d5e52968-9cf1-4411-bc9f-023d8b7c55ef"
   },
   "outputs": [
    {
     "name": "stdout",
     "output_type": "stream",
     "text": [
      "23\n"
     ]
    }
   ],
   "source": [
    "print(a.x)"
   ]
  },
  {
   "cell_type": "markdown",
   "metadata": {
    "id": "ikjQeBsMM_Ej"
   },
   "source": [
    "### 클래스 속성과 인스턴스 속성 "
   ]
  },
  {
   "cell_type": "code",
   "execution_count": null,
   "metadata": {
    "colab": {
     "base_uri": "https://localhost:8080/"
    },
    "executionInfo": {
     "elapsed": 902,
     "status": "ok",
     "timestamp": 1609492932463,
     "user": {
      "displayName": "Namhyoung Kim",
      "photoUrl": "",
      "userId": "10452528424857445283"
     },
     "user_tz": -540
    },
    "id": "yj1We_S-M_Ej",
    "outputId": "1aebb37f-1a1f-40a2-eeab-8caba138c5bf",
    "scrolled": true
   },
   "outputs": [
    {
     "name": "stdout",
     "output_type": "stream",
     "text": [
      "xx =  104\n"
     ]
    }
   ],
   "source": [
    "# (1) 전역 네임스페이스에 x를 정의\n",
    "x = 100\n",
    "\n",
    "\n",
    "class MyClass:\n",
    "    # (2) 이 클래스의 변수 i와 x를 정의\n",
    "    i = 10  # 메소드 price() 안에서 참조\n",
    "    x += 2  # 전역 네임스페이스 상의 x에 2를 더함\n",
    "    xx = x + 2  # (3) MyClass 안의 x를 참조\n",
    "    print('xx = ', xx)\n",
    "\n",
    "    def price(self):\n",
    "        y = self.i * x  # (4) 전역 네임스페이스의 객체 x를 참조\n",
    "        z = self.i * self.x  # (5) 인스턴스 속성 -> 클래스 속성 순으로 검색하여 참조\n",
    "        # z = i * x  # (6) 오류 (여기서 변수 i를| 볼 수 없다)\n",
    "        print(\"price y = %d\" % y)\n",
    "        print(\"price z = %d\" % z)\n",
    "\n",
    "    def shop(self):\n",
    "        # price()  # (7) 오류 (NameError)\n",
    "        self.price()  # (8) 오류 없음\n",
    "        # MyClass.price(self) # (9) 역시 오류 없음\n",
    "        MyClass.i = 20  # (10) 클래스 변수를 변경\n",
    "        print(\"메서드 shop 실행 끝\")"
   ]
  },
  {
   "cell_type": "code",
   "execution_count": null,
   "metadata": {
    "id": "RszxS3-pM_Ek"
   },
   "outputs": [],
   "source": [
    "a = MyClass()\n",
    "b = MyClass()"
   ]
  },
  {
   "cell_type": "code",
   "execution_count": null,
   "metadata": {
    "id": "FYT-B8nbM_Ek"
   },
   "outputs": [],
   "source": [
    "# del x"
   ]
  },
  {
   "cell_type": "code",
   "execution_count": null,
   "metadata": {
    "colab": {
     "base_uri": "https://localhost:8080/"
    },
    "executionInfo": {
     "elapsed": 873,
     "status": "ok",
     "timestamp": 1609492936220,
     "user": {
      "displayName": "Namhyoung Kim",
      "photoUrl": "",
      "userId": "10452528424857445283"
     },
     "user_tz": -540
    },
    "id": "JXHpukWcM_Ek",
    "outputId": "47241553-3714-4420-8436-53722fc818be",
    "scrolled": true
   },
   "outputs": [
    {
     "name": "stdout",
     "output_type": "stream",
     "text": [
      "price y = 1000\n",
      "price z = 1020\n",
      "메서드 shop 실행 끝\n",
      "(a.i, b.i) = (20, 20)\n",
      "(a.i, b.i) = (2, 4)\n"
     ]
    }
   ],
   "source": [
    "# (11) 테스트를 위한 실행 코드\n",
    "a = MyClass()\n",
    "b = MyClass()\n",
    "a.shop()  # 이 안에서 MyClass.i = 20 이 실행된다.\n",
    "print('(a.i, b.i) = ({}, {})'.format(a.i, b.i))\n",
    "a.i = 2  # 인스턴스 속성 값을 설정\n",
    "MyClass.i = 4  # 클래스 속성 값을 설정\n",
    "print('(a.i, b.i) = ({}, {})'.format(a.i, b.i))"
   ]
  },
  {
   "cell_type": "code",
   "execution_count": null,
   "metadata": {
    "colab": {
     "base_uri": "https://localhost:8080/"
    },
    "executionInfo": {
     "elapsed": 938,
     "status": "ok",
     "timestamp": 1609492940716,
     "user": {
      "displayName": "Namhyoung Kim",
      "photoUrl": "",
      "userId": "10452528424857445283"
     },
     "user_tz": -540
    },
    "id": "B0hQ6M0jM_Ek",
    "outputId": "438ae9ca-44d1-48ad-99fd-f492266d68d1"
   },
   "outputs": [
    {
     "name": "stdout",
     "output_type": "stream",
     "text": [
      "price y = 200\n",
      "price z = 204\n"
     ]
    },
    {
     "data": {
      "text/plain": [
       "102"
      ]
     },
     "execution_count": 52,
     "metadata": {
      "tags": []
     },
     "output_type": "execute_result"
    }
   ],
   "source": [
    "a.price()\n",
    "a.x"
   ]
  },
  {
   "cell_type": "code",
   "execution_count": null,
   "metadata": {
    "id": "N99nYo5bM_Ek",
    "outputId": "f48299ed-c51f-451f-8b8b-734b8ae70c61"
   },
   "outputs": [
    {
     "data": {
      "text/plain": [
       "4"
      ]
     },
     "execution_count": 74,
     "metadata": {
      "tags": []
     },
     "output_type": "execute_result"
    }
   ],
   "source": [
    "aa=MyClass()\n",
    "aa.i"
   ]
  },
  {
   "cell_type": "code",
   "execution_count": null,
   "metadata": {
    "id": "ZawcMdrvM_Ek",
    "outputId": "91b5a8a4-6523-4555-b3ba-1b3264aba2d9"
   },
   "outputs": [
    {
     "data": {
      "text/plain": [
       "102"
      ]
     },
     "execution_count": 72,
     "metadata": {
      "tags": []
     },
     "output_type": "execute_result"
    }
   ],
   "source": [
    "b.x"
   ]
  },
  {
   "cell_type": "markdown",
   "metadata": {
    "id": "6rcHDecTM_El"
   },
   "source": [
    "## Example '박씨네 집' 클래스\n"
   ]
  },
  {
   "cell_type": "code",
   "execution_count": null,
   "metadata": {
    "id": "OpJxlLV2M_El"
   },
   "outputs": [],
   "source": [
    "class HousePark:\n",
    "    lastname = \"박\""
   ]
  },
  {
   "cell_type": "code",
   "execution_count": null,
   "metadata": {
    "id": "V0RCU3byM_El"
   },
   "outputs": [],
   "source": [
    "pey = HousePark()\n",
    "pes = HousePark()"
   ]
  },
  {
   "cell_type": "code",
   "execution_count": null,
   "metadata": {
    "id": "MrZvKPLEM_El",
    "outputId": "ef46c270-7d81-4647-99c5-14245667777a"
   },
   "outputs": [
    {
     "name": "stdout",
     "output_type": "stream",
     "text": [
      "박\n"
     ]
    }
   ],
   "source": [
    "print(pey.lastname)"
   ]
  },
  {
   "cell_type": "code",
   "execution_count": null,
   "metadata": {
    "id": "uC-YgdTKM_El",
    "outputId": "91470054-d817-4e1e-9d88-ee94264fa2d6"
   },
   "outputs": [
    {
     "name": "stdout",
     "output_type": "stream",
     "text": [
      "박\n"
     ]
    }
   ],
   "source": [
    "print(pes.lastname)"
   ]
  },
  {
   "cell_type": "code",
   "execution_count": null,
   "metadata": {
    "id": "fQBfpjfFM_El"
   },
   "outputs": [],
   "source": [
    "class HousePark:\n",
    "    lastname = \"박\"\n",
    "    def setname(self, name):\n",
    "        self.fullname = self.lastname + name\n"
   ]
  },
  {
   "cell_type": "code",
   "execution_count": null,
   "metadata": {
    "id": "soPyxiV7M_El",
    "outputId": "7bede0c9-7144-4c7a-fd9e-397cc5f7f3ce"
   },
   "outputs": [
    {
     "name": "stdout",
     "output_type": "stream",
     "text": [
      "박응용\n"
     ]
    }
   ],
   "source": [
    "pey = HousePark()\n",
    "pey.setname(\"응용\")\n",
    "print(pey.fullname)"
   ]
  },
  {
   "cell_type": "code",
   "execution_count": null,
   "metadata": {
    "id": "YcNLwV7eM_Em"
   },
   "outputs": [],
   "source": [
    "class HousePark:\n",
    "    lastname = \"박\"\n",
    "    def  setname(self, name):\n",
    "        self.fullname = self.lastname + name\n",
    "    def travel(self, where):\n",
    "        print(\"%s, %s여행을 가다.\" %(self.fullname, where))\n"
   ]
  },
  {
   "cell_type": "code",
   "execution_count": null,
   "metadata": {
    "id": "X0oFIkIEM_Em",
    "outputId": "25ec253f-cda6-49f7-9ec7-edc5badca0ee"
   },
   "outputs": [
    {
     "name": "stdout",
     "output_type": "stream",
     "text": [
      "박응용, 부산여행을 가다.\n"
     ]
    }
   ],
   "source": [
    "pey=HousePark()\n",
    "pey.setname(\"응용\")\n",
    "pey.travel(\"부산\")"
   ]
  },
  {
   "cell_type": "code",
   "execution_count": null,
   "metadata": {
    "id": "mZhGhZZmM_Em",
    "outputId": "872d3955-9962-426d-cb25-64bbc4f99b62"
   },
   "outputs": [
    {
     "ename": "AttributeError",
     "evalue": "'HousePark' object has no attribute 'fullname'",
     "output_type": "error",
     "traceback": [
      "\u001b[1;31m---------------------------------------------------------------------------\u001b[0m",
      "\u001b[1;31mAttributeError\u001b[0m                            Traceback (most recent call last)",
      "\u001b[1;32m<ipython-input-40-e9dca93df429>\u001b[0m in \u001b[0;36m<module>\u001b[1;34m()\u001b[0m\n\u001b[0;32m      1\u001b[0m \u001b[0mpey\u001b[0m\u001b[1;33m=\u001b[0m\u001b[0mHousePark\u001b[0m\u001b[1;33m(\u001b[0m\u001b[1;33m)\u001b[0m\u001b[1;33m\u001b[0m\u001b[0m\n\u001b[1;32m----> 2\u001b[1;33m \u001b[0mpey\u001b[0m\u001b[1;33m.\u001b[0m\u001b[0mtravel\u001b[0m\u001b[1;33m(\u001b[0m\u001b[1;34m\"부산\"\u001b[0m\u001b[1;33m)\u001b[0m \u001b[1;31m# self.fullname 변수가 없어 오류 발생\u001b[0m\u001b[1;33m\u001b[0m\u001b[0m\n\u001b[0m",
      "\u001b[1;32m<ipython-input-38-891e9753310b>\u001b[0m in \u001b[0;36mtravel\u001b[1;34m(self, where)\u001b[0m\n\u001b[0;32m      4\u001b[0m         \u001b[0mself\u001b[0m\u001b[1;33m.\u001b[0m\u001b[0mfullname\u001b[0m \u001b[1;33m=\u001b[0m \u001b[0mself\u001b[0m\u001b[1;33m.\u001b[0m\u001b[0mlastname\u001b[0m \u001b[1;33m+\u001b[0m \u001b[0mname\u001b[0m\u001b[1;33m\u001b[0m\u001b[0m\n\u001b[0;32m      5\u001b[0m     \u001b[1;32mdef\u001b[0m \u001b[0mtravel\u001b[0m\u001b[1;33m(\u001b[0m\u001b[0mself\u001b[0m\u001b[1;33m,\u001b[0m \u001b[0mwhere\u001b[0m\u001b[1;33m)\u001b[0m\u001b[1;33m:\u001b[0m\u001b[1;33m\u001b[0m\u001b[0m\n\u001b[1;32m----> 6\u001b[1;33m         \u001b[0mprint\u001b[0m\u001b[1;33m(\u001b[0m\u001b[1;34m\"%s, %s여행을 가다.\"\u001b[0m \u001b[1;33m%\u001b[0m\u001b[1;33m(\u001b[0m\u001b[0mself\u001b[0m\u001b[1;33m.\u001b[0m\u001b[0mfullname\u001b[0m\u001b[1;33m,\u001b[0m \u001b[0mwhere\u001b[0m\u001b[1;33m)\u001b[0m\u001b[1;33m)\u001b[0m\u001b[1;33m\u001b[0m\u001b[0m\n\u001b[0m",
      "\u001b[1;31mAttributeError\u001b[0m: 'HousePark' object has no attribute 'fullname'"
     ]
    }
   ],
   "source": [
    "pey=HousePark()\n",
    "pey.travel(\"부산\") # self.fullname 변수가 없어 오류 발생"
   ]
  },
  {
   "cell_type": "code",
   "execution_count": null,
   "metadata": {
    "id": "7eWGhFhoM_Em"
   },
   "outputs": [],
   "source": [
    "class HousePark:\n",
    "    lastname = \"박\"\n",
    "    def __init__(self, name):\n",
    "        self.fullname = self.lastname + name\n",
    "    def travel(self, where):\n",
    "        print(\"%s, %s여행을 가다.\" %(self.fullname, where))\n",
    "    "
   ]
  },
  {
   "cell_type": "code",
   "execution_count": null,
   "metadata": {
    "id": "Lb3sh94tM_Em",
    "outputId": "ec7769b2-4493-42df-8175-ace18ff1091b"
   },
   "outputs": [
    {
     "ename": "TypeError",
     "evalue": "__init__() missing 1 required positional argument: 'name'",
     "output_type": "error",
     "traceback": [
      "\u001b[1;31m---------------------------------------------------------------------------\u001b[0m",
      "\u001b[1;31mTypeError\u001b[0m                                 Traceback (most recent call last)",
      "\u001b[1;32m<ipython-input-42-bde00739687d>\u001b[0m in \u001b[0;36m<module>\u001b[1;34m()\u001b[0m\n\u001b[1;32m----> 1\u001b[1;33m \u001b[0mpey\u001b[0m\u001b[1;33m=\u001b[0m\u001b[0mHousePark\u001b[0m\u001b[1;33m(\u001b[0m\u001b[1;33m)\u001b[0m\u001b[1;33m\u001b[0m\u001b[0m\n\u001b[0m",
      "\u001b[1;31mTypeError\u001b[0m: __init__() missing 1 required positional argument: 'name'"
     ]
    }
   ],
   "source": [
    "pey=HousePark()"
   ]
  },
  {
   "cell_type": "code",
   "execution_count": null,
   "metadata": {
    "id": "m28aBkVTM_Em",
    "outputId": "f24e469b-d555-4155-d307-9269594a8ebc"
   },
   "outputs": [
    {
     "name": "stdout",
     "output_type": "stream",
     "text": [
      "박응용, 태국여행을 가다.\n"
     ]
    }
   ],
   "source": [
    "pey=HousePark(\"응용\")\n",
    "pey.travel(\"태국\")"
   ]
  },
  {
   "cell_type": "markdown",
   "metadata": {
    "id": "MlUambafM_En"
   },
   "source": [
    "## class 상속"
   ]
  },
  {
   "cell_type": "code",
   "execution_count": null,
   "metadata": {
    "id": "DhYx9yDAM_En"
   },
   "outputs": [],
   "source": [
    "class HouseKim(HousePark):\n",
    "    lastname = \"김\""
   ]
  },
  {
   "cell_type": "code",
   "execution_count": null,
   "metadata": {
    "id": "8QIysf4uM_En",
    "outputId": "993c139e-00ab-4266-c356-47b18e6499be"
   },
   "outputs": [
    {
     "name": "stdout",
     "output_type": "stream",
     "text": [
      "김줄리엣, 독도여행을 가다.\n"
     ]
    }
   ],
   "source": [
    "juliet=HouseKim(\"줄리엣\")\n",
    "juliet.travel(\"독도\")"
   ]
  },
  {
   "cell_type": "markdown",
   "metadata": {
    "id": "G3m2rHoxM_En"
   },
   "source": [
    "## 메서드 오버라이딩"
   ]
  },
  {
   "cell_type": "code",
   "execution_count": null,
   "metadata": {
    "id": "uqqCqbb3M_En"
   },
   "outputs": [],
   "source": [
    "class HouseKim(HousePark):\n",
    "    lastname = \"김\"\n",
    "    def travel(self, where, day):\n",
    "        print(\"%s, %s여행 %d일 가네.\" %(self.fullname, where, day))\n"
   ]
  },
  {
   "cell_type": "code",
   "execution_count": null,
   "metadata": {
    "id": "xKmHRbGHM_Eo",
    "outputId": "40f3e841-bd3f-43e6-806b-db6a2a23863c"
   },
   "outputs": [
    {
     "name": "stdout",
     "output_type": "stream",
     "text": [
      "김줄리엣, 독도여행 3일 가네.\n"
     ]
    }
   ],
   "source": [
    "juliet=HouseKim(\"줄리엣\")\n",
    "juliet.travel(\"독도\",3)"
   ]
  },
  {
   "cell_type": "markdown",
   "metadata": {
    "id": "KPbL9LF-M_Eq"
   },
   "source": [
    "### 모듈 import"
   ]
  },
  {
   "cell_type": "markdown",
   "metadata": {
    "id": "Emm2xsN7dITj"
   },
   "source": [
    "Colab에서 구글 드라이브에 저장된 모듈 불러오기"
   ]
  },
  {
   "cell_type": "code",
   "execution_count": 91,
   "metadata": {
    "colab": {
     "base_uri": "https://localhost:8080/"
    },
    "executionInfo": {
     "elapsed": 857,
     "status": "ok",
     "timestamp": 1609496989740,
     "user": {
      "displayName": "Namhyoung Kim",
      "photoUrl": "",
      "userId": "10452528424857445283"
     },
     "user_tz": -540
    },
    "id": "nqQPifX6UZTm",
    "outputId": "585bd1a9-85c1-445a-82b9-f85a3b83f9e1"
   },
   "outputs": [
    {
     "name": "stdout",
     "output_type": "stream",
     "text": [
      "Drive already mounted at /content/drive; to attempt to forcibly remount, call drive.mount(\"/content/drive\", force_remount=True).\n"
     ]
    }
   ],
   "source": [
    "# 구글 드라이브 mount\n",
    "from google.colab import drive\n",
    "drive.mount('/content/drive')"
   ]
  },
  {
   "cell_type": "code",
   "execution_count": 98,
   "metadata": {
    "executionInfo": {
     "elapsed": 889,
     "status": "ok",
     "timestamp": 1609497125218,
     "user": {
      "displayName": "Namhyoung Kim",
      "photoUrl": "",
      "userId": "10452528424857445283"
     },
     "user_tz": -540
    },
    "id": "GmSBv1c0feqN"
   },
   "outputs": [],
   "source": [
    "#j 작업 디렉토리 변경\n",
    "import os\n",
    "os.chdir('/content/drive/MyDrive/python/code')"
   ]
  },
  {
   "cell_type": "code",
   "execution_count": 102,
   "metadata": {
    "colab": {
     "base_uri": "https://localhost:8080/"
    },
    "executionInfo": {
     "elapsed": 911,
     "status": "ok",
     "timestamp": 1609497510910,
     "user": {
      "displayName": "Namhyoung Kim",
      "photoUrl": "",
      "userId": "10452528424857445283"
     },
     "user_tz": -540
    },
    "id": "WKxQ8ue_gLHf",
    "outputId": "48094b42-af03-46fa-e34d-d7c5d805663c"
   },
   "outputs": [
    {
     "name": "stdout",
     "output_type": "stream",
     "text": [
      "basic2.ipynb  exercise\t\tmod1.py       __pycache__     sql\n",
      "basic.ipynb   IO.ipynb\t\tNumpy.ipynb   scipy.ipynb     Untitled0.ipynb\n",
      "Class.ipynb   matplotlib.ipynb\tPandas.ipynb  some_module.py  web\n"
     ]
    }
   ],
   "source": [
    "!ls"
   ]
  },
  {
   "cell_type": "code",
   "execution_count": 103,
   "metadata": {
    "executionInfo": {
     "elapsed": 1046,
     "status": "ok",
     "timestamp": 1609497517392,
     "user": {
      "displayName": "Namhyoung Kim",
      "photoUrl": "",
      "userId": "10452528424857445283"
     },
     "user_tz": -540
    },
    "id": "2UFVTAcuUXI9"
   },
   "outputs": [],
   "source": [
    "import some_module"
   ]
  },
  {
   "cell_type": "markdown",
   "metadata": {
    "id": "2BnOWleUM_Er"
   },
   "source": [
    "# some_module.py\n",
    "PI = 3.14159\n",
    "\n",
    "def f(x):\n",
    "\n",
    "return x+2\n",
    "def g(a,b):\n",
    "\n",
    "return a+b"
   ]
  },
  {
   "cell_type": "code",
   "execution_count": null,
   "metadata": {
    "id": "cKeRJQs1M_Er"
   },
   "outputs": [],
   "source": [
    "import some_module\n",
    "result = some_module.f(5)\n",
    "pi = some_module.PI"
   ]
  },
  {
   "cell_type": "code",
   "execution_count": null,
   "metadata": {
    "id": "0I7fFR62M_Er",
    "outputId": "3a6ae6d7-f44a-4098-e106-d35713946fad"
   },
   "outputs": [
    {
     "data": {
      "text/plain": [
       "7"
      ]
     },
     "execution_count": 3,
     "metadata": {
      "tags": []
     },
     "output_type": "execute_result"
    }
   ],
   "source": [
    "result"
   ]
  },
  {
   "cell_type": "code",
   "execution_count": null,
   "metadata": {
    "id": "aGznBy9xM_Er",
    "outputId": "cc930683-edf2-476e-e101-172ac0f91940"
   },
   "outputs": [
    {
     "data": {
      "text/plain": [
       "3.14159"
      ]
     },
     "execution_count": 4,
     "metadata": {
      "tags": []
     },
     "output_type": "execute_result"
    }
   ],
   "source": [
    "pi"
   ]
  },
  {
   "cell_type": "code",
   "execution_count": null,
   "metadata": {
    "id": "gFoY1haxM_Er"
   },
   "outputs": [],
   "source": [
    "from some_module import f, g, PI\n",
    "result = g(5, PI)"
   ]
  },
  {
   "cell_type": "code",
   "execution_count": null,
   "metadata": {
    "id": "ogiQ0LH5M_Er"
   },
   "outputs": [],
   "source": [
    "import some_module as sm\n",
    "from some_module import PI as pi, g as gf\n",
    "\n",
    "r1 = sm.f(pi)\n",
    "r2 = gf(6, pi)"
   ]
  },
  {
   "cell_type": "code",
   "execution_count": null,
   "metadata": {
    "id": "zPeDOMIUM_Er"
   },
   "outputs": [],
   "source": []
  }
 ],
 "metadata": {
  "colab": {
   "collapsed_sections": [
    "6rcHDecTM_El",
    "MlUambafM_En"
   ],
   "name": "Class.ipynb",
   "provenance": []
  },
  "kernelspec": {
   "display_name": "Python 3",
   "language": "python",
   "name": "python3"
  },
  "language_info": {
   "codemirror_mode": {
    "name": "ipython",
    "version": 3
   },
   "file_extension": ".py",
   "mimetype": "text/x-python",
   "name": "python",
   "nbconvert_exporter": "python",
   "pygments_lexer": "ipython3",
   "version": "3.8.3"
  }
 },
 "nbformat": 4,
 "nbformat_minor": 1
}
