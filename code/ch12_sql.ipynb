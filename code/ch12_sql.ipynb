{
 "cells": [
  {
   "cell_type": "markdown",
   "metadata": {
    "id": "9FCIJbOwCiUl"
   },
   "source": [
    "# SQL Relational Database in Python"
   ]
  },
  {
   "cell_type": "markdown",
   "metadata": {},
   "source": [
    "**아래 링크를 통해 이 노트북을 주피터 노트북 뷰어(nbviewer.jupyter.org)로 보거나 구글 코랩(colab.research.google.com)에서 실행할 수 있습니다.**\n",
    "\n",
    "<table class=\"tfo-notebook-buttons\" align=\"left\">\n",
    "  <td>\n",
    "    <a target=\"_blank\" href=\"https://nbviewer.jupyter.org/github/nhkim55/bigdata_fintech_python/blob/main/code/ch12_sql.ipynb\"><img src=\"https://jupyter.org/assets/share.png\" width=\"60\" />주피터 노트북 뷰어로 보기</a>\n",
    "  </td>\n",
    "  <td>\n",
    "    <a target=\"_blank\" href=\"https://colab.research.google.com/github/nhkim55/bigdata_fintech_python/blob/main/code/ch12_sql.ipynb\"><img src=\"https://www.tensorflow.org/images/colab_logo_32px.png\" />구글 코랩(Colab)에서 실행하기</a>\n",
    "  </td>\n",
    "</table>"
   ]
  },
  {
   "cell_type": "markdown",
   "metadata": {
    "id": "FTnj6XwqCq7R"
   },
   "source": [
    "## sqlite"
   ]
  },
  {
   "cell_type": "markdown",
   "metadata": {
    "id": "syBCu0auCvbO"
   },
   "source": [
    "### 데이터베이스 테이블 만들기"
   ]
  },
  {
   "cell_type": "code",
   "execution_count": 1,
   "metadata": {
    "id": "Du5bEhrDSY-I"
   },
   "outputs": [],
   "source": [
    "import sqlite3"
   ]
  },
  {
   "cell_type": "code",
   "execution_count": 2,
   "metadata": {
    "id": "bO3zmUKhSY-N"
   },
   "outputs": [],
   "source": [
    "# con 이라 부르는 접속 객체 만들기\n",
    "con = sqlite3.connect(':memory:') # RAM에 DB 생성\n",
    "#con = sqlite3.connect('my_database.db') # 현재 디렉토리에 DB 생성"
   ]
  },
  {
   "cell_type": "code",
   "execution_count": null,
   "metadata": {},
   "outputs": [],
   "source": [
    "# 구글 드라이브 mount\n",
    "#from google.colab import drive\n",
    "#drive.mount('/content/drive')"
   ]
  },
  {
   "cell_type": "code",
   "execution_count": null,
   "metadata": {},
   "outputs": [],
   "source": [
    "# 작업 디렉토리 변경시 해당 경로에 db생성\n",
    "#import os\n",
    "#os.chdir('/content/drive/MyDrive/python/data')"
   ]
  },
  {
   "cell_type": "code",
   "execution_count": 3,
   "metadata": {
    "id": "wdxkv_XcSY-N"
   },
   "outputs": [],
   "source": [
    "# Create a table called sales with four attributes\n",
    "query = \"\"\"CREATE TABLE sales\n",
    "            (customer VARCHAR(20), \n",
    "             product VARCHAR(40),\n",
    "            amount FLOAT,\n",
    "             date DATE);\"\"\""
   ]
  },
  {
   "cell_type": "code",
   "execution_count": 4,
   "metadata": {
    "id": "n-kPe2PSSY-O"
   },
   "outputs": [],
   "source": [
    "con.execute(query) # perform SQL commands\n",
    "con.commit()  # Save(commit) the changes"
   ]
  },
  {
   "cell_type": "code",
   "execution_count": 5,
   "metadata": {
    "id": "N0O70UJISY-O"
   },
   "outputs": [],
   "source": [
    "# insert a few rows of data into the table\n",
    "data = [('Richard Lucas', 'Notepad', 2.50, '2014-01-02'),\n",
    "        ('Jenny Kim', 'Binder', 4.15, '2014-01-15'),\n",
    "        ('Svetlana Crow', 'Printer', 155.75, '2014-02-03'),\n",
    "        ('Stephen Randolph', 'Computer', 679.40, '2014-02-20')]"
   ]
  },
  {
   "cell_type": "code",
   "execution_count": 6,
   "metadata": {
    "id": "e0SMJ_HKSY-O"
   },
   "outputs": [],
   "source": [
    "statement = \"INSERT INTO sales VALUES(?, ?, ?, ?)\""
   ]
  },
  {
   "cell_type": "code",
   "execution_count": 7,
   "metadata": {
    "id": "m8lghQJcSY-O"
   },
   "outputs": [],
   "source": [
    "con.executemany(statement, data)\n",
    "con.commit()"
   ]
  },
  {
   "cell_type": "code",
   "execution_count": 8,
   "metadata": {
    "id": "QR6GY5yiSY-P"
   },
   "outputs": [],
   "source": [
    "# sales 테이블에 질의\n",
    "cursor = con.execute(\"SELECT * FROM sales\")\n",
    "# cursor = con.execute(\"SELECT customer FROM sales WHERE product='Binder'\")\n",
    "# cursor = con.execute(\"\"\"SELECT customer, date, amount*12 FROM sales \n",
    "#                         WHERE (amount>100) & (product='Printer')\"\"\")\n",
    "# cursor = con.execute(\"SELECT * FROM sales WHERE SUBSTR(customer,1,1)='S'\")\n",
    "rows = cursor.fetchall() # 조회된 결과 모두를 리스트 형태로 변환"
   ]
  },
  {
   "cell_type": "code",
   "execution_count": 9,
   "metadata": {
    "colab": {
     "base_uri": "https://localhost:8080/"
    },
    "executionInfo": {
     "elapsed": 786,
     "status": "ok",
     "timestamp": 1610630060178,
     "user": {
      "displayName": "Namhyoung Kim",
      "photoUrl": "",
      "userId": "10452528424857445283"
     },
     "user_tz": -540
    },
    "id": "Q0wIKPdDSY-P",
    "outputId": "82d5db00-e158-414b-a923-8121307517e7"
   },
   "outputs": [
    {
     "data": {
      "text/plain": [
       "[('Richard Lucas', 'Notepad', 2.5, '2014-01-02'),\n",
       " ('Jenny Kim', 'Binder', 4.15, '2014-01-15'),\n",
       " ('Svetlana Crow', 'Printer', 155.75, '2014-02-03'),\n",
       " ('Stephen Randolph', 'Computer', 679.4, '2014-02-20')]"
      ]
     },
     "execution_count": 9,
     "metadata": {},
     "output_type": "execute_result"
    }
   ],
   "source": [
    "rows"
   ]
  },
  {
   "cell_type": "code",
   "execution_count": 10,
   "metadata": {
    "colab": {
     "base_uri": "https://localhost:8080/"
    },
    "executionInfo": {
     "elapsed": 778,
     "status": "ok",
     "timestamp": 1610630149317,
     "user": {
      "displayName": "Namhyoung Kim",
      "photoUrl": "",
      "userId": "10452528424857445283"
     },
     "user_tz": -540
    },
    "id": "xhv7h6FxSY-Q",
    "outputId": "c563daab-fd78-455c-b75d-5809e426e19b"
   },
   "outputs": [
    {
     "name": "stdout",
     "output_type": "stream",
     "text": [
      "('Richard Lucas', 'Notepad', 2.5, '2014-01-02')\n",
      "('Jenny Kim', 'Binder', 4.15, '2014-01-15')\n",
      "('Svetlana Crow', 'Printer', 155.75, '2014-02-03')\n",
      "('Stephen Randolph', 'Computer', 679.4, '2014-02-20')\n",
      "Number of rows: 4\n"
     ]
    }
   ],
   "source": [
    "row_counter = 0\n",
    "for row in rows:\n",
    "    print(row)\n",
    "    row_counter += 1\n",
    "print('Number of rows: {}'.format(row_counter))"
   ]
  },
  {
   "cell_type": "code",
   "execution_count": 11,
   "metadata": {
    "id": "7e_l6pXLSY-Q"
   },
   "outputs": [],
   "source": [
    "con.close()"
   ]
  },
  {
   "cell_type": "markdown",
   "metadata": {
    "id": "B_efnA44Cz7M"
   },
   "source": [
    "### 테이블에 새 레코드 삽입하기"
   ]
  },
  {
   "cell_type": "code",
   "execution_count": null,
   "metadata": {
    "executionInfo": {
     "elapsed": 753,
     "status": "ok",
     "timestamp": 1610633876959,
     "user": {
      "displayName": "Namhyoung Kim",
      "photoUrl": "",
      "userId": "10452528424857445283"
     },
     "user_tz": -540
    },
    "id": "ZR2A7x-XSY-R"
   },
   "outputs": [],
   "source": [
    "import csv\n",
    "import sqlite3"
   ]
  },
  {
   "cell_type": "code",
   "execution_count": null,
   "metadata": {
    "colab": {
     "base_uri": "https://localhost:8080/"
    },
    "executionInfo": {
     "elapsed": 902,
     "status": "ok",
     "timestamp": 1610633880594,
     "user": {
      "displayName": "Namhyoung Kim",
      "photoUrl": "",
      "userId": "10452528424857445283"
     },
     "user_tz": -540
    },
    "id": "FngHX39LOx1_",
    "outputId": "36d133ac-af9a-4bc2-9c30-1a588e4e7f76"
   },
   "outputs": [],
   "source": [
    "from google.colab import drive\n",
    "drive.mount('/content/drive')"
   ]
  },
  {
   "cell_type": "code",
   "execution_count": null,
   "metadata": {
    "executionInfo": {
     "elapsed": 751,
     "status": "ok",
     "timestamp": 1610633878991,
     "user": {
      "displayName": "Namhyoung Kim",
      "photoUrl": "",
      "userId": "10452528424857445283"
     },
     "user_tz": -540
    },
    "id": "UxAUTvZjDCSA"
   },
   "outputs": [],
   "source": [
    "input_file = \"/content/drive/MyDrive/python/data/supplier_data.csv\""
   ]
  },
  {
   "cell_type": "code",
   "execution_count": null,
   "metadata": {
    "executionInfo": {
     "elapsed": 2380,
     "status": "ok",
     "timestamp": 1610633888224,
     "user": {
      "displayName": "Namhyoung Kim",
      "photoUrl": "",
      "userId": "10452528424857445283"
     },
     "user_tz": -540
    },
    "id": "97jC_zccDCVc"
   },
   "outputs": [],
   "source": [
    "#con = sqlite3.connect(':memory:') # RAM에 DB 생성\n",
    "con = sqlite3.connect('Suppliers.db')\n",
    "c = con.cursor()"
   ]
  },
  {
   "cell_type": "code",
   "execution_count": null,
   "metadata": {
    "executionInfo": {
     "elapsed": 2223,
     "status": "ok",
     "timestamp": 1610633892370,
     "user": {
      "displayName": "Namhyoung Kim",
      "photoUrl": "",
      "userId": "10452528424857445283"
     },
     "user_tz": -540
    },
    "id": "X6nF1IbmDCYp"
   },
   "outputs": [],
   "source": [
    "create_table = \"\"\"CREATE TABLE IF NOT EXISTS Suppliers\n",
    "                (Supplier_Name VARCHAR(20), \n",
    "                Invoice_Number VARCHAR(20),\n",
    "                Part_Number VARCHAR(20),\n",
    "                Cost FLOAT,\n",
    "                Purchase_Date DATE);\"\"\""
   ]
  },
  {
   "cell_type": "code",
   "execution_count": null,
   "metadata": {
    "executionInfo": {
     "elapsed": 920,
     "status": "ok",
     "timestamp": 1610633896885,
     "user": {
      "displayName": "Namhyoung Kim",
      "photoUrl": "",
      "userId": "10452528424857445283"
     },
     "user_tz": -540
    },
    "id": "iTa24ecXDCbP"
   },
   "outputs": [],
   "source": [
    "c.execute(create_table)\n",
    "con.commit()"
   ]
  },
  {
   "cell_type": "code",
   "execution_count": null,
   "metadata": {
    "executionInfo": {
     "elapsed": 960,
     "status": "ok",
     "timestamp": 1610634335836,
     "user": {
      "displayName": "Namhyoung Kim",
      "photoUrl": "",
      "userId": "10452528424857445283"
     },
     "user_tz": -540
    },
    "id": "pZYCXUoHDCd_"
   },
   "outputs": [],
   "source": [
    "file_reader = csv.reader(open(input_file, 'r'), delimiter=',')\n",
    "header = next(file_reader, None) # 입력 파일의 첫 iteration 읽고 값 할당 후 넘김\n"
   ]
  },
  {
   "cell_type": "code",
   "execution_count": null,
   "metadata": {
    "colab": {
     "base_uri": "https://localhost:8080/"
    },
    "executionInfo": {
     "elapsed": 848,
     "status": "ok",
     "timestamp": 1610634172054,
     "user": {
      "displayName": "Namhyoung Kim",
      "photoUrl": "",
      "userId": "10452528424857445283"
     },
     "user_tz": -540
    },
    "id": "kHRTBsetDCgH",
    "outputId": "d12351a3-a80f-4ed3-d8ab-be18653d17be"
   },
   "outputs": [],
   "source": [
    "for row in file_reader:\n",
    "    data = []\n",
    "    for column_index in range(len(header)):\n",
    "        data.append(row[column_index])\n",
    "    print(data)\n",
    "    c.execute(\"INSERT INTO Suppliers VALUES (?, ?, ?, ?, ?);\", data)\n",
    "con.commit()"
   ]
  },
  {
   "cell_type": "code",
   "execution_count": null,
   "metadata": {
    "colab": {
     "base_uri": "https://localhost:8080/"
    },
    "executionInfo": {
     "elapsed": 1824,
     "status": "ok",
     "timestamp": 1610634177472,
     "user": {
      "displayName": "Namhyoung Kim",
      "photoUrl": "",
      "userId": "10452528424857445283"
     },
     "user_tz": -540
    },
    "id": "R5WEyuEZDCib",
    "outputId": "c077b856-64d9-4398-e74c-757f03ce6a27"
   },
   "outputs": [],
   "source": [
    "output = c.execute(\"SELECT * FROM Suppliers\")\n",
    "rows = output.fetchall()\n",
    "rows"
   ]
  },
  {
   "cell_type": "code",
   "execution_count": null,
   "metadata": {
    "colab": {
     "base_uri": "https://localhost:8080/"
    },
    "executionInfo": {
     "elapsed": 488,
     "status": "ok",
     "timestamp": 1610633634613,
     "user": {
      "displayName": "Namhyoung Kim",
      "photoUrl": "",
      "userId": "10452528424857445283"
     },
     "user_tz": -540
    },
    "id": "5bI3s8bVDCkm",
    "outputId": "0018d7a5-d3e2-4b71-8a4e-6146288866ad"
   },
   "outputs": [],
   "source": [
    "for row in rows:\n",
    "    output = []\n",
    "    for column_index in range(len(row)):\n",
    "        output.append(str(row[column_index]))\n",
    "    print(output)"
   ]
  },
  {
   "cell_type": "code",
   "execution_count": null,
   "metadata": {
    "colab": {
     "base_uri": "https://localhost:8080/"
    },
    "executionInfo": {
     "elapsed": 871,
     "status": "ok",
     "timestamp": 1610634431312,
     "user": {
      "displayName": "Namhyoung Kim",
      "photoUrl": "",
      "userId": "10452528424857445283"
     },
     "user_tz": -540
    },
    "id": "w73PqCa-RFYq",
    "outputId": "7bfe07a0-c4d4-4419-c316-1e00db23691f"
   },
   "outputs": [],
   "source": [
    "c.execute(\"Delete from Suppliers\")"
   ]
  },
  {
   "cell_type": "code",
   "execution_count": null,
   "metadata": {
    "colab": {
     "base_uri": "https://localhost:8080/"
    },
    "executionInfo": {
     "elapsed": 1118,
     "status": "ok",
     "timestamp": 1610634434555,
     "user": {
      "displayName": "Namhyoung Kim",
      "photoUrl": "",
      "userId": "10452528424857445283"
     },
     "user_tz": -540
    },
    "id": "2uiDw7r2RdFk",
    "outputId": "82c255c9-6c4b-4d70-8160-a80b1c28b1e5"
   },
   "outputs": [],
   "source": [
    "output = c.execute(\"SELECT * FROM Suppliers\")\n",
    "rows = output.fetchall()\n",
    "rows"
   ]
  },
  {
   "cell_type": "code",
   "execution_count": null,
   "metadata": {
    "colab": {
     "base_uri": "https://localhost:8080/"
    },
    "executionInfo": {
     "elapsed": 811,
     "status": "ok",
     "timestamp": 1610634465118,
     "user": {
      "displayName": "Namhyoung Kim",
      "photoUrl": "",
      "userId": "10452528424857445283"
     },
     "user_tz": -540
    },
    "id": "4kFCqAdHDCm3",
    "outputId": "cf8d9119-10d3-46ba-dcd3-a866e1427744"
   },
   "outputs": [],
   "source": [
    "file_reader = csv.reader(open(input_file, 'r'), delimiter=',')\n",
    "header = next(file_reader, None) # 입력 파일의 첫 iteration 읽고 값 할당 후 넘김\n",
    "\n",
    "data=[k for k in file_reader]\n",
    "print(data)\n",
    "\n",
    "c.executemany(\"INSERT INTO Suppliers VALUES (?, ?, ?, ?, ?);\", data)\n",
    "con.commit()"
   ]
  },
  {
   "cell_type": "code",
   "execution_count": null,
   "metadata": {
    "colab": {
     "base_uri": "https://localhost:8080/"
    },
    "executionInfo": {
     "elapsed": 766,
     "status": "ok",
     "timestamp": 1610634482899,
     "user": {
      "displayName": "Namhyoung Kim",
      "photoUrl": "",
      "userId": "10452528424857445283"
     },
     "user_tz": -540
    },
    "id": "aBNX7aUWQUh1",
    "outputId": "f7d7c456-1d74-4047-aebe-074f81775957"
   },
   "outputs": [],
   "source": [
    "output = c.execute(\"SELECT * FROM Suppliers\")\n",
    "rows = output.fetchall()\n",
    "rows"
   ]
  },
  {
   "cell_type": "code",
   "execution_count": null,
   "metadata": {
    "id": "577nOiIrGSfV"
   },
   "outputs": [],
   "source": [
    "con.close()"
   ]
  },
  {
   "cell_type": "markdown",
   "metadata": {
    "id": "42x2tK9UDdVa"
   },
   "source": [
    "### 테이블 내 레코드 갱신하기"
   ]
  },
  {
   "cell_type": "code",
   "execution_count": null,
   "metadata": {
    "id": "6JEeJKVBDCpN"
   },
   "outputs": [],
   "source": [
    "import csv\n",
    "import sqlite3"
   ]
  },
  {
   "cell_type": "code",
   "execution_count": null,
   "metadata": {
    "executionInfo": {
     "elapsed": 781,
     "status": "ok",
     "timestamp": 1610634530251,
     "user": {
      "displayName": "Namhyoung Kim",
      "photoUrl": "",
      "userId": "10452528424857445283"
     },
     "user_tz": -540
    },
    "id": "2AEf3A0NDCtH"
   },
   "outputs": [],
   "source": [
    "input_file = '/content/drive/MyDrive/python/data/data_for_updating.csv'"
   ]
  },
  {
   "cell_type": "code",
   "execution_count": null,
   "metadata": {
    "executionInfo": {
     "elapsed": 789,
     "status": "ok",
     "timestamp": 1610634532530,
     "user": {
      "displayName": "Namhyoung Kim",
      "photoUrl": "",
      "userId": "10452528424857445283"
     },
     "user_tz": -540
    },
    "id": "d2QiC0lbDCuB"
   },
   "outputs": [],
   "source": [
    "con = sqlite3.connect(':memory:')\n",
    "query = \"\"\"CREATE TABLE IF NOT EXISTS sales\n",
    "            (customer VARCHAR(20), \n",
    "                product VARCHAR(40),\n",
    "                amount FLOAT,\n",
    "                date DATE);\"\"\"\n",
    "con.execute(query)\n",
    "con.commit()"
   ]
  },
  {
   "cell_type": "code",
   "execution_count": null,
   "metadata": {
    "executionInfo": {
     "elapsed": 780,
     "status": "ok",
     "timestamp": 1610634537159,
     "user": {
      "displayName": "Namhyoung Kim",
      "photoUrl": "",
      "userId": "10452528424857445283"
     },
     "user_tz": -540
    },
    "id": "jp-z4TLlFbmw"
   },
   "outputs": [],
   "source": [
    "data = [('Richard Lucas', 'Notepad', 2.50, '2014-01-02'),\n",
    "        ('Jenny Kim', 'Binder', 4.15, '2014-01-15'),\n",
    "        ('Svetlana Crow', 'Printer', 155.75, '2014-02-03'),\n",
    "        ('Stephen Randolph', 'Computer', 679.40, '2014-02-20')]"
   ]
  },
  {
   "cell_type": "code",
   "execution_count": null,
   "metadata": {
    "colab": {
     "base_uri": "https://localhost:8080/"
    },
    "executionInfo": {
     "elapsed": 874,
     "status": "ok",
     "timestamp": 1610634539846,
     "user": {
      "displayName": "Namhyoung Kim",
      "photoUrl": "",
      "userId": "10452528424857445283"
     },
     "user_tz": -540
    },
    "id": "MFpq5wpDFbo-",
    "outputId": "a14ec8d5-4418-4448-86dd-1169a7a63730"
   },
   "outputs": [],
   "source": [
    "for tuple in data:\n",
    "    print(tuple)"
   ]
  },
  {
   "cell_type": "code",
   "execution_count": null,
   "metadata": {
    "executionInfo": {
     "elapsed": 769,
     "status": "ok",
     "timestamp": 1610634606238,
     "user": {
      "displayName": "Namhyoung Kim",
      "photoUrl": "",
      "userId": "10452528424857445283"
     },
     "user_tz": -540
    },
    "id": "bEXT89-IFbrd"
   },
   "outputs": [],
   "source": [
    "statement = \"INSERT INTO sales VALUES(?, ?, ?, ?)\"\n",
    "con.executemany(statement, data)\n",
    "con.commit()"
   ]
  },
  {
   "cell_type": "code",
   "execution_count": null,
   "metadata": {
    "executionInfo": {
     "elapsed": 796,
     "status": "ok",
     "timestamp": 1610634609196,
     "user": {
      "displayName": "Namhyoung Kim",
      "photoUrl": "",
      "userId": "10452528424857445283"
     },
     "user_tz": -540
    },
    "id": "fEnm2oKDFbuV"
   },
   "outputs": [],
   "source": [
    "file_reader = csv.reader(open(input_file, 'r'), delimiter=',')\n",
    "header = next(file_reader, None)"
   ]
  },
  {
   "cell_type": "code",
   "execution_count": null,
   "metadata": {
    "id": "_v9KVQqtFhEi"
   },
   "outputs": [],
   "source": [
    "data = [k for k in file_reader]\n",
    "con.executemany(\"UPDATE sales SET amount=?, date=? WHERE customer=?;\", data)\n",
    "con.commit()"
   ]
  },
  {
   "cell_type": "code",
   "execution_count": null,
   "metadata": {
    "colab": {
     "base_uri": "https://localhost:8080/"
    },
    "executionInfo": {
     "elapsed": 830,
     "status": "ok",
     "timestamp": 1610634613746,
     "user": {
      "displayName": "Namhyoung Kim",
      "photoUrl": "",
      "userId": "10452528424857445283"
     },
     "user_tz": -540
    },
    "id": "Ao5FgiJ5FhHG",
    "outputId": "79c0edb7-ac65-4d72-cfaa-7be4a0b05690"
   },
   "outputs": [],
   "source": [
    "for row in file_reader:\n",
    "    data = []\n",
    "    for column_index in range(len(header)):\n",
    "        data.append(row[column_index])\n",
    "    print(data)\n",
    "    con.execute(\"UPDATE sales SET amount=?, date=? WHERE customer=?;\", data)\n",
    "con.commit()"
   ]
  },
  {
   "cell_type": "code",
   "execution_count": null,
   "metadata": {
    "executionInfo": {
     "elapsed": 755,
     "status": "ok",
     "timestamp": 1610634625470,
     "user": {
      "displayName": "Namhyoung Kim",
      "photoUrl": "",
      "userId": "10452528424857445283"
     },
     "user_tz": -540
    },
    "id": "1Fa7vAIwFhJx"
   },
   "outputs": [],
   "source": [
    "cursor = con.execute(\"SELECT * FROM sales\")\n",
    "rows = cursor.fetchall()"
   ]
  },
  {
   "cell_type": "code",
   "execution_count": null,
   "metadata": {
    "colab": {
     "base_uri": "https://localhost:8080/"
    },
    "executionInfo": {
     "elapsed": 756,
     "status": "ok",
     "timestamp": 1610634645407,
     "user": {
      "displayName": "Namhyoung Kim",
      "photoUrl": "",
      "userId": "10452528424857445283"
     },
     "user_tz": -540
    },
    "id": "5-7Ok_u9FhMT",
    "outputId": "ad8d3b4b-bd25-407b-a085-581eb5489be1"
   },
   "outputs": [],
   "source": [
    "rows"
   ]
  },
  {
   "cell_type": "code",
   "execution_count": null,
   "metadata": {
    "colab": {
     "base_uri": "https://localhost:8080/"
    },
    "executionInfo": {
     "elapsed": 761,
     "status": "ok",
     "timestamp": 1610634650528,
     "user": {
      "displayName": "Namhyoung Kim",
      "photoUrl": "",
      "userId": "10452528424857445283"
     },
     "user_tz": -540
    },
    "id": "SWRqaXiXFhPl",
    "outputId": "c9bffca8-b94a-49d7-df34-e89468fbb9ac"
   },
   "outputs": [],
   "source": [
    "for row in rows:\n",
    "    output = []\n",
    "    for column_index in range(len(row)):\n",
    "        output.append(str(row[column_index]))\n",
    "    print(output)"
   ]
  },
  {
   "cell_type": "code",
   "execution_count": null,
   "metadata": {
    "id": "CR60Q5piGTs7"
   },
   "outputs": [],
   "source": [
    "con.close()"
   ]
  }
 ],
 "metadata": {
  "colab": {
   "collapsed_sections": [],
   "name": "ch12_sql.ipynb",
   "provenance": [
    {
     "file_id": "1Kn-q1XAAIPvzIgGBfOJU03e-bS-Etlgw",
     "timestamp": 1610629939073
    }
   ]
  },
  "kernelspec": {
   "display_name": "Python 3",
   "language": "python",
   "name": "python3"
  },
  "language_info": {
   "codemirror_mode": {
    "name": "ipython",
    "version": 3
   },
   "file_extension": ".py",
   "mimetype": "text/x-python",
   "name": "python",
   "nbconvert_exporter": "python",
   "pygments_lexer": "ipython3",
   "version": "3.8.3"
  }
 },
 "nbformat": 4,
 "nbformat_minor": 1
}
