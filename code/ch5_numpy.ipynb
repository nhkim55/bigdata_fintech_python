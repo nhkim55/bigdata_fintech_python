{
 "cells": [
  {
   "cell_type": "markdown",
   "metadata": {
    "id": "6M3HPmk5Khgu"
   },
   "source": [
    "# NumPy for Scientific Computation\n"
   ]
  },
  {
   "cell_type": "markdown",
   "metadata": {},
   "source": [
    "**아래 링크를 통해 이 노트북을 주피터 노트북 뷰어(nbviewer.jupyter.org)로 보거나 구글 코랩(colab.research.google.com)에서 실행할 수 있습니다.**\n",
    "\n",
    "<table class=\"tfo-notebook-buttons\" align=\"left\">\n",
    "  <td>\n",
    "    <a target=\"_blank\" href=\"https://nbviewer.jupyter.org/github/nhkim55/bigdata_fintech_python/blob/main/code/ch5_numpy.ipynb\"><img src=\"https://jupyter.org/assets/main-logo.svg\" width=\"28\" />주피터 노트북 뷰어로 보기</a>\n",
    "  </td>\n",
    "  <td>\n",
    "    <a target=\"_blank\" href=\"https://colab.research.google.com/github/nhkim55/bigdata_fintech_python/blob/main/code/ch5_numpy.ipynb\"><img src=\"https://www.tensorflow.org/images/colab_logo_32px.png\" />구글 코랩(Colab)에서 실행하기</a>\n",
    "  </td>\n",
    "</table>"
   ]
  },
  {
   "cell_type": "markdown",
   "metadata": {},
   "source": [
    "## 다차원 배열 객체-ndarray"
   ]
  },
  {
   "cell_type": "code",
   "execution_count": null,
   "metadata": {
    "id": "jW8EXNgwKhg2"
   },
   "outputs": [],
   "source": [
    "import numpy as np"
   ]
  },
  {
   "cell_type": "code",
   "execution_count": null,
   "metadata": {
    "id": "yitDvJ1gKhg3"
   },
   "outputs": [],
   "source": [
    "# 배열 생성\n",
    "A = np.array([[1,2], [3,4]])\n",
    "# 행렬 생성\n",
    "B = np.matrix([[1,2],[3,4]])"
   ]
  },
  {
   "cell_type": "code",
   "execution_count": null,
   "metadata": {
    "colab": {
     "base_uri": "https://localhost:8080/"
    },
    "executionInfo": {
     "elapsed": 581,
     "status": "ok",
     "timestamp": 1609508212001,
     "user": {
      "displayName": "Namhyoung Kim",
      "photoUrl": "",
      "userId": "10452528424857445283"
     },
     "user_tz": -540
    },
    "id": "vExzwWXoKhg3",
    "outputId": "b497a7e9-96a7-4103-d08e-ce65d5b77211"
   },
   "outputs": [
    {
     "data": {
      "text/plain": [
       "array([[1, 2],\n",
       "       [3, 4]])"
      ]
     },
     "execution_count": 3,
     "metadata": {
      "tags": []
     },
     "output_type": "execute_result"
    }
   ],
   "source": [
    "A"
   ]
  },
  {
   "cell_type": "code",
   "execution_count": null,
   "metadata": {
    "colab": {
     "base_uri": "https://localhost:8080/"
    },
    "executionInfo": {
     "elapsed": 734,
     "status": "ok",
     "timestamp": 1609508212925,
     "user": {
      "displayName": "Namhyoung Kim",
      "photoUrl": "",
      "userId": "10452528424857445283"
     },
     "user_tz": -540
    },
    "id": "afYYwWGUKhg4",
    "outputId": "d09bc4e8-1a27-4c31-f7c8-23acc6f656c7"
   },
   "outputs": [
    {
     "data": {
      "text/plain": [
       "matrix([[1, 2],\n",
       "        [3, 4]])"
      ]
     },
     "execution_count": 4,
     "metadata": {
      "tags": []
     },
     "output_type": "execute_result"
    }
   ],
   "source": [
    "B"
   ]
  },
  {
   "cell_type": "code",
   "execution_count": null,
   "metadata": {
    "colab": {
     "base_uri": "https://localhost:8080/"
    },
    "executionInfo": {
     "elapsed": 817,
     "status": "ok",
     "timestamp": 1609508213860,
     "user": {
      "displayName": "Namhyoung Kim",
      "photoUrl": "",
      "userId": "10452528424857445283"
     },
     "user_tz": -540
    },
    "id": "Fxe7dgLbKhg4",
    "outputId": "8a4a144f-f7f1-4a53-d95e-cc359818a60b"
   },
   "outputs": [
    {
     "data": {
      "text/plain": [
       "matrix([[1, 2],\n",
       "        [3, 4]])"
      ]
     },
     "execution_count": 5,
     "metadata": {
      "tags": []
     },
     "output_type": "execute_result"
    }
   ],
   "source": [
    "B"
   ]
  },
  {
   "cell_type": "code",
   "execution_count": null,
   "metadata": {
    "id": "yXNUzNH0Khg5"
   },
   "outputs": [],
   "source": [
    "matB = np.array([[3,1,9],[2,5,8],[4,7,6]]) # 리스트로 ndarray를 생성\n",
    "\n",
    "matC = np.array(((3,1,9),(2,5,8),(4,7,6))) # 튜플로 ndarray를 생성"
   ]
  },
  {
   "cell_type": "code",
   "execution_count": null,
   "metadata": {
    "id": "73X3gKjyKhg5"
   },
   "outputs": [],
   "source": [
    "matB."
   ]
  },
  {
   "cell_type": "code",
   "execution_count": null,
   "metadata": {
    "colab": {
     "base_uri": "https://localhost:8080/"
    },
    "executionInfo": {
     "elapsed": 906,
     "status": "ok",
     "timestamp": 1609508282062,
     "user": {
      "displayName": "Namhyoung Kim",
      "photoUrl": "",
      "userId": "10452528424857445283"
     },
     "user_tz": -540
    },
    "id": "3kuIlJ3RKhg5",
    "outputId": "5679dcc2-8cf7-4fd9-adbd-1545061b16ef",
    "scrolled": true
   },
   "outputs": [
    {
     "data": {
      "text/plain": [
       "array([[3, 1, 9],\n",
       "       [2, 5, 8],\n",
       "       [4, 7, 6]])"
      ]
     },
     "execution_count": 9,
     "metadata": {
      "tags": []
     },
     "output_type": "execute_result"
    }
   ],
   "source": [
    "matC"
   ]
  },
  {
   "cell_type": "code",
   "execution_count": null,
   "metadata": {
    "colab": {
     "base_uri": "https://localhost:8080/"
    },
    "executionInfo": {
     "elapsed": 528,
     "status": "ok",
     "timestamp": 1609508282533,
     "user": {
      "displayName": "Namhyoung Kim",
      "photoUrl": "",
      "userId": "10452528424857445283"
     },
     "user_tz": -540
    },
    "id": "f_6Pj2tbKhg5",
    "outputId": "df37ce3a-da0f-4bed-bf55-8b6c035fca39"
   },
   "outputs": [
    {
     "data": {
      "text/plain": [
       "array([[0., 0., 0.],\n",
       "       [0., 0., 0.]])"
      ]
     },
     "execution_count": 10,
     "metadata": {
      "tags": []
     },
     "output_type": "execute_result"
    }
   ],
   "source": [
    "np.zeros((2,3))"
   ]
  },
  {
   "cell_type": "code",
   "execution_count": null,
   "metadata": {
    "colab": {
     "base_uri": "https://localhost:8080/"
    },
    "executionInfo": {
     "elapsed": 896,
     "status": "ok",
     "timestamp": 1609508284014,
     "user": {
      "displayName": "Namhyoung Kim",
      "photoUrl": "",
      "userId": "10452528424857445283"
     },
     "user_tz": -540
    },
    "id": "Vqf-0NshKhg6",
    "outputId": "fa0f147e-d368-4135-e851-d6f9967e77dd"
   },
   "outputs": [
    {
     "data": {
      "text/plain": [
       "array([10, 12, 14, 16, 18])"
      ]
     },
     "execution_count": 11,
     "metadata": {
      "tags": []
     },
     "output_type": "execute_result"
    }
   ],
   "source": [
    "np.arange(10,20,2)"
   ]
  },
  {
   "cell_type": "code",
   "execution_count": null,
   "metadata": {
    "colab": {
     "base_uri": "https://localhost:8080/"
    },
    "executionInfo": {
     "elapsed": 827,
     "status": "ok",
     "timestamp": 1609508285023,
     "user": {
      "displayName": "Namhyoung Kim",
      "photoUrl": "",
      "userId": "10452528424857445283"
     },
     "user_tz": -540
    },
    "id": "laedxywFKhg6",
    "outputId": "dbe16e40-013a-4914-ec55-54ab51a34e23"
   },
   "outputs": [
    {
     "data": {
      "text/plain": [
       "array([[1, 2, 3],\n",
       "       [4, 5, 6]])"
      ]
     },
     "execution_count": 12,
     "metadata": {
      "tags": []
     },
     "output_type": "execute_result"
    }
   ],
   "source": [
    "np.asarray(((1,2,3),(4,5,6)))"
   ]
  },
  {
   "cell_type": "code",
   "execution_count": null,
   "metadata": {
    "colab": {
     "base_uri": "https://localhost:8080/"
    },
    "executionInfo": {
     "elapsed": 836,
     "status": "ok",
     "timestamp": 1609508285942,
     "user": {
      "displayName": "Namhyoung Kim",
      "photoUrl": "",
      "userId": "10452528424857445283"
     },
     "user_tz": -540
    },
    "id": "1GyoB4WnKhg6",
    "outputId": "a8784fb8-b5ee-4c4a-c59c-ea81e03baca9"
   },
   "outputs": [
    {
     "data": {
      "text/plain": [
       "array([[1., 1., 1.],\n",
       "       [1., 1., 1.]])"
      ]
     },
     "execution_count": 13,
     "metadata": {
      "tags": []
     },
     "output_type": "execute_result"
    }
   ],
   "source": [
    "np.ones((2,3))"
   ]
  },
  {
   "cell_type": "markdown",
   "metadata": {
    "id": "uqD8qzt9Khg6"
   },
   "source": [
    "### np.arange([start,] stop[, step,][, dtype])\n",
    "#### start로 지정한 값부터 stop 사이 값 중 step 간격을 갖는 수열을 생성한다\n",
    "\n"
   ]
  },
  {
   "cell_type": "code",
   "execution_count": null,
   "metadata": {
    "colab": {
     "base_uri": "https://localhost:8080/"
    },
    "executionInfo": {
     "elapsed": 927,
     "status": "ok",
     "timestamp": 1609508301910,
     "user": {
      "displayName": "Namhyoung Kim",
      "photoUrl": "",
      "userId": "10452528424857445283"
     },
     "user_tz": -540
    },
    "id": "1qiUB71eKhg7",
    "outputId": "d6ddc91e-7498-4e88-fd04-12b91378ad84"
   },
   "outputs": [
    {
     "name": "stdout",
     "output_type": "stream",
     "text": [
      "10\n",
      "12\n",
      "14\n",
      "16\n",
      "18\n"
     ]
    }
   ],
   "source": [
    "# range로 생성\n",
    "for i in range(10,20,2):\n",
    "    print(i)"
   ]
  },
  {
   "cell_type": "code",
   "execution_count": null,
   "metadata": {
    "colab": {
     "base_uri": "https://localhost:8080/"
    },
    "executionInfo": {
     "elapsed": 934,
     "status": "ok",
     "timestamp": 1609508303858,
     "user": {
      "displayName": "Namhyoung Kim",
      "photoUrl": "",
      "userId": "10452528424857445283"
     },
     "user_tz": -540
    },
    "id": "nfAM9G96Khg7",
    "outputId": "3fa35088-6d5f-4deb-d098-c53ce34ac8c6"
   },
   "outputs": [
    {
     "data": {
      "text/plain": [
       "[10, 12, 14, 16, 18]"
      ]
     },
     "execution_count": 15,
     "metadata": {
      "tags": []
     },
     "output_type": "execute_result"
    }
   ],
   "source": [
    "a = [i for i in range(10,20,2)]\n",
    "a"
   ]
  },
  {
   "cell_type": "code",
   "execution_count": null,
   "metadata": {
    "colab": {
     "base_uri": "https://localhost:8080/"
    },
    "executionInfo": {
     "elapsed": 926,
     "status": "ok",
     "timestamp": 1609508305575,
     "user": {
      "displayName": "Namhyoung Kim",
      "photoUrl": "",
      "userId": "10452528424857445283"
     },
     "user_tz": -540
    },
    "id": "XChQh5Q7Khg7",
    "outputId": "3ed4b2a1-991f-4412-f9bf-f86192b549e7"
   },
   "outputs": [
    {
     "data": {
      "text/plain": [
       "array([10, 12, 14, 16, 18])"
      ]
     },
     "execution_count": 16,
     "metadata": {
      "tags": []
     },
     "output_type": "execute_result"
    }
   ],
   "source": [
    "# np.arange()로 생성\n",
    "np.arange(10,20,2)"
   ]
  },
  {
   "cell_type": "code",
   "execution_count": null,
   "metadata": {
    "colab": {
     "base_uri": "https://localhost:8080/"
    },
    "executionInfo": {
     "elapsed": 998,
     "status": "ok",
     "timestamp": 1609508308255,
     "user": {
      "displayName": "Namhyoung Kim",
      "photoUrl": "",
      "userId": "10452528424857445283"
     },
     "user_tz": -540
    },
    "id": "OiesK5g3Khg7",
    "outputId": "54f2acb8-507e-4e96-ae55-7b3d529b8ec2"
   },
   "outputs": [
    {
     "data": {
      "text/plain": [
       "array([ 0,  1,  2,  3,  4,  5,  6,  7,  8,  9, 10, 11, 12, 13, 14, 15, 16,\n",
       "       17, 18, 19])"
      ]
     },
     "execution_count": 17,
     "metadata": {
      "tags": []
     },
     "output_type": "execute_result"
    }
   ],
   "source": [
    "np.arange(20)"
   ]
  },
  {
   "cell_type": "markdown",
   "metadata": {
    "id": "f2v2cZIUKhg7"
   },
   "source": [
    "### ndarray 데이터 타입 지정"
   ]
  },
  {
   "cell_type": "code",
   "execution_count": null,
   "metadata": {
    "colab": {
     "base_uri": "https://localhost:8080/"
    },
    "executionInfo": {
     "elapsed": 855,
     "status": "ok",
     "timestamp": 1609508312827,
     "user": {
      "displayName": "Namhyoung Kim",
      "photoUrl": "",
      "userId": "10452528424857445283"
     },
     "user_tz": -540
    },
    "id": "4toIr74xKhg8",
    "outputId": "81c1f6e3-4cae-4ce4-f2a0-3029cbc71e65"
   },
   "outputs": [
    {
     "data": {
      "text/plain": [
       "dtype('float16')"
      ]
     },
     "execution_count": 18,
     "metadata": {
      "tags": []
     },
     "output_type": "execute_result"
    }
   ],
   "source": [
    "# dtype 객체로 지정\n",
    "dt = np.dtype('float16')\n",
    "\n",
    "# ndarray를 생성할 때 dtype으로 지정(dtype 객체 사용)\n",
    "x = np.array([1.1, 2.1, 3.1], dtype=dt)\n",
    "\n",
    "# ndarray를 생성할 때 dtype으로 지정(직접 문자열로 지정)\n",
    "x = np.array([1.1, 2.1, 3.1], dtype='float16')\n",
    "\n",
    "x.dtype"
   ]
  },
  {
   "cell_type": "code",
   "execution_count": null,
   "metadata": {
    "id": "izNa_IZTKhg8"
   },
   "outputs": [],
   "source": [
    "a=[[1,2,3],[4,5,6]]"
   ]
  },
  {
   "cell_type": "code",
   "execution_count": null,
   "metadata": {
    "colab": {
     "base_uri": "https://localhost:8080/"
    },
    "executionInfo": {
     "elapsed": 843,
     "status": "ok",
     "timestamp": 1609508316924,
     "user": {
      "displayName": "Namhyoung Kim",
      "photoUrl": "",
      "userId": "10452528424857445283"
     },
     "user_tz": -540
    },
    "id": "xjSEecE5Khg8",
    "outputId": "81b864cb-5b4d-466e-d96f-9ab40d831965",
    "scrolled": true
   },
   "outputs": [
    {
     "data": {
      "text/plain": [
       "[[1, 2, 3], [4, 5, 6]]"
      ]
     },
     "execution_count": 20,
     "metadata": {
      "tags": []
     },
     "output_type": "execute_result"
    }
   ],
   "source": [
    "a"
   ]
  },
  {
   "cell_type": "code",
   "execution_count": null,
   "metadata": {
    "colab": {
     "base_uri": "https://localhost:8080/"
    },
    "executionInfo": {
     "elapsed": 861,
     "status": "ok",
     "timestamp": 1609508320064,
     "user": {
      "displayName": "Namhyoung Kim",
      "photoUrl": "",
      "userId": "10452528424857445283"
     },
     "user_tz": -540
    },
    "id": "S0msIh2pKhg8",
    "outputId": "f6b75147-09fb-440a-dd43-044728afae0a"
   },
   "outputs": [
    {
     "data": {
      "text/plain": [
       "[4, 5, 6]"
      ]
     },
     "execution_count": 21,
     "metadata": {
      "tags": []
     },
     "output_type": "execute_result"
    }
   ],
   "source": [
    "a[1]"
   ]
  },
  {
   "cell_type": "markdown",
   "metadata": {
    "id": "eiHGSxbCKhg8"
   },
   "source": [
    "### ndarray 속성"
   ]
  },
  {
   "cell_type": "code",
   "execution_count": null,
   "metadata": {
    "colab": {
     "base_uri": "https://localhost:8080/"
    },
    "executionInfo": {
     "elapsed": 836,
     "status": "ok",
     "timestamp": 1609508324068,
     "user": {
      "displayName": "Namhyoung Kim",
      "photoUrl": "",
      "userId": "10452528424857445283"
     },
     "user_tz": -540
    },
    "id": "dRGyvLVfKhg8",
    "outputId": "c320d50c-0538-4a8a-b680-b500fdcbcc4f"
   },
   "outputs": [
    {
     "data": {
      "text/plain": [
       "(3, 3)"
      ]
     },
     "execution_count": 22,
     "metadata": {
      "tags": []
     },
     "output_type": "execute_result"
    }
   ],
   "source": [
    "matB = np.array([[3,1,9],[2,5,8],[4,7,6]])\n",
    "\n",
    "# ndarray의 크기를 반환\n",
    "matB.shape"
   ]
  },
  {
   "cell_type": "code",
   "execution_count": null,
   "metadata": {
    "id": "C-5RYXnNKhg9"
   },
   "outputs": [],
   "source": [
    "matB.shape?"
   ]
  },
  {
   "cell_type": "markdown",
   "metadata": {
    "id": "407a1UvyKhg9"
   },
   "source": [
    "### 행렬계산"
   ]
  },
  {
   "cell_type": "code",
   "execution_count": null,
   "metadata": {
    "colab": {
     "base_uri": "https://localhost:8080/"
    },
    "executionInfo": {
     "elapsed": 874,
     "status": "ok",
     "timestamp": 1609508332433,
     "user": {
      "displayName": "Namhyoung Kim",
      "photoUrl": "",
      "userId": "10452528424857445283"
     },
     "user_tz": -540
    },
    "id": "dfvKvjwzKhg9",
    "outputId": "da959aaf-efda-48f1-95c2-f7bc54dbcdfa"
   },
   "outputs": [
    {
     "name": "stdout",
     "output_type": "stream",
     "text": [
      "[[-2.   1. ]\n",
      " [ 1.5 -0.5]]\n"
     ]
    },
    {
     "data": {
      "text/plain": [
       "array([[1., 2.],\n",
       "       [3., 4.]])"
      ]
     },
     "execution_count": 24,
     "metadata": {
      "tags": []
     },
     "output_type": "execute_result"
    }
   ],
   "source": [
    "A = np.array([[-2,1],[1.5,-0.5]])\n",
    "print(A)\n",
    "# ‘linalg’는 선형대수를 위한 모듈\n",
    "# A의 역행렬 계산\n",
    "np.linalg.inv(A)"
   ]
  },
  {
   "cell_type": "code",
   "execution_count": null,
   "metadata": {
    "colab": {
     "base_uri": "https://localhost:8080/"
    },
    "executionInfo": {
     "elapsed": 876,
     "status": "ok",
     "timestamp": 1609508334887,
     "user": {
      "displayName": "Namhyoung Kim",
      "photoUrl": "",
      "userId": "10452528424857445283"
     },
     "user_tz": -540
    },
    "id": "iaTrEJYiKhg9",
    "outputId": "9aeb712c-44f2-4740-aa46-20e53675fed1"
   },
   "outputs": [
    {
     "data": {
      "text/plain": [
       "array([[4.  , 1.  ],\n",
       "       [2.25, 0.25]])"
      ]
     },
     "execution_count": 25,
     "metadata": {
      "tags": []
     },
     "output_type": "execute_result"
    }
   ],
   "source": [
    "A*A"
   ]
  },
  {
   "cell_type": "code",
   "execution_count": null,
   "metadata": {
    "colab": {
     "base_uri": "https://localhost:8080/"
    },
    "executionInfo": {
     "elapsed": 846,
     "status": "ok",
     "timestamp": 1609508336937,
     "user": {
      "displayName": "Namhyoung Kim",
      "photoUrl": "",
      "userId": "10452528424857445283"
     },
     "user_tz": -540
    },
    "id": "eA32Eu05Khg9",
    "outputId": "2eca72de-abd3-4f19-afe7-09c522013d7b"
   },
   "outputs": [
    {
     "data": {
      "text/plain": [
       "-0.5"
      ]
     },
     "execution_count": 26,
     "metadata": {
      "tags": []
     },
     "output_type": "execute_result"
    }
   ],
   "source": [
    "# A의 행렬식 계산\n",
    "np.linalg.det(A)"
   ]
  },
  {
   "cell_type": "code",
   "execution_count": null,
   "metadata": {
    "colab": {
     "base_uri": "https://localhost:8080/"
    },
    "executionInfo": {
     "elapsed": 842,
     "status": "ok",
     "timestamp": 1609508339719,
     "user": {
      "displayName": "Namhyoung Kim",
      "photoUrl": "",
      "userId": "10452528424857445283"
     },
     "user_tz": -540
    },
    "id": "0gYSu6xOKhg9",
    "outputId": "3ecfc5d5-51ba-44fd-8666-6b0a7856056d"
   },
   "outputs": [
    {
     "data": {
      "text/plain": [
       "2"
      ]
     },
     "execution_count": 27,
     "metadata": {
      "tags": []
     },
     "output_type": "execute_result"
    }
   ],
   "source": [
    "# A의 랭크를 계산\n",
    "np.linalg.matrix_rank(A)"
   ]
  },
  {
   "cell_type": "code",
   "execution_count": null,
   "metadata": {
    "id": "MnX0fvj4Khg-"
   },
   "outputs": [],
   "source": [
    "# 벡터 a, b 정의\n",
    "a, b = np.array([2,-4,1]), np.array([3,1,-2])"
   ]
  },
  {
   "cell_type": "code",
   "execution_count": null,
   "metadata": {
    "colab": {
     "base_uri": "https://localhost:8080/"
    },
    "executionInfo": {
     "elapsed": 865,
     "status": "ok",
     "timestamp": 1609508344534,
     "user": {
      "displayName": "Namhyoung Kim",
      "photoUrl": "",
      "userId": "10452528424857445283"
     },
     "user_tz": -540
    },
    "id": "Cvo1H2iCKhg-",
    "outputId": "eb665c01-fd82-45d2-ae2e-6da6351aaf16"
   },
   "outputs": [
    {
     "data": {
      "text/plain": [
       "0"
      ]
     },
     "execution_count": 29,
     "metadata": {
      "tags": []
     },
     "output_type": "execute_result"
    }
   ],
   "source": [
    "# 벡터 a, b의 내적(scalar product)\n",
    "np.inner(a,b)"
   ]
  },
  {
   "cell_type": "code",
   "execution_count": null,
   "metadata": {
    "colab": {
     "base_uri": "https://localhost:8080/"
    },
    "executionInfo": {
     "elapsed": 862,
     "status": "ok",
     "timestamp": 1609508347496,
     "user": {
      "displayName": "Namhyoung Kim",
      "photoUrl": "",
      "userId": "10452528424857445283"
     },
     "user_tz": -540
    },
    "id": "2z1EF4xOKhg-",
    "outputId": "3479f96c-2c88-477e-c7c2-f5667f3f6371"
   },
   "outputs": [
    {
     "data": {
      "text/plain": [
       "array([ 7,  7, 14])"
      ]
     },
     "execution_count": 30,
     "metadata": {
      "tags": []
     },
     "output_type": "execute_result"
    }
   ],
   "source": [
    "# 벡터 a, b의 외적(cross product)\n",
    "np.cross(a,b)"
   ]
  },
  {
   "cell_type": "markdown",
   "metadata": {
    "id": "9SV5XKD_Khg-"
   },
   "source": [
    "## ndarray 인덱싱"
   ]
  },
  {
   "cell_type": "code",
   "execution_count": null,
   "metadata": {
    "colab": {
     "base_uri": "https://localhost:8080/"
    },
    "executionInfo": {
     "elapsed": 915,
     "status": "ok",
     "timestamp": 1609508350820,
     "user": {
      "displayName": "Namhyoung Kim",
      "photoUrl": "",
      "userId": "10452528424857445283"
     },
     "user_tz": -540
    },
    "id": "LWZhWLWIKhg-",
    "outputId": "994fe943-2545-40ce-9587-2a7a84bece60"
   },
   "outputs": [
    {
     "data": {
      "text/plain": [
       "array([[ 0,  1,  2,  3],\n",
       "       [ 4,  5,  6,  7],\n",
       "       [ 8,  9, 10, 11]])"
      ]
     },
     "execution_count": 31,
     "metadata": {
      "tags": []
     },
     "output_type": "execute_result"
    }
   ],
   "source": [
    "x2d = np.arange(12).reshape(3,4)\n",
    "\n",
    "# x2d의 내용 확인\n",
    "x2d"
   ]
  },
  {
   "cell_type": "code",
   "execution_count": null,
   "metadata": {
    "colab": {
     "base_uri": "https://localhost:8080/"
    },
    "executionInfo": {
     "elapsed": 906,
     "status": "ok",
     "timestamp": 1609508352308,
     "user": {
      "displayName": "Namhyoung Kim",
      "photoUrl": "",
      "userId": "10452528424857445283"
     },
     "user_tz": -540
    },
    "id": "UIVQx_akKhg_",
    "outputId": "f5941a9f-6891-4165-e150-0573d97b2b41"
   },
   "outputs": [
    {
     "data": {
      "text/plain": [
       "array([5, 6, 7])"
      ]
     },
     "execution_count": 32,
     "metadata": {
      "tags": []
     },
     "output_type": "execute_result"
    }
   ],
   "source": [
    "# 두번째줄의 두번째 요소부터 전부 꺼낸다\n",
    "a = x2d[1][1:]\n",
    "\n",
    "# a의 내용 확인\n",
    "a"
   ]
  },
  {
   "cell_type": "code",
   "execution_count": null,
   "metadata": {
    "colab": {
     "base_uri": "https://localhost:8080/"
    },
    "executionInfo": {
     "elapsed": 896,
     "status": "ok",
     "timestamp": 1609508355121,
     "user": {
      "displayName": "Namhyoung Kim",
      "photoUrl": "",
      "userId": "10452528424857445283"
     },
     "user_tz": -540
    },
    "id": "fOpfXQCEKhg_",
    "outputId": "7b3ac876-03ae-4460-8ef2-68939d651f4d"
   },
   "outputs": [
    {
     "data": {
      "text/plain": [
       "array([[ 0,  1,  2,  3],\n",
       "       [ 4, -1,  6,  7],\n",
       "       [ 8,  9, 10, 11]])"
      ]
     },
     "execution_count": 33,
     "metadata": {
      "tags": []
     },
     "output_type": "execute_result"
    }
   ],
   "source": [
    "# a의 일부 요소를 변환\n",
    "a[0] = -1\n",
    "\n",
    "# a는 뷰였으므로 x2d에도 변경의 영향이 미친다\n",
    "x2d\n"
   ]
  },
  {
   "cell_type": "markdown",
   "metadata": {
    "id": "LKpMoij_Khg_"
   },
   "source": [
    "### 기본 인덱싱"
   ]
  },
  {
   "cell_type": "code",
   "execution_count": null,
   "metadata": {
    "colab": {
     "base_uri": "https://localhost:8080/"
    },
    "executionInfo": {
     "elapsed": 869,
     "status": "ok",
     "timestamp": 1609508359323,
     "user": {
      "displayName": "Namhyoung Kim",
      "photoUrl": "",
      "userId": "10452528424857445283"
     },
     "user_tz": -540
    },
    "id": "bEWTkEeoKhg_",
    "outputId": "2f261925-986b-40a1-861f-664a6e009d1c"
   },
   "outputs": [
    {
     "data": {
      "text/plain": [
       "array([[ 6,  7],\n",
       "       [10, 11]])"
      ]
     },
     "execution_count": 34,
     "metadata": {
      "tags": []
     },
     "output_type": "execute_result"
    }
   ],
   "source": [
    "# ndarray고유의 방법을 사용\n",
    "b = x2d[1:, 2:]\n",
    "b"
   ]
  },
  {
   "cell_type": "code",
   "execution_count": null,
   "metadata": {
    "colab": {
     "base_uri": "https://localhost:8080/",
     "height": 213
    },
    "executionInfo": {
     "elapsed": 988,
     "status": "error",
     "timestamp": 1609508361248,
     "user": {
      "displayName": "Namhyoung Kim",
      "photoUrl": "",
      "userId": "10452528424857445283"
     },
     "user_tz": -540
    },
    "id": "0qTNDUWaKhg_",
    "outputId": "1600eb15-9089-425d-d007-655cba27f6aa"
   },
   "outputs": [
    {
     "ename": "TypeError",
     "evalue": "ignored",
     "output_type": "error",
     "traceback": [
      "\u001b[0;31m---------------------------------------------------------------------------\u001b[0m",
      "\u001b[0;31mTypeError\u001b[0m                                 Traceback (most recent call last)",
      "\u001b[0;32m<ipython-input-35-65d7e71d3084>\u001b[0m in \u001b[0;36m<module>\u001b[0;34m()\u001b[0m\n\u001b[1;32m      2\u001b[0m \u001b[0mk\u001b[0m \u001b[0;34m=\u001b[0m \u001b[0;34m[\u001b[0m\u001b[0;34m[\u001b[0m\u001b[0;36m1\u001b[0m\u001b[0;34m,\u001b[0m\u001b[0;36m2\u001b[0m\u001b[0;34m,\u001b[0m\u001b[0;36m3\u001b[0m\u001b[0;34m]\u001b[0m\u001b[0;34m,\u001b[0m\u001b[0;34m[\u001b[0m\u001b[0;36m4\u001b[0m\u001b[0;34m,\u001b[0m\u001b[0;36m5\u001b[0m\u001b[0;34m,\u001b[0m\u001b[0;36m6\u001b[0m\u001b[0;34m]\u001b[0m\u001b[0;34m]\u001b[0m\u001b[0;34m\u001b[0m\u001b[0;34m\u001b[0m\u001b[0m\n\u001b[1;32m      3\u001b[0m \u001b[0;34m\u001b[0m\u001b[0m\n\u001b[0;32m----> 4\u001b[0;31m \u001b[0mk\u001b[0m\u001b[0;34m[\u001b[0m\u001b[0;36m1\u001b[0m\u001b[0;34m,\u001b[0m\u001b[0;34m:\u001b[0m\u001b[0;34m]\u001b[0m\u001b[0;34m\u001b[0m\u001b[0;34m\u001b[0m\u001b[0m\n\u001b[0m",
      "\u001b[0;31mTypeError\u001b[0m: list indices must be integers or slices, not tuple"
     ]
    }
   ],
   "source": [
    "# 파이썬의 기본 리스트를 대상으로 위와 같이 슬라이싱하면 오류가 발생한다\n",
    "k = [[1,2,3],[4,5,6]]\n",
    "\n",
    "k[1,:]"
   ]
  },
  {
   "cell_type": "code",
   "execution_count": null,
   "metadata": {
    "colab": {
     "base_uri": "https://localhost:8080/"
    },
    "executionInfo": {
     "elapsed": 901,
     "status": "ok",
     "timestamp": 1609508373119,
     "user": {
      "displayName": "Namhyoung Kim",
      "photoUrl": "",
      "userId": "10452528424857445283"
     },
     "user_tz": -540
    },
    "id": "5esf1WFsKhhA",
    "outputId": "87105a7d-4741-4335-8d9d-93a19599eb7a"
   },
   "outputs": [
    {
     "data": {
      "text/plain": [
       "[4, 5, 6]"
      ]
     },
     "execution_count": 36,
     "metadata": {
      "tags": []
     },
     "output_type": "execute_result"
    }
   ],
   "source": [
    "k[1][:]"
   ]
  },
  {
   "cell_type": "code",
   "execution_count": null,
   "metadata": {
    "colab": {
     "base_uri": "https://localhost:8080/"
    },
    "executionInfo": {
     "elapsed": 851,
     "status": "ok",
     "timestamp": 1609508376329,
     "user": {
      "displayName": "Namhyoung Kim",
      "photoUrl": "",
      "userId": "10452528424857445283"
     },
     "user_tz": -540
    },
    "id": "Zfg1U8LDKhhA",
    "outputId": "0aa38342-3d3f-469b-8591-cde5ab6ff6b7"
   },
   "outputs": [
    {
     "data": {
      "text/plain": [
       "array([[ 0,  1,  2,  3],\n",
       "       [ 4, -1, 20, 20],\n",
       "       [ 8,  9, 20, 20]])"
      ]
     },
     "execution_count": 37,
     "metadata": {
      "tags": []
     },
     "output_type": "execute_result"
    }
   ],
   "source": [
    "b[:, :]=20\n",
    "\n",
    "#b는 뷰이므로 위에서 변경한 결과가 x2d에도 반영된다\n",
    "x2d"
   ]
  },
  {
   "cell_type": "markdown",
   "metadata": {
    "id": "dnUZBIoEKhhA"
   },
   "source": [
    "### 응용 인덱싱\n",
    "#### 사본 생성"
   ]
  },
  {
   "cell_type": "code",
   "execution_count": null,
   "metadata": {
    "colab": {
     "base_uri": "https://localhost:8080/"
    },
    "executionInfo": {
     "elapsed": 905,
     "status": "ok",
     "timestamp": 1609508381264,
     "user": {
      "displayName": "Namhyoung Kim",
      "photoUrl": "",
      "userId": "10452528424857445283"
     },
     "user_tz": -540
    },
    "id": "vjtZHxwyKhhA",
    "outputId": "63034815-8f0a-420b-b8e3-61977976c02e"
   },
   "outputs": [
    {
     "data": {
      "text/plain": [
       "array([[0.91251103, 0.08011912, 0.7743345 ],\n",
       "       [0.37672757, 0.94898571, 0.85473575]])"
      ]
     },
     "execution_count": 38,
     "metadata": {
      "tags": []
     },
     "output_type": "execute_result"
    }
   ],
   "source": [
    "### 부울(bool)값 인덱싱의 예\n",
    "# 난수 값을 생성한다\n",
    "dat = np.random.rand(2,3)\n",
    "dat"
   ]
  },
  {
   "cell_type": "code",
   "execution_count": null,
   "metadata": {
    "colab": {
     "base_uri": "https://localhost:8080/"
    },
    "executionInfo": {
     "elapsed": 1006,
     "status": "ok",
     "timestamp": 1609508383075,
     "user": {
      "displayName": "Namhyoung Kim",
      "photoUrl": "",
      "userId": "10452528424857445283"
     },
     "user_tz": -540
    },
    "id": "Ycsta6MWKhhA",
    "outputId": "0c2cc65e-0d88-4863-bafa-9d09657f829f"
   },
   "outputs": [
    {
     "data": {
      "text/plain": [
       "array([[ True, False,  True],\n",
       "       [False,  True,  True]])"
      ]
     },
     "execution_count": 39,
     "metadata": {
      "tags": []
     },
     "output_type": "execute_result"
    }
   ],
   "source": [
    "# 기준 0.5 값을 넘는 부울 값 배열을 만든다\n",
    "bmask = dat > 0.5\n",
    "bmask"
   ]
  },
  {
   "cell_type": "code",
   "execution_count": null,
   "metadata": {
    "colab": {
     "base_uri": "https://localhost:8080/"
    },
    "executionInfo": {
     "elapsed": 840,
     "status": "ok",
     "timestamp": 1609508384837,
     "user": {
      "displayName": "Namhyoung Kim",
      "photoUrl": "",
      "userId": "10452528424857445283"
     },
     "user_tz": -540
    },
    "id": "9xssp1qkKhhA",
    "outputId": "1f3bc300-a327-4415-c137-65858c3f3b27"
   },
   "outputs": [
    {
     "data": {
      "text/plain": [
       "array([0.91251103, 0.7743345 , 0.94898571, 0.85473575])"
      ]
     },
     "execution_count": 40,
     "metadata": {
      "tags": []
     },
     "output_type": "execute_result"
    }
   ],
   "source": [
    "# ndarray dat에 대해 부울 값 배열로 인덱싱한다\n",
    "highd = dat[bmask]\n",
    "highd"
   ]
  },
  {
   "cell_type": "code",
   "execution_count": null,
   "metadata": {
    "colab": {
     "base_uri": "https://localhost:8080/"
    },
    "executionInfo": {
     "elapsed": 549,
     "status": "ok",
     "timestamp": 1609508386104,
     "user": {
      "displayName": "Namhyoung Kim",
      "photoUrl": "",
      "userId": "10452528424857445283"
     },
     "user_tz": -540
    },
    "id": "kSWZw9RIKhhB",
    "outputId": "c08aab60-fd82-4fe9-ef59-5cc893a5e8c4"
   },
   "outputs": [
    {
     "data": {
      "text/plain": [
       "array([10.        ,  0.7743345 ,  0.94898571,  0.85473575])"
      ]
     },
     "execution_count": 41,
     "metadata": {
      "tags": []
     },
     "output_type": "execute_result"
    }
   ],
   "source": [
    "# highd의 일부를 변경한다\n",
    "highd[0] = 10\n",
    "highd"
   ]
  },
  {
   "cell_type": "code",
   "execution_count": null,
   "metadata": {
    "colab": {
     "base_uri": "https://localhost:8080/"
    },
    "executionInfo": {
     "elapsed": 848,
     "status": "ok",
     "timestamp": 1609508387955,
     "user": {
      "displayName": "Namhyoung Kim",
      "photoUrl": "",
      "userId": "10452528424857445283"
     },
     "user_tz": -540
    },
    "id": "A4jHydj-KhhB",
    "outputId": "1afd6d74-f215-4641-e825-7a07b4e67cec"
   },
   "outputs": [
    {
     "data": {
      "text/plain": [
       "array([[0.91251103, 0.08011912, 0.7743345 ],\n",
       "       [0.37672757, 0.94898571, 0.85473575]])"
      ]
     },
     "execution_count": 42,
     "metadata": {
      "tags": []
     },
     "output_type": "execute_result"
    }
   ],
   "source": [
    "# 위에서 highd를 변경했지만 dat에는 반영되지 않았다.  highd는 dat의 사본\n",
    "dat"
   ]
  },
  {
   "cell_type": "markdown",
   "metadata": {
    "id": "c43D3cpBKhhB"
   },
   "source": [
    "#### 정수 배열 인덱싱"
   ]
  },
  {
   "cell_type": "code",
   "execution_count": null,
   "metadata": {
    "colab": {
     "base_uri": "https://localhost:8080/"
    },
    "executionInfo": {
     "elapsed": 854,
     "status": "ok",
     "timestamp": 1609508392985,
     "user": {
      "displayName": "Namhyoung Kim",
      "photoUrl": "",
      "userId": "10452528424857445283"
     },
     "user_tz": -540
    },
    "id": "KWBInibGKhhB",
    "outputId": "a1610476-84c2-4561-c481-14f326b9e3cf"
   },
   "outputs": [
    {
     "data": {
      "text/plain": [
       "array([0, 1, 2, 3, 4, 5, 6, 7, 8, 9])"
      ]
     },
     "execution_count": 43,
     "metadata": {
      "tags": []
     },
     "output_type": "execute_result"
    }
   ],
   "source": [
    "# 1차원 ndarray\n",
    "nda = np.arange(10); nda"
   ]
  },
  {
   "cell_type": "code",
   "execution_count": null,
   "metadata": {
    "colab": {
     "base_uri": "https://localhost:8080/"
    },
    "executionInfo": {
     "elapsed": 856,
     "status": "ok",
     "timestamp": 1609508394915,
     "user": {
      "displayName": "Namhyoung Kim",
      "photoUrl": "",
      "userId": "10452528424857445283"
     },
     "user_tz": -540
    },
    "id": "c3B7HlQrKhhB",
    "outputId": "eccfe2b5-a11a-4b41-a85e-074b589dc403"
   },
   "outputs": [
    {
     "data": {
      "text/plain": [
       "array([1, 2, 3])"
      ]
     },
     "execution_count": 44,
     "metadata": {
      "tags": []
     },
     "output_type": "execute_result"
    }
   ],
   "source": [
    "# 앞서 설명했던 기본 인덱싱의 방법(슬라이싱)으로 ndb라는 뷰를 만든다\n",
    "ndb = nda[1:4]\n",
    "ndb"
   ]
  },
  {
   "cell_type": "code",
   "execution_count": null,
   "metadata": {
    "colab": {
     "base_uri": "https://localhost:8080/"
    },
    "executionInfo": {
     "elapsed": 832,
     "status": "ok",
     "timestamp": 1609508397359,
     "user": {
      "displayName": "Namhyoung Kim",
      "photoUrl": "",
      "userId": "10452528424857445283"
     },
     "user_tz": -540
    },
    "id": "XoYQvzKyKhhB",
    "outputId": "0861e62e-9bc4-4847-8b00-cd5eda10b4a6"
   },
   "outputs": [
    {
     "data": {
      "text/plain": [
       "array([1, 2, 3])"
      ]
     },
     "execution_count": 45,
     "metadata": {
      "tags": []
     },
     "output_type": "execute_result"
    }
   ],
   "source": [
    "# 정수 배열 인덱싱으로 ndc라는 사본을 만든다 (리스트의 형태로 인덱스를 넘긴다)\n",
    "ndc = nda[[1,2,3]]\n",
    "ndc"
   ]
  },
  {
   "cell_type": "code",
   "execution_count": null,
   "metadata": {
    "colab": {
     "base_uri": "https://localhost:8080/"
    },
    "executionInfo": {
     "elapsed": 829,
     "status": "ok",
     "timestamp": 1609508399155,
     "user": {
      "displayName": "Namhyoung Kim",
      "photoUrl": "",
      "userId": "10452528424857445283"
     },
     "user_tz": -540
    },
    "id": "_CVyEuW2KhhC",
    "outputId": "e24212c5-7438-404f-aa80-4e34a7a26433"
   },
   "outputs": [
    {
     "data": {
      "text/plain": [
       "array([ True,  True,  True])"
      ]
     },
     "execution_count": 46,
     "metadata": {
      "tags": []
     },
     "output_type": "execute_result"
    }
   ],
   "source": [
    "# ndb와 ndc는 그 내용이 같다\n",
    "ndb == ndc\n",
    "### ndb와 ndc는 같은 값을 갖고 있지만 ndc는 사본이므로 일부 요소의 값을 변경해도 원래 배열 nda에 영향을 미치지 못한다\n"
   ]
  },
  {
   "cell_type": "code",
   "execution_count": null,
   "metadata": {
    "colab": {
     "base_uri": "https://localhost:8080/"
    },
    "executionInfo": {
     "elapsed": 838,
     "status": "ok",
     "timestamp": 1609508403250,
     "user": {
      "displayName": "Namhyoung Kim",
      "photoUrl": "",
      "userId": "10452528424857445283"
     },
     "user_tz": -540
    },
    "id": "Lm0e34POKhhC",
    "outputId": "b0fe5648-a2e2-4ad3-ac4b-e8bee8b55925"
   },
   "outputs": [
    {
     "data": {
      "text/plain": [
       "False"
      ]
     },
     "execution_count": 47,
     "metadata": {
      "tags": []
     },
     "output_type": "execute_result"
    }
   ],
   "source": [
    "ndb is ndc"
   ]
  },
  {
   "cell_type": "markdown",
   "metadata": {
    "id": "sxghWfSpKhhC"
   },
   "source": [
    "#### 여러 개의 배열을 사용한 인덱싱"
   ]
  },
  {
   "cell_type": "code",
   "execution_count": null,
   "metadata": {
    "colab": {
     "base_uri": "https://localhost:8080/"
    },
    "executionInfo": {
     "elapsed": 838,
     "status": "ok",
     "timestamp": 1609508412493,
     "user": {
      "displayName": "Namhyoung Kim",
      "photoUrl": "",
      "userId": "10452528424857445283"
     },
     "user_tz": -540
    },
    "id": "--JlfhL4KhhC",
    "outputId": "e06c3693-7b85-4fd7-ea2c-3d4d9da703f7"
   },
   "outputs": [
    {
     "data": {
      "text/plain": [
       "array([[ 0,  1,  2,  3],\n",
       "       [ 4,  5,  6,  7],\n",
       "       [ 8,  9, 10, 11]])"
      ]
     },
     "execution_count": 48,
     "metadata": {
      "tags": []
     },
     "output_type": "execute_result"
    }
   ],
   "source": [
    "# 2차원 3x4 ndarray\n",
    "nda = np.arange(12).reshape((3,4)); nda\n"
   ]
  },
  {
   "cell_type": "code",
   "execution_count": null,
   "metadata": {
    "colab": {
     "base_uri": "https://localhost:8080/"
    },
    "executionInfo": {
     "elapsed": 869,
     "status": "ok",
     "timestamp": 1609508413820,
     "user": {
      "displayName": "Namhyoung Kim",
      "photoUrl": "",
      "userId": "10452528424857445283"
     },
     "user_tz": -540
    },
    "id": "P47xSlJdKhhC",
    "outputId": "45947200-b51d-48ac-d603-32b8061a22d7"
   },
   "outputs": [
    {
     "data": {
      "text/plain": [
       "array([2, 8, 7])"
      ]
     },
     "execution_count": 49,
     "metadata": {
      "tags": []
     },
     "output_type": "execute_result"
    }
   ],
   "source": [
    "### 여러 개의 배열을 사용한 인덱싱의 예\n",
    "# 위치 (0,2), (2,0), (1,3)의 값을 꺼낸다\n",
    "ndb = nda[[0,2,1], [2,0,3]]\n",
    "ndb"
   ]
  },
  {
   "cell_type": "code",
   "execution_count": null,
   "metadata": {
    "colab": {
     "base_uri": "https://localhost:8080/"
    },
    "executionInfo": {
     "elapsed": 550,
     "status": "ok",
     "timestamp": 1609508414894,
     "user": {
      "displayName": "Namhyoung Kim",
      "photoUrl": "",
      "userId": "10452528424857445283"
     },
     "user_tz": -540
    },
    "id": "7Y8uyULgKhhD",
    "outputId": "566c5b26-2210-4492-e2d4-290419d56d84"
   },
   "outputs": [
    {
     "data": {
      "text/plain": [
       "array([[ 1,  3],\n",
       "       [ 9, 11]])"
      ]
     },
     "execution_count": 50,
     "metadata": {
      "tags": []
     },
     "output_type": "execute_result"
    }
   ],
   "source": [
    "### 특정 행과 열이 교차하는 자리에 위치한 요소를 꺼낼 때는 np.ix_ 함수를 사용한다\n",
    "# (0,2)행과, (1,3)열이 교차하는 요소를 꺼낸다\n",
    "nda[np.ix_([0,2], [1,3])]"
   ]
  },
  {
   "cell_type": "code",
   "execution_count": null,
   "metadata": {
    "colab": {
     "base_uri": "https://localhost:8080/"
    },
    "executionInfo": {
     "elapsed": 603,
     "status": "ok",
     "timestamp": 1609508416126,
     "user": {
      "displayName": "Namhyoung Kim",
      "photoUrl": "",
      "userId": "10452528424857445283"
     },
     "user_tz": -540
    },
    "id": "R78Uqee-KhhD",
    "outputId": "d3277a3a-6730-4f84-9548-e4d26fa5d851",
    "scrolled": true
   },
   "outputs": [
    {
     "name": "stdout",
     "output_type": "stream",
     "text": [
      "[[ 0  4  8]\n",
      " [ 1  5  9]\n",
      " [ 2  6 10]\n",
      " [ 3  7 11]]\n"
     ]
    }
   ],
   "source": [
    "# Fortran과 같은 방식으로 열방향 우선 메모리 배치 지정\n",
    "nda = np.arange(12).reshape(4,3,order='F')\n",
    "print(nda)\n",
    "\n",
    "# C와 같이 행방향 우선 메모리 배치 지정\n",
    "ndb = np.zeros((3,3), order = 'C')\n",
    "\n"
   ]
  },
  {
   "cell_type": "markdown",
   "metadata": {
    "id": "AEF0VSdBKhhD"
   },
   "source": [
    "## 유니버셜 함수"
   ]
  },
  {
   "cell_type": "code",
   "execution_count": null,
   "metadata": {
    "colab": {
     "base_uri": "https://localhost:8080/"
    },
    "executionInfo": {
     "elapsed": 846,
     "status": "ok",
     "timestamp": 1609508421361,
     "user": {
      "displayName": "Namhyoung Kim",
      "photoUrl": "",
      "userId": "10452528424857445283"
     },
     "user_tz": -540
    },
    "id": "MnG7EWdaKhhD",
    "outputId": "5bcc0a3c-90ef-453c-d4e2-47e551c3e911"
   },
   "outputs": [
    {
     "data": {
      "text/plain": [
       "array([[ 0,  1,  2,  3,  4,  5],\n",
       "       [ 6,  7,  8,  9, 10, 11]])"
      ]
     },
     "execution_count": 52,
     "metadata": {
      "tags": []
     },
     "output_type": "execute_result"
    }
   ],
   "source": [
    "# 2x6 ndarray를 만든다\n",
    "nda = np.arange(12).reshape(2,6)\n",
    "\n",
    "nda\n"
   ]
  },
  {
   "cell_type": "code",
   "execution_count": null,
   "metadata": {
    "colab": {
     "base_uri": "https://localhost:8080/"
    },
    "executionInfo": {
     "elapsed": 1196,
     "status": "ok",
     "timestamp": 1609508422610,
     "user": {
      "displayName": "Namhyoung Kim",
      "photoUrl": "",
      "userId": "10452528424857445283"
     },
     "user_tz": -540
    },
    "id": "7n_mj1CmKhhD",
    "outputId": "823b0099-ac0e-43ee-911f-bba09182b116"
   },
   "outputs": [
    {
     "data": {
      "text/plain": [
       "array([[  0,   1,   4,   9,  16,  25],\n",
       "       [ 36,  49,  64,  81, 100, 121]])"
      ]
     },
     "execution_count": 53,
     "metadata": {
      "tags": []
     },
     "output_type": "execute_result"
    }
   ],
   "source": [
    "# nda에 ufunc(square)를 적용하여 각 요소를 제곱한다\n",
    "np.square(nda)\n"
   ]
  },
  {
   "cell_type": "code",
   "execution_count": null,
   "metadata": {
    "id": "bUe8qBaYKhhD"
   },
   "outputs": [],
   "source": [
    "np.sin?"
   ]
  },
  {
   "cell_type": "markdown",
   "metadata": {
    "id": "CdbwdoEdKhhE"
   },
   "source": [
    " ## 브로드캐스팅"
   ]
  },
  {
   "cell_type": "code",
   "execution_count": null,
   "metadata": {
    "colab": {
     "base_uri": "https://localhost:8080/"
    },
    "executionInfo": {
     "elapsed": 853,
     "status": "ok",
     "timestamp": 1609508428784,
     "user": {
      "displayName": "Namhyoung Kim",
      "photoUrl": "",
      "userId": "10452528424857445283"
     },
     "user_tz": -540
    },
    "id": "OhRvuvcQKhhE",
    "outputId": "72e295a8-96d4-4b02-bb25-061027637725"
   },
   "outputs": [
    {
     "data": {
      "text/plain": [
       "array([2, 3, 4])"
      ]
     },
     "execution_count": 55,
     "metadata": {
      "tags": []
     },
     "output_type": "execute_result"
    }
   ],
   "source": [
    "# 1x3 ndarray\n",
    "nda = np.array([1,2,3])\n",
    "\n",
    "# 1x3 ndarray에 스칼라 1을 더한다\n",
    "nda+1"
   ]
  },
  {
   "cell_type": "code",
   "execution_count": null,
   "metadata": {
    "colab": {
     "base_uri": "https://localhost:8080/"
    },
    "executionInfo": {
     "elapsed": 845,
     "status": "ok",
     "timestamp": 1609508437186,
     "user": {
      "displayName": "Namhyoung Kim",
      "photoUrl": "",
      "userId": "10452528424857445283"
     },
     "user_tz": -540
    },
    "id": "G3OAre6aKhhE",
    "outputId": "c37c283e-4762-4a97-eca1-612abe4fb48b"
   },
   "outputs": [
    {
     "data": {
      "text/plain": [
       "array([[[ 0,  2],\n",
       "        [ 3,  5],\n",
       "        [ 6,  8]],\n",
       "\n",
       "       [[ 6,  8],\n",
       "        [ 9, 11],\n",
       "        [12, 14]],\n",
       "\n",
       "       [[12, 14],\n",
       "        [15, 17],\n",
       "        [18, 20]],\n",
       "\n",
       "       [[18, 20],\n",
       "        [21, 23],\n",
       "        [24, 26]]])"
      ]
     },
     "execution_count": 56,
     "metadata": {
      "tags": []
     },
     "output_type": "execute_result"
    }
   ],
   "source": [
    "nda = np.arange(24).reshape(4,3,2)\n",
    "\n",
    "ndb = np.arange(6).reshape(3,2)\n",
    "\n",
    "ndc = np.arange(3).reshape(3,1)\n",
    "\n",
    "# 이 연산은 브로드캐스팅으로 수행이 가능하다\n",
    "nda+ndb-ndc\n",
    "\n"
   ]
  },
  {
   "cell_type": "code",
   "execution_count": null,
   "metadata": {
    "colab": {
     "base_uri": "https://localhost:8080/"
    },
    "executionInfo": {
     "elapsed": 858,
     "status": "ok",
     "timestamp": 1609508439954,
     "user": {
      "displayName": "Namhyoung Kim",
      "photoUrl": "",
      "userId": "10452528424857445283"
     },
     "user_tz": -540
    },
    "id": "1QRz5942KhhE",
    "outputId": "82d528c2-b6d3-434c-9fc5-c7e82d094258"
   },
   "outputs": [
    {
     "data": {
      "text/plain": [
       "array([[ 0,  2,  4,  6],\n",
       "       [ 4,  6,  8, 10],\n",
       "       [ 8, 10, 12, 14]])"
      ]
     },
     "execution_count": 57,
     "metadata": {
      "tags": []
     },
     "output_type": "execute_result"
    }
   ],
   "source": [
    "nda = np.arange(12).reshape(3,4)\n",
    "\n",
    "# 크기 (4, )인 배열.   크기가 (4,1)이 아니란 것에 유의!\n",
    "ndb = np.arange(4)\n",
    "\n",
    "# 브로드캐스팅으로 계산 가능\n",
    "nda + ndb\n"
   ]
  },
  {
   "cell_type": "code",
   "execution_count": null,
   "metadata": {
    "colab": {
     "base_uri": "https://localhost:8080/",
     "height": 213
    },
    "executionInfo": {
     "elapsed": 901,
     "status": "error",
     "timestamp": 1609508442077,
     "user": {
      "displayName": "Namhyoung Kim",
      "photoUrl": "",
      "userId": "10452528424857445283"
     },
     "user_tz": -540
    },
    "id": "JIiOLZo2KhhE",
    "outputId": "7d138d58-bb56-47e3-b86e-ea1bea49aa12",
    "scrolled": true
   },
   "outputs": [
    {
     "ename": "ValueError",
     "evalue": "ignored",
     "output_type": "error",
     "traceback": [
      "\u001b[0;31m---------------------------------------------------------------------------\u001b[0m",
      "\u001b[0;31mValueError\u001b[0m                                Traceback (most recent call last)",
      "\u001b[0;32m<ipython-input-58-006f1996831e>\u001b[0m in \u001b[0;36m<module>\u001b[0;34m()\u001b[0m\n\u001b[1;32m      2\u001b[0m \u001b[0;34m\u001b[0m\u001b[0m\n\u001b[1;32m      3\u001b[0m \u001b[0;31m# 오류 발생\u001b[0m\u001b[0;34m\u001b[0m\u001b[0;34m\u001b[0m\u001b[0;34m\u001b[0m\u001b[0m\n\u001b[0;32m----> 4\u001b[0;31m \u001b[0mnda\u001b[0m \u001b[0;34m+\u001b[0m \u001b[0mndb\u001b[0m\u001b[0;34m\u001b[0m\u001b[0;34m\u001b[0m\u001b[0m\n\u001b[0m",
      "\u001b[0;31mValueError\u001b[0m: operands could not be broadcast together with shapes (3,4) (4,1) "
     ]
    }
   ],
   "source": [
    "ndb = np.arange(4).reshape(4,1)\n",
    "\n",
    "# 오류 발생\n",
    "nda + ndb\n"
   ]
  },
  {
   "cell_type": "code",
   "execution_count": null,
   "metadata": {
    "id": "ElzIx86UKhhE"
   },
   "outputs": [],
   "source": []
  }
 ],
 "metadata": {
  "colab": {
   "name": "Numpy.ipynb",
   "provenance": []
  },
  "kernelspec": {
   "display_name": "Python 3",
   "language": "python",
   "name": "python3"
  },
  "language_info": {
   "codemirror_mode": {
    "name": "ipython",
    "version": 3
   },
   "file_extension": ".py",
   "mimetype": "text/x-python",
   "name": "python",
   "nbconvert_exporter": "python",
   "pygments_lexer": "ipython3",
   "version": "3.8.3"
  }
 },
 "nbformat": 4,
 "nbformat_minor": 1
}
